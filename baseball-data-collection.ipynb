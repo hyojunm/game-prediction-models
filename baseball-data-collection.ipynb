{
 "cells": [
  {
   "cell_type": "code",
   "execution_count": null,
   "id": "93ed065e-ab21-4466-9449-c99441983b7f",
   "metadata": {},
   "outputs": [],
   "source": [
    "import sys\n",
    "!{sys.executable} -m pip install pandas pybaseball"
   ]
  },
  {
   "cell_type": "code",
   "execution_count": 1,
   "id": "279ba001-bec3-4f8f-b376-eca0681251f6",
   "metadata": {},
   "outputs": [],
   "source": [
    "from pybaseball import playerid_lookup, team_batting, team_pitching, pitching_stats, playerid_lookup, statcast_batter, schedule_and_record"
   ]
  },
  {
   "cell_type": "code",
   "execution_count": 19,
   "id": "731bb9d1-ebdd-4ed7-844b-1755fe3e5c6c",
   "metadata": {},
   "outputs": [
    {
     "data": {
      "text/plain": [
       "20    4.34\n",
       "Name: xFIP, dtype: float64"
      ]
     },
     "execution_count": 19,
     "metadata": {},
     "output_type": "execute_result"
    }
   ],
   "source": [
    "# team xFIP (last 3 seasons)\n",
    "team_xfip_df = team_pitching(2021, 2023, ind=0)\n",
    "team_xfip = team_xfip_df['xFIP'].loc[team_xfip_df['Team'] == 'TEX']\n",
    "team_xfip"
   ]
  },
  {
   "cell_type": "code",
   "execution_count": 28,
   "id": "48384d15-40b4-4cc8-a6f6-4c779576877d",
   "metadata": {},
   "outputs": [
    {
     "data": {
      "text/plain": [
       "43    3.63\n",
       "Name: xFIP, dtype: float64"
      ]
     },
     "execution_count": 28,
     "metadata": {},
     "output_type": "execute_result"
    }
   ],
   "source": [
    "# starting pitcher xFIP (last 3 seasons)\n",
    "starter_xfip_df = pitching_stats(2021, 2023, ind=0)\n",
    "starter_xfip = starter_xfip_df['xFIP'].loc[starter_xfip_df['Name'] == 'Nathan Eovaldi']\n",
    "starter_xfip"
   ]
  },
  {
   "cell_type": "code",
   "execution_count": null,
   "id": "bc15fcdf-5945-4a80-9f00-4c2571c3d17a",
   "metadata": {},
   "outputs": [],
   "source": [
    "==============================================================================================================================="
   ]
  },
  {
   "cell_type": "code",
   "execution_count": 1,
   "id": "870712ae-2bea-429e-aa04-f5086ba62e7e",
   "metadata": {},
   "outputs": [],
   "source": [
    "import pandas as pd"
   ]
  },
  {
   "cell_type": "code",
   "execution_count": null,
   "id": "cd5ec3a7-b62d-4e74-b879-b960d961b100",
   "metadata": {},
   "outputs": [],
   "source": [
    "team_xwoba_df = pd.read_csv('data/team_xwoba.csv')\n",
    "player_xwoba_df = pd.read_csv('data/player_xwoba.csv')"
   ]
  },
  {
   "cell_type": "code",
   "execution_count": 13,
   "id": "e9813aa3-7f47-4527-b52b-5f06b6f74117",
   "metadata": {},
   "outputs": [],
   "source": [
    "# training data - game results from 2017-2022\n",
    "train_data = {\n",
    "    'away_team': [],\n",
    "    'away_score': [],\n",
    "    'away_team_xwoba': [],\n",
    "    'away_lineup_xwoba': [],\n",
    "    'away_team_xfip': [],\n",
    "    'away_starter_xfip': [],\n",
    "    'away_close_win_pct': [],\n",
    "    'away_run_diff': [],\n",
    "    'home_team': [],\n",
    "    'home_score': [],\n",
    "    'home_team_xwoba': [],\n",
    "    'home_lineup_xwoba': [],\n",
    "    'home_team_xfip': [],\n",
    "    'home_starter_xfip': [],\n",
    "    'home_close_win_pct': [],\n",
    "    'home_run_diff': []\n",
    "}"
   ]
  },
  {
   "cell_type": "code",
   "execution_count": 15,
   "id": "f814152c-c615-42d6-896c-ec3bf4a80ddc",
   "metadata": {},
   "outputs": [],
   "source": [
    "# enter individual game data into the dictionary\n",
    "def write_data(data, year):\n",
    "    df = pd.read_csv(f'data/gamelogs/gl{year}.txt')\n",
    "\n",
    "    for index, row in df.iterrows():\n",
    "        data['away_team'] = row['away_team']\n",
    "        data['away_score'] = row['away_score']\n",
    "        data['away_team_xwoba'] = get_team_xwoba(year, row['away_team'])\n",
    "        data['away_lineup_xwoba'] = get_team_xwoba(year, [row['away_1_name'], row['away_2_name'], row['away_3_name'],\n",
    "                                                                row['away_4_name'], row['away_5_name'], row['away_6_name'],\n",
    "                                                                row['away_7_name'], row['away_8_name'], row['away_9_name']])\n",
    "        data['away_team_xfip'] = get_team_xfip(year, row['away_team'])\n",
    "        data['away_starter_xfip'] = get_starter_xfip(year, row['away_starter'])\n",
    "        data['away_close_win_pct'] = get_close_win_pct(year, row['away_team'])\n",
    "        data['away_run_diff'] = get_run_diff(year, row['away_team'])\n",
    "        data['home_team'] = row['home_team']\n",
    "        data['home_score'] = row['home_score']\n",
    "        data['home_team_xwoba'] = get_team_xwoba(year, row['home_team'])\n",
    "        data['home_lineup_xwoba'] = get_team_xwoba(year, [row['home_1_name'], row['home_2_name'], row['home_3_name'],\n",
    "                                                                row['home_4_name'], row['home_5_name'], row['home_6_name'],\n",
    "                                                                row['home_7_name'], row['home_8_name'], row['home_9_name']])\n",
    "        data['home_team_xfip'] = get_team_xfip(year, row['home_team'])\n",
    "        data['home_starter_xfip'] = get_starter_xfip(year, row['home_starter'])\n",
    "        data['home_close_win_pct'] = get_close_win_pct(year, row['home_team'])\n",
    "        data['home_run_diff'] = get_run_diff(year, row['home_team'])"
   ]
  },
  {
   "cell_type": "code",
   "execution_count": 30,
   "id": "da717183-73d5-4c5b-9e52-926d98c9cf82",
   "metadata": {},
   "outputs": [],
   "source": [
    "tc_retro = {\n",
    "    'HOU': 'HOU',\n",
    "    'TEX': 'TEX',\n",
    "    'ANA': 'LAA',\n",
    "    'OAK': 'OAK',\n",
    "    'SEA': 'SEA',\n",
    "\n",
    "    'KCA': 'KC',\n",
    "    'DET': 'DET',\n",
    "    'CLE': 'CLE',\n",
    "    'MIN': 'MIN',\n",
    "    'CHA': 'CWS',\n",
    "\n",
    "    'NYA': 'NYY',\n",
    "    'BOS': 'BOS',\n",
    "    'TBA': 'TB',\n",
    "    'TOR': 'TOR',\n",
    "    'BAL': 'BAL',\n",
    "    \n",
    "    'LAN': 'LAD',\n",
    "    'SDN': 'SD',\n",
    "    'COL': 'COL',\n",
    "    'ARI': 'AZ',\n",
    "    'SFN': 'SF',\n",
    "    \n",
    "    'MIL': 'MIL',\n",
    "    'PIT': 'PIT',\n",
    "    'SLN': 'STL',\n",
    "    'CIN': 'CIN',\n",
    "    'CHN': 'CHC',\n",
    "\n",
    "    'NYN': 'NYM',\n",
    "    'ATL': 'ATL',\n",
    "    'PHI': 'PHI',\n",
    "    'WAS': 'WSH',\n",
    "    'MIA': 'MIA',\n",
    "}"
   ]
  },
  {
   "cell_type": "code",
   "execution_count": 31,
   "id": "66185c0f-1f56-46a0-bc11-64ccb44e8c85",
   "metadata": {},
   "outputs": [],
   "source": [
    "### DON'T NEED TO RUN AGAIN!!!\n",
    "### but double check the csv file with Baseball-Reference data\n",
    "\n",
    "# run through gamelogs to calculate close_win_pct and run_diff\n",
    "\n",
    "team_metrics = {\n",
    "    'team': [],\n",
    "    'year': [],\n",
    "    'close_games': [],\n",
    "    'close_win_pct': [],\n",
    "    'run_diff': []\n",
    "}\n",
    "\n",
    "for year in range(2015, 2024):\n",
    "    df = pd.read_csv(f'data/gamelogs/gl{year}.txt')\n",
    "\n",
    "    for team in tc_retro:\n",
    "        total_rs = 0\n",
    "        total_ra = 0\n",
    "        close_wins = 0\n",
    "        close_losses = 0\n",
    "        \n",
    "        for index, row in df.iterrows():\n",
    "            if row['away_team'] != team and row['home_team'] != team:\n",
    "                continue\n",
    "\n",
    "            if row['away_team'] == team:\n",
    "                rs = row['away_score']\n",
    "                ra = row['home_score']\n",
    "            elif row['home_team'] == team:\n",
    "                rs = row['home_score']\n",
    "                ra = row['away_score']\n",
    "                \n",
    "            total_rs += rs\n",
    "            total_ra += ra\n",
    "\n",
    "            if abs(rs - ra) <= 1:\n",
    "                if rs > ra:\n",
    "                    close_wins += 1\n",
    "                elif ra > rs:\n",
    "                    close_losses += 1\n",
    "\n",
    "        team_metrics['team'].append(tc_retro[team])\n",
    "        team_metrics['year'].append(year)\n",
    "        team_metrics['close_games'].append(close_wins + close_losses)\n",
    "        team_metrics['close_win_pct'].append(close_wins / (close_wins + close_losses))\n",
    "        team_metrics['run_diff'].append(total_rs - total_ra)"
   ]
  },
  {
   "cell_type": "code",
   "execution_count": 33,
   "id": "62d9ac3a-f4db-4882-9609-9a9e9d65e49c",
   "metadata": {},
   "outputs": [],
   "source": [
    "# save results from previous cell to csv file\n",
    "\n",
    "team_metrics_df = pd.DataFrame(team_metrics)\n",
    "team_metrics_df.to_csv('data/team_metrics.csv', index=False)"
   ]
  },
  {
   "cell_type": "code",
   "execution_count": null,
   "id": "a277c950-842e-42fe-9983-f3ed88caa7f6",
   "metadata": {},
   "outputs": [],
   "source": []
  }
 ],
 "metadata": {
  "kernelspec": {
   "display_name": "env",
   "language": "python",
   "name": "env"
  },
  "language_info": {
   "codemirror_mode": {
    "name": "ipython",
    "version": 3
   },
   "file_extension": ".py",
   "mimetype": "text/x-python",
   "name": "python",
   "nbconvert_exporter": "python",
   "pygments_lexer": "ipython3",
   "version": "3.12.4"
  }
 },
 "nbformat": 4,
 "nbformat_minor": 5
}
