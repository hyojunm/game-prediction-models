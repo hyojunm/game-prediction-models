{
 "cells": [
  {
   "cell_type": "code",
   "execution_count": 5,
   "id": "9be80169-6fff-4c3a-bfa4-be6fc6d37377",
   "metadata": {},
   "outputs": [],
   "source": [
    "import pandas as pd\n",
    "\n",
    "from sklearn.ensemble import RandomForestRegressor\n",
    "from sklearn.multioutput import MultiOutputRegressor\n",
    "\n",
    "from analysis import wl_accuracy, season_record, runs_per_game\n",
    "from data_format import create_data"
   ]
  },
  {
   "cell_type": "code",
   "execution_count": 2,
   "id": "21d47d28-b0b1-4ebd-884c-138a552dc15b",
   "metadata": {},
   "outputs": [],
   "source": [
    "version = 6\n",
    "df = pd.read_csv(f'./data/baseball/training/game_data_v{version}.csv')"
   ]
  },
  {
   "cell_type": "code",
   "execution_count": 3,
   "id": "3e82a7bc-611e-4aa0-81bf-c0030eacbfea",
   "metadata": {},
   "outputs": [],
   "source": [
    "x_train_away, x_test_away, y_train_away, y_test_away = create_data(df, drop_cols=['away_score', 'home_score',\n",
    "                                                                              'away_team', 'home_team',\n",
    "                                                                              'away_team_xfip', 'away_starter_xfip',\n",
    "                                                                              'home_lineup_xwoba', 'home_run_diff',\n",
    "                                                                              'away_team_xwoba_diff', 'away_run_diff'],\n",
    "                                                                   y_col=['away_score', 'home_score'],\n",
    "                                                                   split_by='season')\n",
    "x_train_home, x_test_home, y_train_home, y_test_home = create_data(df, drop_cols=['away_score', 'home_score',\n",
    "                                                                              'away_team', 'home_team',\n",
    "                                                                              'home_team_xfip', 'home_starter_xfip',\n",
    "                                                                              'away_lineup_xwoba', 'away_run_diff',\n",
    "                                                                              'home_team_xwoba_diff', 'home_run_diff'],\n",
    "                                                                   y_col=['home_score', 'away_score'],\n",
    "                                                                   split_by='season')"
   ]
  },
  {
   "cell_type": "code",
   "execution_count": 7,
   "id": "5b70f086-32cc-4f77-b150-c21344dbf70d",
   "metadata": {},
   "outputs": [
    {
     "name": "stdout",
     "output_type": "stream",
     "text": [
      "RANDOM FOREST REGRESSION MODEL (v5 - incorporating runs allowed)\n",
      "Accuracy: 52.2633744855967%\n",
      "------------------------------\n",
      "Season records:\n",
      "ATL: 113-49\tLAD: 109-53\tSEA: 104-58\tPHI: 104-58\tSF: 98-64\t\n",
      "TOR: 96-66\tBAL: 96-66\tHOU: 96-66\tCHC: 95-67\tTB: 95-67\t\n",
      "MIL: 93-69\tCIN: 86-76\tMIA: 86-76\tBOS: 86-76\tNYM: 85-77\t\n",
      "NYY: 85-77\tMIN: 83-79\tLAA: 73-89\tAZ: 71-91\tSTL: 71-91\t\n",
      "DET: 70-92\tPIT: 64-98\tKC: 64-98\tCLE: 64-98\tTEX: 64-98\t\n",
      "SD: 63-99\tWSH: 58-104\tCOL: 55-107\tCWS: 53-109\tOAK: 50-112\t\n",
      "------------------------------\n",
      "Runs scored per game:\n",
      "TOR: 5.14 (833)\tSF: 5.08 (822)\tLAD: 5.03 (814)\tATL: 4.96 (804)\tSEA: 4.94 (800)\t\n",
      "STL: 4.86 (787)\tCHC: 4.84 (784)\tBAL: 4.8 (777)\tHOU: 4.79 (776)\tMIN: 4.75 (769)\t\n",
      "SD: 4.74 (768)\tTB: 4.67 (757)\tCIN: 4.65 (753)\tNYY: 4.62 (749)\tBOS: 4.61 (747)\t\n",
      "TEX: 4.6 (746)\tPHI: 4.59 (744)\tMIL: 4.58 (742)\tMIA: 4.57 (740)\tNYM: 4.49 (728)\t\n",
      "LAA: 4.45 (721)\tDET: 4.43 (718)\tAZ: 4.37 (708)\tKC: 4.31 (697)\tCLE: 4.3 (697)\t\n",
      "PIT: 4.23 (685)\tWSH: 4.21 (682)\tCOL: 4.17 (676)\tOAK: 4.16 (674)\tCWS: 4.08 (662)\t\n"
     ]
    }
   ],
   "source": [
    "model_away = MultiOutputRegressor(RandomForestRegressor(n_estimators=3, max_features='sqrt'))\n",
    "model_home = MultiOutputRegressor(RandomForestRegressor(n_estimators=3, max_features='sqrt'))\n",
    "\n",
    "model_away.fit(x_train_away, y_train_away)\n",
    "model_home.fit(x_train_home, y_train_home)\n",
    "\n",
    "pred_away = model_away.predict(x_test_away)\n",
    "pred_home = model_home.predict(x_test_home)\n",
    "\n",
    "pred_away_score = []\n",
    "pred_home_score = []\n",
    "\n",
    "for i in range(len(pred_away)):\n",
    "    pred_away_score.append((pred_away[i][0] + pred_home[i][1]) / 2)\n",
    "    pred_home_score.append((pred_home[i][0] + pred_away[i][1]) / 2)\n",
    "\n",
    "results = pd.DataFrame({'away_pred': pred_away_score, 'home_pred': pred_home_score,\n",
    "                        'away_true': y_test_away['away_score'], 'home_true': y_test_home['home_score']})\n",
    "results.describe()\n",
    "\n",
    "print('RANDOM FOREST REGRESSION MODEL (v5 - incorporating runs allowed)')\n",
    "print(f'Accuracy: {wl_accuracy(results)}%')\n",
    "print('-' * 30)\n",
    "season_record(df, results)\n",
    "print('-' * 30)\n",
    "runs_per_game(df, results)\n",
    "print('-' * 30)\n",
    "# compare runs scored vs. runs allowed"
   ]
  }
 ],
 "metadata": {
  "kernelspec": {
   "display_name": "env",
   "language": "python",
   "name": "env"
  },
  "language_info": {
   "codemirror_mode": {
    "name": "ipython",
    "version": 3
   },
   "file_extension": ".py",
   "mimetype": "text/x-python",
   "name": "python",
   "nbconvert_exporter": "python",
   "pygments_lexer": "ipython3",
   "version": "3.12.4"
  }
 },
 "nbformat": 4,
 "nbformat_minor": 5
}
