{
 "cells": [
  {
   "cell_type": "code",
   "execution_count": 1,
   "id": "9be80169-6fff-4c3a-bfa4-be6fc6d37377",
   "metadata": {},
   "outputs": [],
   "source": [
    "import random\n",
    "import pandas as pd\n",
    "import numpy as np\n",
    "import matplotlib.pyplot as plt\n",
    "\n",
    "from sklearn.ensemble import RandomForestRegressor, RandomForestClassifier\n",
    "from sklearn.multioutput import MultiOutputRegressor\n",
    "from sklearn.model_selection import GridSearchCV, train_test_split\n",
    "from sklearn.preprocessing import StandardScaler, QuantileTransformer, Normalizer\n",
    "from sklearn.pipeline import Pipeline\n",
    "from sklearn.metrics import mean_squared_error, make_scorer\n",
    "from sklearn.linear_model import LinearRegression, LogisticRegression, PoissonRegressor\n",
    "from sklearn.tree import DecisionTreeRegressor\n",
    "\n",
    "import graphviz\n",
    "from sklearn.tree import export_graphviz\n",
    "from IPython.display import Image\n",
    "\n",
    "import statsmodels.api as sm\n",
    "from statsmodels.stats.outliers_influence import variance_inflation_factor\n",
    "\n",
    "from analysis import get_feature_importances, visualize_decision_trees, get_vif, wl_accuracy, season_record, runs_per_game"
   ]
  },
  {
   "cell_type": "code",
   "execution_count": 2,
   "id": "21d47d28-b0b1-4ebd-884c-138a552dc15b",
   "metadata": {},
   "outputs": [],
   "source": [
    "version = 6\n",
    "df = pd.read_csv(f'./data/baseball/training/game_data_v{version}.csv')"
   ]
  },
  {
   "cell_type": "code",
   "execution_count": 3,
   "id": "23eb5c60-fd57-4500-a573-9f30bd3083a3",
   "metadata": {},
   "outputs": [],
   "source": [
    "# create the appropriate training and testing data based on home/away, dropping columns as needed\n",
    "def create_data(drop_cols=['away_score', 'home_score', 'away_team', 'home_team'], y_col='away_score', split_by='random'):\n",
    "    y = df[y_col]\n",
    "    x = df.drop(drop_cols, axis=1)\n",
    "\n",
    "    if split_by == 'season':\n",
    "        x_train, x_test = x.iloc[0:13047], x.iloc[13047:]\n",
    "        y_train, y_test = y.iloc[0:13047], y.iloc[13047:]\n",
    "    else:\n",
    "        x_train, x_test, y_train, y_test = train_test_split(x, y, shuffle=True)\n",
    "    \n",
    "    return x_train, x_test, y_train, y_test"
   ]
  },
  {
   "cell_type": "code",
   "execution_count": 4,
   "id": "3e82a7bc-611e-4aa0-81bf-c0030eacbfea",
   "metadata": {},
   "outputs": [],
   "source": [
    "x_train_away, x_test_away, y_train_away, y_test_away = create_data(drop_cols=['away_score', 'home_score',\n",
    "                                                                              'away_team', 'home_team',\n",
    "                                                                              'away_team_xfip', 'away_starter_xfip',\n",
    "                                                                              'home_lineup_xwoba', 'home_run_diff',\n",
    "                                                                              'away_team_xwoba_diff', 'away_run_diff'],\n",
    "                                                                   y_col=['away_score', 'home_score'],\n",
    "                                                                   split_by='season')\n",
    "x_train_home, x_test_home, y_train_home, y_test_home = create_data(drop_cols=['away_score', 'home_score',\n",
    "                                                                              'away_team', 'home_team',\n",
    "                                                                              'home_team_xfip', 'home_starter_xfip',\n",
    "                                                                              'away_lineup_xwoba', 'away_run_diff',\n",
    "                                                                              'home_team_xwoba_diff', 'home_run_diff'],\n",
    "                                                                   y_col=['home_score', 'away_score'],\n",
    "                                                                   split_by='season')"
   ]
  },
  {
   "cell_type": "code",
   "execution_count": 20,
   "id": "5b70f086-32cc-4f77-b150-c21344dbf70d",
   "metadata": {},
   "outputs": [
    {
     "name": "stdout",
     "output_type": "stream",
     "text": [
      "RANDOM FOREST REGRESSION MODEL (v5 - incorporating runs allowed)\n",
      "Accuracy: 53.53909465020577%\n",
      "------------------------------\n",
      "Season records:\n",
      "TOR: 112-50\tLAD: 111-51\tATL: 111-51\tPHI: 109-53\tMIL: 103-59\t\n",
      "HOU: 102-60\tMIA: 97-65\tMIN: 92-70\tLAA: 91-71\tSF: 90-72\t\n",
      "BOS: 85-77\tNYY: 85-77\tBAL: 82-80\tTB: 82-80\tDET: 79-83\t\n",
      "CHC: 77-85\tAZ: 76-86\tSD: 76-86\tSEA: 75-87\tNYM: 73-89\t\n",
      "STL: 73-89\tWSH: 70-92\tCIN: 68-94\tKC: 66-96\tTEX: 65-97\t\n",
      "CWS: 60-102\tCOL: 59-103\tPIT: 57-105\tCLE: 57-105\tOAK: 47-115\t\n",
      "------------------------------\n",
      "Runs scored per game:\n",
      "ATL: 5.59 (906)\tLAD: 5.3 (859)\tHOU: 5.07 (821)\tPHI: 5.01 (811)\tSD: 4.8 (778)\t\n",
      "NYY: 4.78 (775)\tMIN: 4.78 (774)\tDET: 4.76 (772)\tMIA: 4.76 (771)\tTOR: 4.74 (768)\t\n",
      "SF: 4.7 (761)\tSTL: 4.7 (761)\tLAA: 4.69 (759)\tMIL: 4.66 (755)\tCIN: 4.64 (751)\t\n",
      "TEX: 4.63 (751)\tCHC: 4.55 (738)\tTB: 4.5 (730)\tCLE: 4.5 (729)\tAZ: 4.5 (729)\t\n",
      "WSH: 4.5 (729)\tCOL: 4.48 (726)\tBAL: 4.41 (715)\tSEA: 4.41 (714)\tPIT: 4.38 (710)\t\n",
      "CWS: 4.38 (709)\tBOS: 4.37 (709)\tNYM: 4.36 (707)\tKC: 4.34 (704)\tOAK: 4.0 (647)\t\n"
     ]
    }
   ],
   "source": [
    "model_away = MultiOutputRegressor(RandomForestRegressor(n_estimators=3, max_features='sqrt'))\n",
    "model_home = MultiOutputRegressor(RandomForestRegressor(n_estimators=3, max_features='sqrt'))\n",
    "\n",
    "model_away.fit(x_train_away, y_train_away)\n",
    "model_home.fit(x_train_home, y_train_home)\n",
    "\n",
    "pred_away = model_away.predict(x_test_away)\n",
    "pred_home = model_home.predict(x_test_home)\n",
    "\n",
    "pred_away_score = []\n",
    "pred_home_score = []\n",
    "\n",
    "for i in range(len(pred_away)):\n",
    "    pred_away_score.append((pred_away[i][0] + pred_home[i][1]) / 2)\n",
    "    pred_home_score.append((pred_home[i][0] + pred_away[i][1]) / 2)\n",
    "\n",
    "results = pd.DataFrame({'away_pred': pred_away_score, 'home_pred': pred_home_score,\n",
    "                        'away_true': y_test_away['away_score'], 'home_true': y_test_home['home_score']})\n",
    "results.describe()\n",
    "\n",
    "print('RANDOM FOREST REGRESSION MODEL (v5 - incorporating runs allowed)')\n",
    "print(f'Accuracy: {wl_accuracy(results)}%')\n",
    "print('-' * 30)\n",
    "season_record(df, results)\n",
    "print('-' * 30)\n",
    "runs_per_game(df, results)"
   ]
  }
 ],
 "metadata": {
  "kernelspec": {
   "display_name": "env",
   "language": "python",
   "name": "env"
  },
  "language_info": {
   "codemirror_mode": {
    "name": "ipython",
    "version": 3
   },
   "file_extension": ".py",
   "mimetype": "text/x-python",
   "name": "python",
   "nbconvert_exporter": "python",
   "pygments_lexer": "ipython3",
   "version": "3.12.4"
  }
 },
 "nbformat": 4,
 "nbformat_minor": 5
}
