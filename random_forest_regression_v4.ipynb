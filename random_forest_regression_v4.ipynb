{
 "cells": [
  {
   "cell_type": "code",
   "execution_count": 1,
   "id": "8b6913e8-a78d-432e-9192-f6b6a3867878",
   "metadata": {},
   "outputs": [],
   "source": [
    "import random\n",
    "import pandas as pd\n",
    "import numpy as np\n",
    "import matplotlib.pyplot as plt\n",
    "\n",
    "from sklearn.ensemble import RandomForestRegressor, RandomForestClassifier\n",
    "from sklearn.multioutput import MultiOutputRegressor\n",
    "from sklearn.model_selection import GridSearchCV, train_test_split\n",
    "from sklearn.preprocessing import StandardScaler, QuantileTransformer, Normalizer\n",
    "from sklearn.pipeline import Pipeline\n",
    "from sklearn.metrics import mean_squared_error, make_scorer\n",
    "from sklearn.linear_model import LinearRegression, LogisticRegression, PoissonRegressor\n",
    "from sklearn.tree import DecisionTreeRegressor\n",
    "\n",
    "import graphviz\n",
    "from sklearn.tree import export_graphviz\n",
    "from IPython.display import Image\n",
    "\n",
    "import statsmodels.api as sm\n",
    "from statsmodels.stats.outliers_influence import variance_inflation_factor\n",
    "\n",
    "from analysis import get_feature_importances, visualize_decision_trees, get_vif, wl_accuracy, season_record, runs_per_game"
   ]
  },
  {
   "cell_type": "code",
   "execution_count": 2,
   "id": "ddcb182f-d396-4178-bf61-32cc55adab13",
   "metadata": {},
   "outputs": [],
   "source": [
    "version = 6\n",
    "df = pd.read_csv(f'./data/baseball/training/game_data_v{version}.csv')"
   ]
  },
  {
   "cell_type": "code",
   "execution_count": 3,
   "id": "83f876a3-7d15-44b5-9c5f-1ff0da81ea24",
   "metadata": {},
   "outputs": [],
   "source": [
    "# create the appropriate training and testing data based on home/away, dropping columns as needed\n",
    "def create_data(drop_cols=['away_score', 'home_score', 'away_team', 'home_team'], y_col='away_score', split_by='random'):\n",
    "    y = df[y_col]\n",
    "    x = df.drop(drop_cols, axis=1)\n",
    "\n",
    "    if split_by == 'season':\n",
    "        x_train, x_test = x.iloc[0:13047], x.iloc[13047:]\n",
    "        y_train, y_test = y.iloc[0:13047], y.iloc[13047:]\n",
    "    else:\n",
    "        x_train, x_test, y_train, y_test = train_test_split(x, y, shuffle=True)\n",
    "    \n",
    "    return x_train, x_test, y_train, y_test"
   ]
  },
  {
   "cell_type": "code",
   "execution_count": 4,
   "id": "4f0e7cd7-2835-4c80-a439-a2319eba998f",
   "metadata": {},
   "outputs": [],
   "source": [
    "x_train_away, x_test_away, y_train_away, y_test_away = create_data(drop_cols=['away_score', 'home_score',\n",
    "                                                                              'away_team', 'home_team',\n",
    "                                                                              'away_team_xfip', 'away_starter_xfip',\n",
    "                                                                              'home_lineup_xwoba', 'home_run_diff'],\n",
    "                                                                   y_col='away_score',\n",
    "                                                                   split_by='season')\n",
    "x_train_home, x_test_home, y_train_home, y_test_home = create_data(drop_cols=['away_score', 'home_score',\n",
    "                                                                              'away_team', 'home_team',\n",
    "                                                                              'home_team_xfip', 'home_starter_xfip',\n",
    "                                                                              'away_lineup_xwoba', 'away_run_diff'],\n",
    "                                                                   y_col='home_score',\n",
    "                                                                   split_by='season')"
   ]
  },
  {
   "cell_type": "markdown",
   "id": "8a415025-b0ed-4eba-b0f1-046a34587e8c",
   "metadata": {},
   "source": [
    "At this point, my mentor has raised the question of a possible multicollinearity, where two or more features are correlated with each other. Indeed, some features had very high variance inflation factors. In particular, `home_team_xwoba_diff` had the highest VIF, which makes sense because *team* batting stats would generally be similar to the game's *lineup* batting stats."
   ]
  },
  {
   "cell_type": "code",
   "execution_count": null,
   "id": "05b39e89-90a5-47ee-84ec-6ac360b28543",
   "metadata": {},
   "outputs": [],
   "source": [
    "ols_model = sm.OLS(y_train_home, sm.add_constant(x_train_home)).fit()\n",
    "print(ols_model.summary())"
   ]
  },
  {
   "cell_type": "code",
   "execution_count": null,
   "id": "afeb9d23-aebc-43a6-ab78-4e28c467098a",
   "metadata": {},
   "outputs": [],
   "source": [
    "print('INITIAL VIF VALUES:')\n",
    "print(get_vif(x_train_home))"
   ]
  },
  {
   "cell_type": "markdown",
   "id": "d363245d-c5d6-40f5-8ff0-b1aa15dcdce9",
   "metadata": {},
   "source": [
    "After looking at the table above, I decided to remove the `home_team_xwoba_diff` and `home_run_diff` features, both of which had a VIF over 5, from the home team dataset. Similarly, I removed the `away_team_xwoba_diff` and `away_run_diff` features from the away team dataset."
   ]
  },
  {
   "cell_type": "code",
   "execution_count": null,
   "id": "a30a0438-f555-45ba-b324-16214b9a6799",
   "metadata": {},
   "outputs": [],
   "source": [
    "x_train_away, x_test_away, y_train_away, y_test_away = create_data(drop_cols=['away_score', 'home_score',\n",
    "                                                                              'away_team', 'home_team',\n",
    "                                                                              'away_team_xfip', 'away_starter_xfip',\n",
    "                                                                              'home_lineup_xwoba', 'home_run_diff',\n",
    "                                                                              'away_team_xwoba_diff', 'away_run_diff'],\n",
    "                                                                   y_col='away_score',\n",
    "                                                                   split_by='season')\n",
    "x_train_home, x_test_home, y_train_home, y_test_home = create_data(drop_cols=['away_score', 'home_score',\n",
    "                                                                              'away_team', 'home_team',\n",
    "                                                                              'home_team_xfip', 'home_starter_xfip',\n",
    "                                                                              'away_lineup_xwoba', 'away_run_diff',\n",
    "                                                                              'home_team_xwoba_diff', 'home_run_diff'],\n",
    "                                                                   y_col='home_score',\n",
    "                                                                   split_by='season')"
   ]
  },
  {
   "cell_type": "code",
   "execution_count": null,
   "id": "f15f0984-36ea-4a06-a4ad-19003f0645d5",
   "metadata": {},
   "outputs": [],
   "source": [
    "model_away = RandomForestRegressor(n_estimators=3, max_features='sqrt')\n",
    "model_home = RandomForestRegressor(n_estimators=3, max_features='sqrt')\n",
    "\n",
    "model_away.fit(x_train_away, y_train_away)\n",
    "model_home.fit(x_train_home, y_train_home)\n",
    "\n",
    "pred_away = model_away.predict(x_test_away)\n",
    "pred_home = model_home.predict(x_test_home)\n",
    "\n",
    "results = pd.DataFrame({'away_pred': pred_away, 'home_pred': pred_home, 'away_true': y_test_away, 'home_true': y_test_home})\n",
    "results.describe()\n",
    "\n",
    "print('RANDOM FOREST REGRESSION MODEL (v4 - reducing multicollinearity)')\n",
    "print(f'Accuracy: {wl_accuracy(results)}%')"
   ]
  },
  {
   "cell_type": "code",
   "execution_count": null,
   "id": "9483d5dc-4ea5-4848-90dc-0bb0af480717",
   "metadata": {},
   "outputs": [],
   "source": [
    "print('FINAL VIF VALUES:')\n",
    "get_feature_importances(x_test_home.columns, model_home)"
   ]
  }
 ],
 "metadata": {
  "kernelspec": {
   "display_name": "env",
   "language": "python",
   "name": "env"
  },
  "language_info": {
   "codemirror_mode": {
    "name": "ipython",
    "version": 3
   },
   "file_extension": ".py",
   "mimetype": "text/x-python",
   "name": "python",
   "nbconvert_exporter": "python",
   "pygments_lexer": "ipython3",
   "version": "3.12.4"
  }
 },
 "nbformat": 4,
 "nbformat_minor": 5
}
