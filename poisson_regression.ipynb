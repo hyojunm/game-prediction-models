{
 "cells": [
  {
   "cell_type": "code",
   "execution_count": 1,
   "id": "ddc3385e-6fdc-4da9-b8a3-a39b348f49f9",
   "metadata": {},
   "outputs": [],
   "source": [
    "import random\n",
    "import pandas as pd\n",
    "import numpy as np\n",
    "import matplotlib.pyplot as plt\n",
    "\n",
    "from sklearn.ensemble import RandomForestRegressor, RandomForestClassifier\n",
    "from sklearn.multioutput import MultiOutputRegressor\n",
    "from sklearn.model_selection import GridSearchCV, train_test_split\n",
    "from sklearn.preprocessing import StandardScaler, QuantileTransformer, Normalizer\n",
    "from sklearn.pipeline import Pipeline\n",
    "from sklearn.metrics import mean_squared_error, make_scorer\n",
    "from sklearn.linear_model import LinearRegression, LogisticRegression, PoissonRegressor\n",
    "from sklearn.tree import DecisionTreeRegressor\n",
    "\n",
    "import graphviz\n",
    "from sklearn.tree import export_graphviz\n",
    "from IPython.display import Image\n",
    "\n",
    "import statsmodels.api as sm\n",
    "from statsmodels.stats.outliers_influence import variance_inflation_factor\n",
    "\n",
    "from analysis import get_feature_importances, visualize_decision_trees, get_vif, wl_accuracy, season_record, runs_per_game"
   ]
  },
  {
   "cell_type": "code",
   "execution_count": 2,
   "id": "630c0bf8-acc0-4238-89ad-c99d150ae890",
   "metadata": {},
   "outputs": [],
   "source": [
    "version = 6\n",
    "df = pd.read_csv(f'./data/baseball/training/game_data_v{version}.csv')"
   ]
  },
  {
   "cell_type": "code",
   "execution_count": 3,
   "id": "e79b3295-895f-48e7-928f-e481a1df7333",
   "metadata": {},
   "outputs": [],
   "source": [
    "# create the appropriate training and testing data based on home/away, dropping columns as needed\n",
    "def create_data(drop_cols=['away_score', 'home_score', 'away_team', 'home_team'], y_col='away_score', split_by='random'):\n",
    "    y = df[y_col]\n",
    "    x = df.drop(drop_cols, axis=1)\n",
    "\n",
    "    if split_by == 'season':\n",
    "        x_train, x_test = x.iloc[0:13047], x.iloc[13047:]\n",
    "        y_train, y_test = y.iloc[0:13047], y.iloc[13047:]\n",
    "    else:\n",
    "        x_train, x_test, y_train, y_test = train_test_split(x, y, shuffle=True)\n",
    "    \n",
    "    return x_train, x_test, y_train, y_test"
   ]
  },
  {
   "cell_type": "code",
   "execution_count": 4,
   "id": "ae111234-c03f-48b6-b5f4-a4ad768664b8",
   "metadata": {},
   "outputs": [],
   "source": [
    "x_train_away, x_test_away, y_train_away, y_test_away = create_data(drop_cols=['away_score', 'home_score',\n",
    "                                                                              'away_team', 'home_team',\n",
    "                                                                              'away_team_xfip', 'away_starter_xfip',\n",
    "                                                                              'home_lineup_xwoba', 'home_run_diff',\n",
    "                                                                              'away_team_xwoba_diff', 'away_run_diff'],\n",
    "                                                                   y_col='away_score',\n",
    "                                                                   split_by='season')\n",
    "x_train_home, x_test_home, y_train_home, y_test_home = create_data(drop_cols=['away_score', 'home_score',\n",
    "                                                                              'away_team', 'home_team',\n",
    "                                                                              'home_team_xfip', 'home_starter_xfip',\n",
    "                                                                              'away_lineup_xwoba', 'away_run_diff',\n",
    "                                                                              'home_team_xwoba_diff', 'home_run_diff'],\n",
    "                                                                   y_col='home_score',\n",
    "                                                                   split_by='season')"
   ]
  },
  {
   "cell_type": "code",
   "execution_count": 6,
   "id": "a1ea166a-2393-433b-931f-346651f5b2ae",
   "metadata": {},
   "outputs": [
    {
     "name": "stdout",
     "output_type": "stream",
     "text": [
      "POISSON REGRESSION MODEL\n",
      "Accuracy: 54.032921810699584%\n",
      "------------------------------\n",
      "Season records:\n",
      "ATL: 101-61\tPHI: 99-63\tLAD: 97-65\tTOR: 94-68\tSF: 94-68\t\n",
      "MIL: 91-71\tHOU: 90-72\tMIA: 89-73\tSEA: 89-73\tNYM: 87-75\t\n",
      "BAL: 84-78\tMIN: 84-78\tNYY: 84-78\tTB: 84-78\tLAA: 83-79\t\n",
      "SD: 82-80\tCHC: 81-81\tBOS: 81-81\tTEX: 81-81\tSTL: 80-82\t\n",
      "CIN: 79-83\tCLE: 78-84\tDET: 78-84\tCWS: 77-85\tKC: 74-88\t\n",
      "PIT: 70-92\tAZ: 69-93\tWSH: 59-103\tCOL: 49-113\tOAK: 42-120\t\n",
      "------------------------------\n",
      "Runs scored per game:\n",
      "ATL: 4.58 (742)\tLAD: 4.58 (741)\tHOU: 4.57 (741)\tTOR: 4.57 (740)\tSEA: 4.57 (740)\t\n",
      "PHI: 4.57 (740)\tMIL: 4.56 (739)\tBAL: 4.56 (739)\tSF: 4.56 (738)\tMIA: 4.56 (738)\t\n",
      "STL: 4.56 (738)\tMIN: 4.56 (738)\tSD: 4.55 (738)\tCHC: 4.55 (738)\tNYM: 4.55 (738)\t\n",
      "LAA: 4.55 (738)\tCIN: 4.55 (737)\tDET: 4.55 (737)\tNYY: 4.55 (737)\tTEX: 4.55 (737)\t\n",
      "KC: 4.55 (737)\tCLE: 4.54 (736)\tBOS: 4.54 (736)\tPIT: 4.54 (736)\tTB: 4.54 (735)\t\n",
      "CWS: 4.53 (734)\tWSH: 4.53 (734)\tAZ: 4.53 (734)\tCOL: 4.53 (733)\tOAK: 4.52 (732)\t\n"
     ]
    }
   ],
   "source": [
    "model_away = Pipeline([('scaler', QuantileTransformer(n_quantiles=10)),\n",
    "                       # ('normalizer', Normalizer()),\n",
    "                       ('model', PoissonRegressor(alpha=9))])\n",
    "model_home = Pipeline([('scaler', QuantileTransformer(n_quantiles=10)),\n",
    "                       # ('normalizer', Normalizer()),\n",
    "                       ('model', PoissonRegressor(alpha=9))])\n",
    "\n",
    "model_away.fit(x_train_away, y_train_away)\n",
    "model_home.fit(x_train_home, y_train_home)\n",
    "\n",
    "pred_away = model_away.predict(x_test_away)\n",
    "pred_home = model_home.predict(x_test_home)\n",
    "\n",
    "results = pd.DataFrame({'away_pred': pred_away, 'home_pred': pred_home, 'away_true': y_test_away, 'home_true': y_test_home})\n",
    "results.describe()\n",
    "\n",
    "print('POISSON REGRESSION MODEL')\n",
    "print(f'Accuracy: {wl_accuracy(results)}%')\n",
    "print('-' * 30)\n",
    "season_record(df, results)\n",
    "print('-' * 30)\n",
    "runs_per_game(df, results)"
   ]
  }
 ],
 "metadata": {
  "kernelspec": {
   "display_name": "env",
   "language": "python",
   "name": "env"
  },
  "language_info": {
   "codemirror_mode": {
    "name": "ipython",
    "version": 3
   },
   "file_extension": ".py",
   "mimetype": "text/x-python",
   "name": "python",
   "nbconvert_exporter": "python",
   "pygments_lexer": "ipython3",
   "version": "3.12.4"
  }
 },
 "nbformat": 4,
 "nbformat_minor": 5
}
