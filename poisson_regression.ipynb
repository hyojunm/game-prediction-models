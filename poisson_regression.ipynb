{
 "cells": [
  {
   "cell_type": "code",
   "execution_count": null,
   "id": "ddc3385e-6fdc-4da9-b8a3-a39b348f49f9",
   "metadata": {},
   "outputs": [],
   "source": [
    "import random\n",
    "import pandas as pd\n",
    "import numpy as np\n",
    "import matplotlib.pyplot as plt\n",
    "\n",
    "from sklearn.ensemble import RandomForestRegressor, RandomForestClassifier\n",
    "from sklearn.multioutput import MultiOutputRegressor\n",
    "from sklearn.model_selection import GridSearchCV, train_test_split\n",
    "from sklearn.preprocessing import StandardScaler, QuantileTransformer, Normalizer\n",
    "from sklearn.pipeline import Pipeline\n",
    "from sklearn.metrics import mean_squared_error, make_scorer\n",
    "from sklearn.linear_model import LinearRegression, LogisticRegression, PoissonRegressor\n",
    "from sklearn.tree import DecisionTreeRegressor\n",
    "\n",
    "import graphviz\n",
    "from sklearn.tree import export_graphviz\n",
    "from IPython.display import Image\n",
    "\n",
    "import statsmodels.api as sm\n",
    "from statsmodels.stats.outliers_influence import variance_inflation_factor\n",
    "\n",
    "from analysis import get_feature_importances, visualize_decision_trees, get_vif, wl_accuracy, season_record, runs_per_game"
   ]
  },
  {
   "cell_type": "code",
   "execution_count": null,
   "id": "630c0bf8-acc0-4238-89ad-c99d150ae890",
   "metadata": {},
   "outputs": [],
   "source": [
    "version = 6\n",
    "df = pd.read_csv(f'./data/baseball/training/game_data_v{version}.csv')"
   ]
  },
  {
   "cell_type": "code",
   "execution_count": null,
   "id": "e79b3295-895f-48e7-928f-e481a1df7333",
   "metadata": {},
   "outputs": [],
   "source": [
    "# create the appropriate training and testing data based on home/away, dropping columns as needed\n",
    "def create_data(drop_cols=['away_score', 'home_score', 'away_team', 'home_team'], y_col='away_score', split_by='random'):\n",
    "    y = df[y_col]\n",
    "    x = df.drop(drop_cols, axis=1)\n",
    "\n",
    "    if split_by == 'season':\n",
    "        x_train, x_test = x.iloc[0:13047], x.iloc[13047:]\n",
    "        y_train, y_test = y.iloc[0:13047], y.iloc[13047:]\n",
    "    else:\n",
    "        x_train, x_test, y_train, y_test = train_test_split(x, y, shuffle=True)\n",
    "    \n",
    "    return x_train, x_test, y_train, y_test"
   ]
  },
  {
   "cell_type": "code",
   "execution_count": null,
   "id": "ae111234-c03f-48b6-b5f4-a4ad768664b8",
   "metadata": {},
   "outputs": [],
   "source": [
    "x_train_away, x_test_away, y_train_away, y_test_away = create_data(drop_cols=['away_score', 'home_score',\n",
    "                                                                              'away_team', 'home_team',\n",
    "                                                                              'away_team_xfip', 'away_starter_xfip',\n",
    "                                                                              'home_lineup_xwoba', 'home_run_diff',\n",
    "                                                                              'away_team_xwoba_diff', 'away_run_diff'],\n",
    "                                                                   y_col='away_score',\n",
    "                                                                   split_by='season')\n",
    "x_train_home, x_test_home, y_train_home, y_test_home = create_data(drop_cols=['away_score', 'home_score',\n",
    "                                                                              'away_team', 'home_team',\n",
    "                                                                              'home_team_xfip', 'home_starter_xfip',\n",
    "                                                                              'away_lineup_xwoba', 'away_run_diff',\n",
    "                                                                              'home_team_xwoba_diff', 'home_run_diff'],\n",
    "                                                                   y_col='home_score',\n",
    "                                                                   split_by='season')"
   ]
  },
  {
   "cell_type": "code",
   "execution_count": null,
   "id": "a1ea166a-2393-433b-931f-346651f5b2ae",
   "metadata": {},
   "outputs": [],
   "source": [
    "model_away = Pipeline([('scaler', QuantileTransformer(n_quantiles=10)),\n",
    "                       # ('normalizer', Normalizer()),\n",
    "                       ('model', PoissonRegressor(alpha=9))])\n",
    "model_home = Pipeline([('scaler', QuantileTransformer(n_quantiles=10)),\n",
    "                       # ('normalizer', Normalizer()),\n",
    "                       ('model', PoissonRegressor(alpha=9))])\n",
    "\n",
    "model_away.fit(x_train_away, y_train_away)\n",
    "model_home.fit(x_train_home, y_train_home)\n",
    "\n",
    "pred_away = model_away.predict(x_test_away)\n",
    "pred_home = model_home.predict(x_test_home)\n",
    "\n",
    "results = pd.DataFrame({'away_pred': pred_away, 'home_pred': pred_home, 'away_true': y_test_away, 'home_true': y_test_home})\n",
    "results.describe()\n",
    "\n",
    "print('POISSON REGRESSION MODEL')\n",
    "print(f'Accuracy: {wl_accuracy(results)}%')\n",
    "print('-' * 30)\n",
    "season_record(results)\n",
    "print('-' * 30)\n",
    "runs_per_game(results)"
   ]
  }
 ],
 "metadata": {
  "kernelspec": {
   "display_name": "env",
   "language": "python",
   "name": "env"
  },
  "language_info": {
   "codemirror_mode": {
    "name": "ipython",
    "version": 3
   },
   "file_extension": ".py",
   "mimetype": "text/x-python",
   "name": "python",
   "nbconvert_exporter": "python",
   "pygments_lexer": "ipython3",
   "version": "3.12.4"
  }
 },
 "nbformat": 4,
 "nbformat_minor": 5
}
