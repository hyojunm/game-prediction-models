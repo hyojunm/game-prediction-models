{
 "cells": [
  {
   "cell_type": "code",
   "execution_count": null,
   "id": "93ed065e-ab21-4466-9449-c99441983b7f",
   "metadata": {},
   "outputs": [],
   "source": [
    "import sys\n",
    "!{sys.executable} -m pip install pandas pybaseball"
   ]
  },
  {
   "cell_type": "code",
   "execution_count": 1,
   "id": "279ba001-bec3-4f8f-b376-eca0681251f6",
   "metadata": {},
   "outputs": [],
   "source": [
    "import pandas as pd\n",
    "from pybaseball import team_pitching, pitching_stats, playerid_reverse_lookup"
   ]
  },
  {
   "cell_type": "markdown",
   "id": "548dc26c-2097-4e54-87ee-6b6f0fc2a8b2",
   "metadata": {},
   "source": [
    "# Collecting baseball data\n",
    "\n",
    "This model will be using the following statistics (for each of home and away teams) in each game:\n",
    "\n",
    "* Team name\n",
    "* Team xwOBA differential\n",
    "* Lineup xwOBA (for the 9 hitters in the starting lineup)\n",
    "* Team xFIP\n",
    "* Starting pitcher xFIP\n",
    "* Win percentage in 1-run games\n",
    "* Season run differential\n",
    "\n",
    "To predict the following outcomes:\n",
    "\n",
    "* Runs scored\n",
    "* ... and therefore, the game's winner\n",
    "\n",
    "All numerical data will be from the past 3 seasons.\n",
    "\n",
    "Data are provided by Retrosheet, Baseball Savant, and FanGraphs (using pybaseball)."
   ]
  },
  {
   "cell_type": "markdown",
   "id": "b0c47d79-030e-426c-8be6-bad8542bf55e",
   "metadata": {
    "jp-MarkdownHeadingCollapsed": true
   },
   "source": [
    "### Team code information\n",
    "\n",
    "Since each data source uses different team codes (for example, the Chicago White Sox are represented by \"CHA\" in Retrosheet, \"CWS\" in Baseball Savant, and \"CHW\" in FanGraphs), I created some helpful dictionaries to convert from one style to the other."
   ]
  },
  {
   "cell_type": "code",
   "execution_count": 2,
   "id": "da717183-73d5-4c5b-9e52-926d98c9cf82",
   "metadata": {},
   "outputs": [],
   "source": [
    "# convert team codes from retrosheet to baseball savant style\n",
    "\n",
    "rs_to_bs = {\n",
    "    'HOU': 'HOU',\n",
    "    'TEX': 'TEX',\n",
    "    'ANA': 'LAA',\n",
    "    'OAK': 'OAK',\n",
    "    'SEA': 'SEA',\n",
    "\n",
    "    'KCA': 'KC',\n",
    "    'DET': 'DET',\n",
    "    'CLE': 'CLE',\n",
    "    'MIN': 'MIN',\n",
    "    'CHA': 'CWS',\n",
    "\n",
    "    'NYA': 'NYY',\n",
    "    'BOS': 'BOS',\n",
    "    'TBA': 'TB',\n",
    "    'TOR': 'TOR',\n",
    "    'BAL': 'BAL',\n",
    "    \n",
    "    'LAN': 'LAD',\n",
    "    'SDN': 'SD',\n",
    "    'COL': 'COL',\n",
    "    'ARI': 'AZ',\n",
    "    'SFN': 'SF',\n",
    "    \n",
    "    'MIL': 'MIL',\n",
    "    'PIT': 'PIT',\n",
    "    'SLN': 'STL',\n",
    "    'CIN': 'CIN',\n",
    "    'CHN': 'CHC',\n",
    "\n",
    "    'NYN': 'NYM',\n",
    "    'ATL': 'ATL',\n",
    "    'PHI': 'PHI',\n",
    "    'WAS': 'WSH',\n",
    "    'MIA': 'MIA',\n",
    "}"
   ]
  },
  {
   "cell_type": "code",
   "execution_count": 3,
   "id": "3b945615-2509-426f-8ad2-0e9ce2b8ba0e",
   "metadata": {},
   "outputs": [],
   "source": [
    "# convert team codes from fangraphs to baseball savant style\n",
    "\n",
    "fg_to_bs = {\n",
    "    'HOU': 'HOU',\n",
    "    'TEX': 'TEX',\n",
    "    'LAA': 'LAA',\n",
    "    'OAK': 'OAK',\n",
    "    'SEA': 'SEA',\n",
    "\n",
    "    'KCR': 'KC',\n",
    "    'DET': 'DET',\n",
    "    'CLE': 'CLE',\n",
    "    'MIN': 'MIN',\n",
    "    'CHW': 'CWS',\n",
    "\n",
    "    'NYY': 'NYY',\n",
    "    'BOS': 'BOS',\n",
    "    'TBR': 'TB',\n",
    "    'TOR': 'TOR',\n",
    "    'BAL': 'BAL',\n",
    "    \n",
    "    'LAD': 'LAD',\n",
    "    'SDP': 'SD',\n",
    "    'COL': 'COL',\n",
    "    'ARI': 'AZ',\n",
    "    'SFG': 'SF',\n",
    "    \n",
    "    'MIL': 'MIL',\n",
    "    'PIT': 'PIT',\n",
    "    'STL': 'STL',\n",
    "    'CIN': 'CIN',\n",
    "    'CHC': 'CHC',\n",
    "\n",
    "    'NYM': 'NYM',\n",
    "    'ATL': 'ATL',\n",
    "    'PHI': 'PHI',\n",
    "    'WSN': 'WSH',\n",
    "    'MIA': 'MIA',\n",
    "}"
   ]
  },
  {
   "cell_type": "code",
   "execution_count": 4,
   "id": "9c9396c3-1c64-4ee6-a993-9c40a727eb40",
   "metadata": {},
   "outputs": [],
   "source": [
    "# convert team codes from retrosheet to fangraphs style\n",
    "\n",
    "rs_to_fg = {\n",
    "    'HOU': 'HOU',\n",
    "    'TEX': 'TEX',\n",
    "    'ANA': 'LAA',\n",
    "    'OAK': 'OAK',\n",
    "    'SEA': 'SEA',\n",
    "\n",
    "    'KCA': 'KCR',\n",
    "    'DET': 'DET',\n",
    "    'CLE': 'CLE',\n",
    "    'MIN': 'MIN',\n",
    "    'CHA': 'CHW',\n",
    "\n",
    "    'NYA': 'NYY',\n",
    "    'BOS': 'BOS',\n",
    "    'TBA': 'TBR',\n",
    "    'TOR': 'TOR',\n",
    "    'BAL': 'BAL',\n",
    "    \n",
    "    'LAN': 'LAD',\n",
    "    'SDN': 'SDP',\n",
    "    'COL': 'COL',\n",
    "    'ARI': 'ARI',\n",
    "    'SFN': 'SFG',\n",
    "    \n",
    "    'MIL': 'MIL',\n",
    "    'PIT': 'PIT',\n",
    "    'SLN': 'STL',\n",
    "    'CIN': 'CIN',\n",
    "    'CHN': 'CHC',\n",
    "\n",
    "    'NYN': 'NYM',\n",
    "    'ATL': 'ATL',\n",
    "    'PHI': 'PHI',\n",
    "    'WAS': 'WSN',\n",
    "    'MIA': 'MIA',\n",
    "}"
   ]
  },
  {
   "cell_type": "markdown",
   "id": "93223d76-ea8b-4d61-9c9d-91ed96a35574",
   "metadata": {
    "jp-MarkdownHeadingCollapsed": true
   },
   "source": [
    "### Player code information\n",
    "\n",
    "Because player names can be entered differently in different data sources (especially regarding the use of accent markings, suffixes, abbreviated names, and hyphenated names), I created a csv file containing each player's name and IDs for each data source."
   ]
  },
  {
   "cell_type": "code",
   "execution_count": null,
   "id": "3109d0f8-b51c-405f-afdd-64632996ef7f",
   "metadata": {},
   "outputs": [],
   "source": [
    "### DON'T RUN AGAIN!!!\n",
    "\n",
    "player_info = {\n",
    "    'last_name': [],\n",
    "    'first_name': [],\n",
    "    'mlbam_id': [],\n",
    "    'retrosheet_id': [],\n",
    "    'fangraphs_id': []\n",
    "}\n",
    "\n",
    "\n",
    "player_xwoba_df = pd.read_csv('../data/player_xwoba.csv')\n",
    "player_xfip_df = pd.read_csv('../data/player_xfip.csv')\n",
    "\n",
    "\n",
    "for index, row in player_xwoba_df.iterrows():\n",
    "    player_id = row['player_id']\n",
    "    player = playerid_reverse_lookup([player_id], key_type='mlbam').iloc[0]\n",
    "    \n",
    "    player_info['last_name'].append(player['name_last'])\n",
    "    player_info['first_name'].append(player['name_first'])\n",
    "    player_info['mlbam_id'].append(player['key_mlbam'])\n",
    "    player_info['retrosheet_id'].append(player['key_retro'])\n",
    "    player_info['fangraphs_id'].append(player['key_fangraphs'])\n",
    "\n",
    "\n",
    "for index, row in player_xfip_df.iterrows():\n",
    "    player_id = row['IDfg']\n",
    "    \n",
    "    try:\n",
    "        player = playerid_reverse_lookup([player_id], key_type='fangraphs').iloc[0]\n",
    "        \n",
    "        player_info['last_name'].append(player['name_last'])\n",
    "        player_info['first_name'].append(player['name_first'])\n",
    "        player_info['mlbam_id'].append(player['key_mlbam'])\n",
    "        player_info['retrosheet_id'].append(player['key_retro'])\n",
    "        player_info['fangraphs_id'].append(player['key_fangraphs'])\n",
    "    except: # no player id record exists yet (no games played before 2024)\n",
    "        print(row['Name'])"
   ]
  },
  {
   "cell_type": "code",
   "execution_count": 13,
   "id": "ec7794b6-ce84-48b1-b6b9-b92147033af9",
   "metadata": {},
   "outputs": [],
   "source": [
    "player_info_df = pd.DataFrame(player_info)\n",
    "player_info_df.to_csv('../data/player_info.csv', index=False)"
   ]
  },
  {
   "cell_type": "markdown",
   "id": "337e3a1a-4db4-46fe-9b26-9bbc4eee1a02",
   "metadata": {
    "jp-MarkdownHeadingCollapsed": true
   },
   "source": [
    "### Rookie statistics\n",
    "\n",
    "Players who do not have any records for the past 3 seasons will be assumed to have a \"rookie average\" value. Rookie average stats will be calculated here and saved to a csv file for future access.\n",
    "\n",
    "For the purposes of this research, a rookie is defined as any player who has never played prior to a certain season. This is different from MLB's definition of a rookie, outlined here: https://www.mlb.com/glossary/rules/rookie-eligibility"
   ]
  },
  {
   "cell_type": "code",
   "execution_count": 18,
   "id": "4294f6f4-193f-4a76-a0c6-c3bd6b17d4bc",
   "metadata": {},
   "outputs": [],
   "source": [
    "### DON'T RUN AGAIN!!!\n",
    "\n",
    "rookie_stats = {\n",
    "    'stat_type': [],\n",
    "    'year': [],\n",
    "    'value': [],\n",
    "    'avg_sample_size': []\n",
    "}\n",
    "\n",
    "\n",
    "player_xwoba_df = pd.read_csv('../data/player_xwoba.csv')\n",
    "player_xwoba_df = player_xwoba_df.sort_values('year')\n",
    "\n",
    "player_xfip_df = pd.read_csv('../data/player_xfip.csv')\n",
    "player_xfip_df = player_xfip_df.sort_values('Season')\n",
    "\n",
    "\n",
    "current_year = 2015\n",
    "\n",
    "xwoba_stats = []\n",
    "xwoba_sizes = []\n",
    "\n",
    "for index, row in player_xwoba_df.iterrows():\n",
    "    if row['year'] == 2015:\n",
    "        continue\n",
    "\n",
    "    if row['year'] != current_year:\n",
    "        rookie_stats['stat_type'].append('xwoba')\n",
    "        rookie_stats['year'].append(current_year)\n",
    "        rookie_stats['value'].append(wavg_sample_size(xwoba_stats, xwoba_sizes))\n",
    "        rookie_stats['avg_sample_size'].append(avg_sample_size(xwoba_sizes))\n",
    "        \n",
    "        current_year = row['year']\n",
    "        xwoba_stats = []\n",
    "        xwoba_sizes = []\n",
    "\n",
    "    is_rookie = len(player_xwoba_df.loc[player_xwoba_df['player_name'] == row['player_name']].loc[player_xwoba_df['year'] < row['year']]) == 0\n",
    "\n",
    "    if is_rookie:\n",
    "        xwoba_stats.append(row['xwoba'])\n",
    "        xwoba_sizes.append(row['abs'])\n",
    "\n",
    "rookie_stats['stat_type'].append('xwoba')\n",
    "rookie_stats['year'].append(current_year)\n",
    "rookie_stats['value'].append(wavg_sample_size(xwoba_stats, xwoba_sizes))\n",
    "rookie_stats['avg_sample_size'].append(avg_sample_size(xwoba_sizes))\n",
    "\n",
    "\n",
    "current_year = 2015\n",
    "\n",
    "xfip_stats = []\n",
    "xfip_sizes = []\n",
    "\n",
    "for index, row in player_xfip_df.iterrows():\n",
    "    if row['Season'] == 2015:\n",
    "        continue\n",
    "\n",
    "    if row['Season'] != current_year:\n",
    "        rookie_stats['stat_type'].append('xfip')\n",
    "        rookie_stats['year'].append(current_year)\n",
    "        rookie_stats['value'].append(wavg_sample_size(xfip_stats, xfip_sizes))\n",
    "        rookie_stats['avg_sample_size'].append(avg_sample_size(xfip_sizes))\n",
    "        \n",
    "        current_year = row['Season']\n",
    "        xfip_stats = []\n",
    "        xfip_sizes = []\n",
    "\n",
    "    is_rookie = len(player_xfip_df.loc[player_xfip_df['Name'] == row['Name']].loc[player_xfip_df['Season'] < row['Season']]) == 0\n",
    "\n",
    "    if is_rookie:\n",
    "        xfip_stats.append(row['xFIP'])\n",
    "        xfip_sizes.append(row['IP'])\n",
    "\n",
    "rookie_stats['stat_type'].append('xfip')\n",
    "rookie_stats['year'].append(current_year)\n",
    "rookie_stats['value'].append(wavg_sample_size(xfip_stats, xfip_sizes))\n",
    "rookie_stats['avg_sample_size'].append(avg_sample_size(xfip_sizes))"
   ]
  },
  {
   "cell_type": "code",
   "execution_count": 14,
   "id": "67388947-eb8b-401f-bd02-7b5893a7a404",
   "metadata": {},
   "outputs": [],
   "source": [
    "def avg_sample_size(sizes):\n",
    "    if len(sizes) == 0:\n",
    "        return 0\n",
    "        \n",
    "    total = 0\n",
    "\n",
    "    for s in sizes:\n",
    "        total += s\n",
    "\n",
    "    return total / len(sizes)"
   ]
  },
  {
   "cell_type": "code",
   "execution_count": 20,
   "id": "fe5720c9-f771-4100-9d20-d9a97aedf9c8",
   "metadata": {},
   "outputs": [],
   "source": [
    "rookie_stats_df = pd.DataFrame(rookie_stats)\n",
    "rookie_stats_df.to_csv('../data/rookie_stats.csv')"
   ]
  },
  {
   "cell_type": "markdown",
   "id": "bf1e952a-83c4-4bc0-9a86-d91fe43883d6",
   "metadata": {
    "jp-MarkdownHeadingCollapsed": true
   },
   "source": [
    "## Compiling team metrics\n",
    "\n",
    "The following code will calculate the win percentage in 1-run games and the season run differential after traversing through game logs from Retrosheet. The compiled data is then saved to a csv file for later use."
   ]
  },
  {
   "cell_type": "code",
   "execution_count": 31,
   "id": "66185c0f-1f56-46a0-bc11-64ccb44e8c85",
   "metadata": {},
   "outputs": [],
   "source": [
    "### DON'T RUN AGAIN!!!\n",
    "\n",
    "team_metrics = {\n",
    "    'team': [],\n",
    "    'year': [],\n",
    "    'close_games': [],\n",
    "    'close_win_pct': [],\n",
    "    'run_diff': []\n",
    "}\n",
    "\n",
    "\n",
    "for year in range(2015, 2024): # collect data for each individual season from 2015-2023\n",
    "    gamelog_df = pd.read_csv(f'../data/gamelogs/gl{year}.txt')\n",
    "\n",
    "    for team in rs_to_bs:\n",
    "        total_rs = 0\n",
    "        total_ra = 0\n",
    "        close_wins = 0\n",
    "        close_losses = 0\n",
    "        \n",
    "        for index, row in gamelog_df.iterrows():\n",
    "            if row['away_team'] != team and row['home_team'] != team:\n",
    "                continue\n",
    "\n",
    "            if row['away_team'] == team:\n",
    "                rs = row['away_score']\n",
    "                ra = row['home_score']\n",
    "            \n",
    "            if row['home_team'] == team:\n",
    "                rs = row['home_score']\n",
    "                ra = row['away_score']\n",
    "                \n",
    "            total_rs += rs\n",
    "            total_ra += ra\n",
    "\n",
    "            if abs(rs - ra) <= 1:\n",
    "                if rs > ra:\n",
    "                    close_wins += 1\n",
    "                \n",
    "                if ra > rs:\n",
    "                    close_losses += 1\n",
    "\n",
    "        team_metrics['team'].append(rs_to_bs[team])\n",
    "        team_metrics['year'].append(year)\n",
    "        team_metrics['close_games'].append(close_wins + close_losses)\n",
    "        team_metrics['close_win_pct'].append(close_wins / (close_wins + close_losses))\n",
    "        team_metrics['run_diff'].append(total_rs - total_ra)"
   ]
  },
  {
   "cell_type": "code",
   "execution_count": 33,
   "id": "62d9ac3a-f4db-4882-9609-9a9e9d65e49c",
   "metadata": {},
   "outputs": [],
   "source": [
    "team_metrics_df = pd.DataFrame(team_metrics)\n",
    "team_metrics_df.to_csv('../data/team_metrics.csv', index=False)"
   ]
  },
  {
   "cell_type": "markdown",
   "id": "d89f390d-426f-4b58-804a-514c117a7e75",
   "metadata": {
    "jp-MarkdownHeadingCollapsed": true
   },
   "source": [
    "## Compiling batting data\n",
    "\n",
    "The following code will calculate the team xwOBA differential after traversing through the data for team xwOBA and team xwOBA against from Baseball Savant. The compiled data is then saved to a csv file for later use."
   ]
  },
  {
   "cell_type": "code",
   "execution_count": 21,
   "id": "3a0b036d-173d-4d59-b127-aa020b33ff3c",
   "metadata": {},
   "outputs": [],
   "source": [
    "### DON'T RUN AGAIN!!!\n",
    "\n",
    "team_xwoba_diff = {\n",
    "    'team': [],\n",
    "    'year': [],\n",
    "    'xwoba_diff': [],\n",
    "}\n",
    "\n",
    "\n",
    "team_xwoba_df = pd.read_csv('../data/team_xwoba.csv')\n",
    "team_xwoba_against_df = pd.read_csv('../data/team_xwoba_against.csv')\n",
    "\n",
    "\n",
    "for index1, row1 in team_xwoba_df.iterrows():\n",
    "    for index2, row2 in team_xwoba_against_df.iterrows():\n",
    "        if row1['player_name'] != row2['player_name'] or row1['year'] != row2['year']:\n",
    "            continue\n",
    "\n",
    "        team_xwoba_diff['team'].append(row1['player_name'])\n",
    "        team_xwoba_diff['year'].append(row1['year'])\n",
    "        team_xwoba_diff['xwoba_diff'].append(row1['xwoba'] - row2['xwoba'])"
   ]
  },
  {
   "cell_type": "code",
   "execution_count": 24,
   "id": "399953f4-5204-4b90-8e04-ada09aa58113",
   "metadata": {},
   "outputs": [],
   "source": [
    "team_xwoba_diff_df = pd.DataFrame(team_xwoba_diff)\n",
    "team_xwoba_diff_df.to_csv('../data/team_xwoba_diff.csv', index=False)"
   ]
  },
  {
   "cell_type": "markdown",
   "id": "1a98fe6f-09b5-4f46-a1fa-496eb013838f",
   "metadata": {
    "jp-MarkdownHeadingCollapsed": true
   },
   "source": [
    "## Compiling pitching data\n",
    "\n",
    "The following code will retrieve the data for team and player xFIP from FanGraphs, using pybaseball. The compiled data is then saved to a csv file for later use.\n",
    "\n",
    "https://github.com/jldbc/pybaseball"
   ]
  },
  {
   "cell_type": "code",
   "execution_count": 12,
   "id": "b7090b2b-7e68-40e4-89d3-d5ff7bde7960",
   "metadata": {},
   "outputs": [],
   "source": [
    "### DON'T RUN AGAIN!!!\n",
    "\n",
    "team_xfip_df = team_pitching(2015, 2024)\n",
    "team_xfip_df.to_csv('../data/team_xfip.csv', index=False)\n",
    "\n",
    "player_xfip_df = pitching_stats(2015, 2024, qual=20)\n",
    "player_xfip_df.to_csv('../data/player_xfip.csv', index=False)"
   ]
  },
  {
   "cell_type": "markdown",
   "id": "4a9f883f-5b1b-451f-aacb-a3a07ac0a234",
   "metadata": {},
   "source": [
    "## Compiling all of the data\n",
    "\n",
    "The following code will compile all of the data into one big csv file containing information about each game from 2017 to 2023."
   ]
  },
  {
   "cell_type": "code",
   "execution_count": 25,
   "id": "8da9483c-c94f-4487-8460-22eae849b801",
   "metadata": {},
   "outputs": [],
   "source": [
    "team_xwoba_diff_df = pd.read_csv('../data/team_xwoba_diff.csv')\n",
    "player_xwoba_df = pd.read_csv('../data/player_xwoba.csv')\n",
    "team_xfip_df = pd.read_csv('../data/team_xfip.csv')\n",
    "player_xfip_df = pd.read_csv('../data/player_xfip.csv')\n",
    "team_metrics_df = pd.read_csv('../data/team_metrics.csv')\n",
    "player_info_df = pd.read_csv('../data/player_info.csv')\n",
    "rookie_stats_df = pd.read_csv('../data/rookie_stats.csv')"
   ]
  },
  {
   "cell_type": "code",
   "execution_count": 26,
   "id": "ebdf881d-2a34-44df-8cbc-4a573315eff8",
   "metadata": {},
   "outputs": [],
   "source": [
    "# assign weights based on recency (60%, 25%, 15%)\n",
    "def wavg_recency(stats):\n",
    "    return stats[2] * 0.6 + stats[1] * 0.25 + stats[0] * 0.15"
   ]
  },
  {
   "cell_type": "code",
   "execution_count": 27,
   "id": "598efcdd-953a-4ccb-8dea-e661d5fb8a23",
   "metadata": {},
   "outputs": [],
   "source": [
    "# assign weights based on playing time (sample size for statistic)\n",
    "def wavg_sample_size(stats, sizes):\n",
    "    total = 0\n",
    "    avg_stat = 0\n",
    "    \n",
    "    for s in sizes:\n",
    "        total += s\n",
    "\n",
    "    for i in range(len(stats)):\n",
    "        avg_stat += stats[i] * (sizes[i] / total)\n",
    "\n",
    "    return avg_stat"
   ]
  },
  {
   "cell_type": "code",
   "execution_count": 28,
   "id": "79fac54d-a89f-4c68-9fe4-30077837295d",
   "metadata": {},
   "outputs": [],
   "source": [
    "def wavg_combined(stats, sizes):\n",
    "    rec = wavg_recency(stats)\n",
    "    siz = wavg_sample_size(stats, sizes)\n",
    "\n",
    "    return (rec + rec + siz) / 3"
   ]
  },
  {
   "cell_type": "code",
   "execution_count": 29,
   "id": "d950533e-8869-4255-8840-9e4125b2f5be",
   "metadata": {},
   "outputs": [],
   "source": [
    "def get_team_xwoba_diff(year, team):\n",
    "    data_year1 = team_xwoba_diff_df['xwoba_diff'].loc[team_xwoba_diff_df['team'] == team].loc[team_xwoba_diff_df['year'] == year - 2].iloc[0]\n",
    "    data_year2 = team_xwoba_diff_df['xwoba_diff'].loc[team_xwoba_diff_df['team'] == team].loc[team_xwoba_diff_df['year'] == year - 1].iloc[0]\n",
    "    data_year3 = team_xwoba_diff_df['xwoba_diff'].loc[team_xwoba_diff_df['team'] == team].loc[team_xwoba_diff_df['year'] == year].iloc[0]\n",
    "    \n",
    "    return wavg_recency([data_year1, data_year2, data_year3])"
   ]
  },
  {
   "cell_type": "code",
   "execution_count": 30,
   "id": "f14c41a0-0f3a-494d-961d-b5dabf60aa61",
   "metadata": {},
   "outputs": [],
   "source": [
    "def get_team_xfip(year, team):\n",
    "    data_year1 = team_xfip_df['xFIP'].loc[team_xfip_df['Team'] == team].loc[team_xfip_df['Season'] == year - 2].iloc[0]\n",
    "    data_year2 = team_xfip_df['xFIP'].loc[team_xfip_df['Team'] == team].loc[team_xfip_df['Season'] == year - 1].iloc[0]\n",
    "    data_year3 = team_xfip_df['xFIP'].loc[team_xfip_df['Team'] == team].loc[team_xfip_df['Season'] == year].iloc[0]\n",
    "\n",
    "    return wavg_recency([data_year1, data_year2, data_year3])"
   ]
  },
  {
   "cell_type": "code",
   "execution_count": 31,
   "id": "68b5300a-f2c6-4f9f-a353-b9ff5fb96f4f",
   "metadata": {},
   "outputs": [],
   "source": [
    "def get_close_win_pct(year, team):\n",
    "    data_year1 = team_metrics_df['close_win_pct'].loc[team_metrics_df['team'] == team].loc[team_metrics_df['year'] == year - 2].iloc[0]\n",
    "    data_year2 = team_metrics_df['close_win_pct'].loc[team_metrics_df['team'] == team].loc[team_metrics_df['year'] == year - 1].iloc[0]\n",
    "    data_year3 = team_metrics_df['close_win_pct'].loc[team_metrics_df['team'] == team].loc[team_metrics_df['year'] == year].iloc[0]\n",
    "    \n",
    "    return wavg_recency([data_year1, data_year2, data_year3])"
   ]
  },
  {
   "cell_type": "code",
   "execution_count": 32,
   "id": "1f94582b-feca-451a-85c4-f854e536668b",
   "metadata": {},
   "outputs": [],
   "source": [
    "def get_run_diff(year, team):\n",
    "    data_year1 = team_metrics_df['run_diff'].loc[team_metrics_df['team'] == team].loc[team_metrics_df['year'] == year - 2].iloc[0]\n",
    "    data_year2 = team_metrics_df['run_diff'].loc[team_metrics_df['team'] == team].loc[team_metrics_df['year'] == year - 1].iloc[0]\n",
    "    data_year3 = team_metrics_df['run_diff'].loc[team_metrics_df['team'] == team].loc[team_metrics_df['year'] == year].iloc[0]\n",
    "    \n",
    "    return wavg_recency([data_year1, data_year2, data_year3])"
   ]
  },
  {
   "cell_type": "code",
   "execution_count": 47,
   "id": "fac590e1-46a2-4494-8e7a-3c19efa5f4d5",
   "metadata": {},
   "outputs": [],
   "source": [
    "def get_lineup_xwoba(year, lineup):\n",
    "    total_xwoba = 0\n",
    "    rookie_stat = rookie_stats_df['value'].loc[rookie_stats_df['year'] == year].loc[rookie_stats_df['stat_type'] == 'xwoba'].iloc[0]\n",
    "    rookie_sample_size = rookie_stats_df['avg_sample_size'].loc[rookie_stats_df['year'] == year].loc[rookie_stats_df['stat_type'] == 'xwoba'].iloc[0]\n",
    "    \n",
    "    for hitter in lineup:\n",
    "        mlbam_id = player_info_df['mlbam_id'].loc[player_info_df['retrosheet_id'] == hitter]\n",
    "        \n",
    "        if len(mlbam_id) == 0: # player doesn't have past records (probably a rookie)\n",
    "            total_xwoba += rookie_stat\n",
    "            continue\n",
    "            \n",
    "        mlbam_id = mlbam_id.iloc[0]\n",
    "        stats = []\n",
    "        sizes = []\n",
    "        is_rookie = []\n",
    "        \n",
    "        for i in range(-2, 1):\n",
    "            player_data = player_xwoba_df[['xwoba', 'abs']].loc[player_xwoba_df['player_id'] == mlbam_id].loc[player_xwoba_df['year'] == year + i]\n",
    "            \n",
    "            if len(player_data) == 0:\n",
    "                stats.append(rookie_stat)\n",
    "                sizes.append(rookie_sample_size)\n",
    "                is_rookie.append(True)\n",
    "            else:\n",
    "                stats.append(player_data['xwoba'].iloc[0])\n",
    "                sizes.append(player_data['abs'].iloc[0])\n",
    "\n",
    "                if len(is_rookie) > 0 and is_rookie[0]:\n",
    "                    stats[0] = stats[-1]\n",
    "                    sizes[0] = sizes[-1]\n",
    "\n",
    "                if len(is_rookie) > 1 and is_rookie[1]:\n",
    "                    stats[1] = stats[-1]\n",
    "                    sizes[1] = sizes[-1]\n",
    "                    \n",
    "                is_rookie.append(False)\n",
    "\n",
    "        total_xwoba += wavg_combined(stats, sizes)\n",
    "\n",
    "    return total_xwoba / 9"
   ]
  },
  {
   "cell_type": "code",
   "execution_count": 41,
   "id": "be399454-431c-48be-bf28-d18827076cb3",
   "metadata": {},
   "outputs": [],
   "source": [
    "def get_starter_xfip(year, pitcher):\n",
    "    fangraphs_id = player_info_df['fangraphs_id'].loc[player_info_df['retrosheet_id'] == pitcher]\n",
    "    rookie_stat = rookie_stats_df['value'].loc[rookie_stats_df['year'] == year].loc[rookie_stats_df['stat_type'] == 'xfip'].iloc[0]\n",
    "    rookie_sample_size = rookie_stats_df['avg_sample_size'].loc[rookie_stats_df['year'] == year].loc[rookie_stats_df['stat_type'] == 'xfip'].iloc[0]\n",
    "    \n",
    "    if len(fangraphs_id) == 0: # player doesn't have past records (probably a rookie)\n",
    "        return rookie_stat\n",
    "    \n",
    "    fangraphs_id = fangraphs_id.iloc[0]\n",
    "    stats = []\n",
    "    sizes = []\n",
    "    is_rookie = []\n",
    "\n",
    "    for i in range(-2, 1):\n",
    "        player_data = player_xfip_df[['xFIP', 'IP']].loc[player_xfip_df['IDfg'] == fangraphs_id].loc[player_xfip_df['Season'] == year + i]\n",
    "    \n",
    "        if len(player_data) == 0:\n",
    "            stats.append(rookie_stat)\n",
    "            sizes.append(rookie_sample_size)\n",
    "            is_rookie.append(True)\n",
    "        else:\n",
    "            stats.append(player_data['xFIP'].iloc[0])\n",
    "            sizes.append(player_data['IP'].iloc[0])\n",
    "            \n",
    "            if len(is_rookie) > 0 and is_rookie[0]:\n",
    "                stats[0] = stats[-1]\n",
    "                sizes[0] = sizes[-1]\n",
    "\n",
    "            if len(is_rookie) > 1 and is_rookie[1]:\n",
    "                stats[1] = stats[-1]\n",
    "                sizes[1] = sizes[-1]\n",
    "                \n",
    "            is_rookie.append(False)\n",
    "            \n",
    "    return wavg_combined(stats, sizes)"
   ]
  },
  {
   "cell_type": "code",
   "execution_count": 43,
   "id": "f814152c-c615-42d6-896c-ec3bf4a80ddc",
   "metadata": {},
   "outputs": [],
   "source": [
    "# enter individual game data into the dictionary\n",
    "\n",
    "def write_game_data(data, row, year):\n",
    "    data['away_team'].append(rs_to_bs[row['away_team']])\n",
    "    data['away_score'].append(row['away_score'])\n",
    "    data['away_team_xwoba_diff'].append(get_team_xwoba_diff(year, rs_to_bs[row['away_team']]))\n",
    "    data['away_lineup_xwoba'].append(get_lineup_xwoba(year, [row['away_1_id'], row['away_2_id'], row['away_3_id'],\n",
    "                                                            row['away_4_id'], row['away_5_id'], row['away_6_id'],\n",
    "                                                            row['away_7_id'], row['away_8_id'], row['away_9_id']]))\n",
    "    data['away_team_xfip'].append(get_team_xfip(year, rs_to_fg[row['away_team']]))\n",
    "    data['away_starter_xfip'].append(get_starter_xfip(year, row['away_starter_id']))\n",
    "    data['away_close_win_pct'].append(get_close_win_pct(year, rs_to_bs[row['away_team']]))\n",
    "    data['away_run_diff'].append(get_run_diff(year, rs_to_bs[row['away_team']]))\n",
    "    data['home_team'].append(rs_to_bs[row['home_team']])\n",
    "    data['home_score'].append(row['home_score'])\n",
    "    data['home_team_xwoba_diff'].append(get_team_xwoba_diff(year, rs_to_bs[row['home_team']]))\n",
    "    data['home_lineup_xwoba'].append(get_lineup_xwoba(year, [row['home_1_id'], row['home_2_id'], row['home_3_id'],\n",
    "                                                            row['home_4_id'], row['home_5_id'], row['home_6_id'],\n",
    "                                                            row['home_7_id'], row['home_8_id'], row['home_9_id']]))\n",
    "    data['home_team_xfip'].append(get_team_xfip(year, rs_to_fg[row['home_team']]))\n",
    "    data['home_starter_xfip'].append(get_starter_xfip(year, row['home_starter_id']))\n",
    "    data['home_close_win_pct'].append(get_close_win_pct(year, rs_to_bs[row['home_team']]))\n",
    "    data['home_run_diff'].append(get_run_diff(year, rs_to_bs[row['home_team']]))"
   ]
  },
  {
   "cell_type": "code",
   "execution_count": 48,
   "id": "e9813aa3-7f47-4527-b52b-5f06b6f74117",
   "metadata": {},
   "outputs": [],
   "source": [
    "# training data - game results from 2017-2023\n",
    "\n",
    "train_data = {\n",
    "    'away_team': [],\n",
    "    'away_score': [],\n",
    "    'away_team_xwoba_diff': [],\n",
    "    'away_lineup_xwoba': [],\n",
    "    'away_team_xfip': [],\n",
    "    'away_starter_xfip': [],\n",
    "    'away_close_win_pct': [],\n",
    "    'away_run_diff': [],\n",
    "    'home_team': [],\n",
    "    'home_score': [],\n",
    "    'home_team_xwoba_diff': [],\n",
    "    'home_lineup_xwoba': [],\n",
    "    'home_team_xfip': [],\n",
    "    'home_starter_xfip': [],\n",
    "    'home_close_win_pct': [],\n",
    "    'home_run_diff': []\n",
    "}"
   ]
  },
  {
   "cell_type": "code",
   "execution_count": 50,
   "id": "517811c5-0593-47dc-97aa-06f11f486e7f",
   "metadata": {},
   "outputs": [],
   "source": [
    "for year in range(2017, 2024):\n",
    "    gamelog_df = pd.read_csv(f'../data/gamelogs/gl{year}.txt')\n",
    "    \n",
    "    for index, row in gamelog_df.iterrows():\n",
    "        write_game_data(train_data, row, year)"
   ]
  },
  {
   "cell_type": "code",
   "execution_count": 52,
   "id": "a6c00b50-7777-4e1e-92ee-8481c5220136",
   "metadata": {},
   "outputs": [],
   "source": [
    "version = 6\n",
    "\n",
    "game_data_df = pd.DataFrame(train_data)\n",
    "game_data_df.to_csv(f'../data/game_data_v{version}.csv', index=False)"
   ]
  },
  {
   "cell_type": "code",
   "execution_count": 49,
   "id": "447acea6-0180-4e20-b519-78ab97d02fea",
   "metadata": {},
   "outputs": [
    {
     "data": {
      "text/plain": [
       "{'away_team': [],\n",
       " 'away_score': [],\n",
       " 'away_team_xwoba_diff': [],\n",
       " 'away_lineup_xwoba': [],\n",
       " 'away_team_xfip': [],\n",
       " 'away_starter_xfip': [],\n",
       " 'away_close_win_pct': [],\n",
       " 'away_run_diff': [],\n",
       " 'home_team': [],\n",
       " 'home_score': [],\n",
       " 'home_team_xwoba_diff': [],\n",
       " 'home_lineup_xwoba': [],\n",
       " 'home_team_xfip': [],\n",
       " 'home_starter_xfip': [],\n",
       " 'home_close_win_pct': [],\n",
       " 'home_run_diff': []}"
      ]
     },
     "execution_count": 49,
     "metadata": {},
     "output_type": "execute_result"
    }
   ],
   "source": [
    "train_data"
   ]
  },
  {
   "cell_type": "code",
   "execution_count": 50,
   "id": "822c4e24-8981-4d74-8a45-f186b5097a18",
   "metadata": {},
   "outputs": [
    {
     "name": "stdout",
     "output_type": "stream",
     "text": [
      "Games with rookies playing: 4619\n",
      "Total games: 15477\n",
      "Percentage: 29.844285068165664%\n"
     ]
    }
   ],
   "source": [
    "print(f'Games with rookies playing: {games_with_rookies}')\n",
    "print(f'Total games: {total_games}')\n",
    "print(f'Percentage: {games_with_rookies / total_games * 100}%')"
   ]
  },
  {
   "cell_type": "code",
   "execution_count": 78,
   "id": "e80ea115-4a9e-4ee1-96bc-0faba964f737",
   "metadata": {},
   "outputs": [
    {
     "data": {
      "text/plain": [
       "np.float64(3.365871315413583)"
      ]
     },
     "execution_count": 78,
     "metadata": {},
     "output_type": "execute_result"
    }
   ],
   "source": [
    "# get_team_xwoba_diff(2024, 'TEX')\n",
    "# get_lineup_xwoba(2024, ['semim001', 'seagc001', 'smitj007', 'langw001', 'garca005', 'lowen001', 'heimj001', 'tavel001', 'jankt001'])\n",
    "# get_team_xfip(2024, 'TEX')\n",
    "# get_starter_xfip(2024, 'eovan001')\n",
    "# get_team_xwoba_diff(2024, 'BAL')\n",
    "# get_lineup_xwoba(2024, ['hendg002', 'rutsa001', 'mounr001', 'santa003', 'westj002', 'haysa001', 'matej003', 'cowsc001', 'mccaj001'])\n",
    "# get_team_xfip(2024, 'BAL')\n",
    "get_starter_xfip(2024, 'burnc002')"
   ]
  }
 ],
 "metadata": {
  "kernelspec": {
   "display_name": "env",
   "language": "python",
   "name": "env"
  },
  "language_info": {
   "codemirror_mode": {
    "name": "ipython",
    "version": 3
   },
   "file_extension": ".py",
   "mimetype": "text/x-python",
   "name": "python",
   "nbconvert_exporter": "python",
   "pygments_lexer": "ipython3",
   "version": "3.12.4"
  }
 },
 "nbformat": 4,
 "nbformat_minor": 5
}
