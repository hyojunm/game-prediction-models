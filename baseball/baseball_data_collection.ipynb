{
 "cells": [
  {
   "cell_type": "code",
   "execution_count": null,
   "id": "93ed065e-ab21-4466-9449-c99441983b7f",
   "metadata": {},
   "outputs": [],
   "source": [
    "import sys\n",
    "!{sys.executable} -m pip install pandas pybaseball"
   ]
  },
  {
   "cell_type": "code",
   "execution_count": 1,
   "id": "279ba001-bec3-4f8f-b376-eca0681251f6",
   "metadata": {},
   "outputs": [],
   "source": [
    "import pandas as pd\n",
    "from pybaseball import team_pitching, pitching_stats, playerid_reverse_lookup"
   ]
  },
  {
   "cell_type": "markdown",
   "id": "548dc26c-2097-4e54-87ee-6b6f0fc2a8b2",
   "metadata": {},
   "source": [
    "# Collecting baseball data\n",
    "\n",
    "This model will be using the following statistics (for each of home and away teams) in each game:\n",
    "\n",
    "* Team name\n",
    "* Team xwOBA differential\n",
    "* Lineup xwOBA (for the 9 hitters in the starting lineup)\n",
    "* Team xFIP\n",
    "* Starting pitcher xFIP\n",
    "* Win percentage in 1-run games\n",
    "* Season run differential\n",
    "\n",
    "To predict the following outcomes:\n",
    "\n",
    "* Runs scored\n",
    "* ... and therefore, the game's winner\n",
    "\n",
    "All numerical data will be from the past 3 seasons.\n",
    "\n",
    "Data are provided by Retrosheet, Baseball Savant, and FanGraphs (using pybaseball)."
   ]
  },
  {
   "cell_type": "markdown",
   "id": "b0c47d79-030e-426c-8be6-bad8542bf55e",
   "metadata": {
    "jp-MarkdownHeadingCollapsed": true
   },
   "source": [
    "### Team code information\n",
    "\n",
    "Since each data source uses different team codes (for example, the Chicago White Sox are represented by \"CHA\" in Retrosheet, \"CWS\" in Baseball Savant, and \"CHW\" in FanGraphs), I created some helpful dictionaries to convert from one style to the other."
   ]
  },
  {
   "cell_type": "code",
   "execution_count": 2,
   "id": "da717183-73d5-4c5b-9e52-926d98c9cf82",
   "metadata": {},
   "outputs": [],
   "source": [
    "# convert team codes from retrosheet to baseball savant style\n",
    "\n",
    "rs_to_bs = {\n",
    "    'HOU': 'HOU',\n",
    "    'TEX': 'TEX',\n",
    "    'ANA': 'LAA',\n",
    "    'OAK': 'OAK',\n",
    "    'SEA': 'SEA',\n",
    "\n",
    "    'KCA': 'KC',\n",
    "    'DET': 'DET',\n",
    "    'CLE': 'CLE',\n",
    "    'MIN': 'MIN',\n",
    "    'CHA': 'CWS',\n",
    "\n",
    "    'NYA': 'NYY',\n",
    "    'BOS': 'BOS',\n",
    "    'TBA': 'TB',\n",
    "    'TOR': 'TOR',\n",
    "    'BAL': 'BAL',\n",
    "    \n",
    "    'LAN': 'LAD',\n",
    "    'SDN': 'SD',\n",
    "    'COL': 'COL',\n",
    "    'ARI': 'AZ',\n",
    "    'SFN': 'SF',\n",
    "    \n",
    "    'MIL': 'MIL',\n",
    "    'PIT': 'PIT',\n",
    "    'SLN': 'STL',\n",
    "    'CIN': 'CIN',\n",
    "    'CHN': 'CHC',\n",
    "\n",
    "    'NYN': 'NYM',\n",
    "    'ATL': 'ATL',\n",
    "    'PHI': 'PHI',\n",
    "    'WAS': 'WSH',\n",
    "    'MIA': 'MIA',\n",
    "}"
   ]
  },
  {
   "cell_type": "code",
   "execution_count": 3,
   "id": "3b945615-2509-426f-8ad2-0e9ce2b8ba0e",
   "metadata": {},
   "outputs": [],
   "source": [
    "# convert team codes from fangraphs to baseball savant style\n",
    "\n",
    "fg_to_bs = {\n",
    "    'HOU': 'HOU',\n",
    "    'TEX': 'TEX',\n",
    "    'LAA': 'LAA',\n",
    "    'OAK': 'OAK',\n",
    "    'SEA': 'SEA',\n",
    "\n",
    "    'KCR': 'KC',\n",
    "    'DET': 'DET',\n",
    "    'CLE': 'CLE',\n",
    "    'MIN': 'MIN',\n",
    "    'CHW': 'CWS',\n",
    "\n",
    "    'NYY': 'NYY',\n",
    "    'BOS': 'BOS',\n",
    "    'TBR': 'TB',\n",
    "    'TOR': 'TOR',\n",
    "    'BAL': 'BAL',\n",
    "    \n",
    "    'LAD': 'LAD',\n",
    "    'SDP': 'SD',\n",
    "    'COL': 'COL',\n",
    "    'ARI': 'AZ',\n",
    "    'SFG': 'SF',\n",
    "    \n",
    "    'MIL': 'MIL',\n",
    "    'PIT': 'PIT',\n",
    "    'STL': 'STL',\n",
    "    'CIN': 'CIN',\n",
    "    'CHC': 'CHC',\n",
    "\n",
    "    'NYM': 'NYM',\n",
    "    'ATL': 'ATL',\n",
    "    'PHI': 'PHI',\n",
    "    'WSN': 'WSH',\n",
    "    'MIA': 'MIA',\n",
    "}"
   ]
  },
  {
   "cell_type": "code",
   "execution_count": 4,
   "id": "9c9396c3-1c64-4ee6-a993-9c40a727eb40",
   "metadata": {},
   "outputs": [],
   "source": [
    "# convert team codes from retrosheet to fangraphs style\n",
    "\n",
    "rs_to_fg = {\n",
    "    'HOU': 'HOU',\n",
    "    'TEX': 'TEX',\n",
    "    'ANA': 'LAA',\n",
    "    'OAK': 'OAK',\n",
    "    'SEA': 'SEA',\n",
    "\n",
    "    'KCA': 'KCR',\n",
    "    'DET': 'DET',\n",
    "    'CLE': 'CLE',\n",
    "    'MIN': 'MIN',\n",
    "    'CHA': 'CHW',\n",
    "\n",
    "    'NYA': 'NYY',\n",
    "    'BOS': 'BOS',\n",
    "    'TBA': 'TBR',\n",
    "    'TOR': 'TOR',\n",
    "    'BAL': 'BAL',\n",
    "    \n",
    "    'LAN': 'LAD',\n",
    "    'SDN': 'SDP',\n",
    "    'COL': 'COL',\n",
    "    'ARI': 'ARI',\n",
    "    'SFN': 'SFG',\n",
    "    \n",
    "    'MIL': 'MIL',\n",
    "    'PIT': 'PIT',\n",
    "    'SLN': 'STL',\n",
    "    'CIN': 'CIN',\n",
    "    'CHN': 'CHC',\n",
    "\n",
    "    'NYN': 'NYM',\n",
    "    'ATL': 'ATL',\n",
    "    'PHI': 'PHI',\n",
    "    'WAS': 'WSN',\n",
    "    'MIA': 'MIA',\n",
    "}"
   ]
  },
  {
   "cell_type": "markdown",
   "id": "93223d76-ea8b-4d61-9c9d-91ed96a35574",
   "metadata": {
    "jp-MarkdownHeadingCollapsed": true
   },
   "source": [
    "### Player code information\n",
    "\n",
    "Because player names can be entered differently in different data sources (especially regarding the use of accent markings, suffixes, abbreviated names, and hyphenated names), I created a csv file containing each player's name and IDs for each data source."
   ]
  },
  {
   "cell_type": "code",
   "execution_count": 5,
   "id": "3109d0f8-b51c-405f-afdd-64632996ef7f",
   "metadata": {},
   "outputs": [
    {
     "name": "stdout",
     "output_type": "stream",
     "text": [
      "Gathering player lookup table. This may take a moment.\n"
     ]
    }
   ],
   "source": [
    "### DON'T RUN AGAIN!!!\n",
    "\n",
    "player_info = {\n",
    "    'last_name': [],\n",
    "    'first_name': [],\n",
    "    'mlbam_id': [],\n",
    "    'retrosheet_id': [],\n",
    "    'fangraphs_id': []\n",
    "}\n",
    "\n",
    "\n",
    "player_xwoba_df = pd.read_csv('../data/player_xwoba.csv')\n",
    "player_xfip_df = pd.read_csv('../data/player_xfip.csv')\n",
    "\n",
    "\n",
    "for index, row in player_xwoba_df.iterrows():\n",
    "    player_id = row['player_id']\n",
    "    player = playerid_reverse_lookup([player_id], key_type='mlbam').iloc[0]\n",
    "    \n",
    "    player_info['last_name'].append(player['name_last'])\n",
    "    player_info['first_name'].append(player['name_first'])\n",
    "    player_info['mlbam_id'].append(player['key_mlbam'])\n",
    "    player_info['retrosheet_id'].append(player['key_retro'])\n",
    "    player_info['fangraphs_id'].append(player['key_fangraphs'])\n",
    "\n",
    "\n",
    "for index, row in player_xfip_df.iterrows():\n",
    "    player_id = row['IDfg']\n",
    "    player = playerid_reverse_lookup([player_id], key_type='fangraphs').iloc[0]\n",
    "    \n",
    "    player_info['last_name'].append(player['name_last'])\n",
    "    player_info['first_name'].append(player['name_first'])\n",
    "    player_info['mlbam_id'].append(player['key_mlbam'])\n",
    "    player_info['retrosheet_id'].append(player['key_retro'])\n",
    "    player_info['fangraphs_id'].append(player['key_fangraphs'])"
   ]
  },
  {
   "cell_type": "code",
   "execution_count": 15,
   "id": "ec7794b6-ce84-48b1-b6b9-b92147033af9",
   "metadata": {},
   "outputs": [],
   "source": [
    "player_info_df = pd.DataFrame(player_info)\n",
    "player_info_df.to_csv('../data/player_info.csv', index=False)"
   ]
  },
  {
   "cell_type": "markdown",
   "id": "bf1e952a-83c4-4bc0-9a86-d91fe43883d6",
   "metadata": {
    "jp-MarkdownHeadingCollapsed": true
   },
   "source": [
    "## Calculating team metrics\n",
    "\n",
    "The following code will calculate the win percentage in 1-run games and the season run differential after traversing through game logs from Retrosheet. The compiled data is then saved to a csv file for later use."
   ]
  },
  {
   "cell_type": "code",
   "execution_count": 31,
   "id": "66185c0f-1f56-46a0-bc11-64ccb44e8c85",
   "metadata": {},
   "outputs": [],
   "source": [
    "### DON'T RUN AGAIN!!!\n",
    "\n",
    "team_metrics = {\n",
    "    'team': [],\n",
    "    'year': [],\n",
    "    'close_games': [],\n",
    "    'close_win_pct': [],\n",
    "    'run_diff': []\n",
    "}\n",
    "\n",
    "\n",
    "for year in range(2015, 2024): # collect data for each individual season from 2015-2023\n",
    "    gamelog_df = pd.read_csv(f'../data/gamelogs/gl{year}.txt')\n",
    "\n",
    "    for team in rs_to_bs:\n",
    "        total_rs = 0\n",
    "        total_ra = 0\n",
    "        close_wins = 0\n",
    "        close_losses = 0\n",
    "        \n",
    "        for index, row in gamelog_df.iterrows():\n",
    "            if row['away_team'] != team and row['home_team'] != team:\n",
    "                continue\n",
    "\n",
    "            if row['away_team'] == team:\n",
    "                rs = row['away_score']\n",
    "                ra = row['home_score']\n",
    "            \n",
    "            if row['home_team'] == team:\n",
    "                rs = row['home_score']\n",
    "                ra = row['away_score']\n",
    "                \n",
    "            total_rs += rs\n",
    "            total_ra += ra\n",
    "\n",
    "            if abs(rs - ra) <= 1:\n",
    "                if rs > ra:\n",
    "                    close_wins += 1\n",
    "                \n",
    "                if ra > rs:\n",
    "                    close_losses += 1\n",
    "\n",
    "        team_metrics['team'].append(rs_to_bs[team])\n",
    "        team_metrics['year'].append(year)\n",
    "        team_metrics['close_games'].append(close_wins + close_losses)\n",
    "        team_metrics['close_win_pct'].append(close_wins / (close_wins + close_losses))\n",
    "        team_metrics['run_diff'].append(total_rs - total_ra)"
   ]
  },
  {
   "cell_type": "code",
   "execution_count": 33,
   "id": "62d9ac3a-f4db-4882-9609-9a9e9d65e49c",
   "metadata": {},
   "outputs": [],
   "source": [
    "team_metrics_df = pd.DataFrame(team_metrics)\n",
    "team_metrics_df.to_csv('../data/team_metrics.csv', index=False)"
   ]
  },
  {
   "cell_type": "markdown",
   "id": "d89f390d-426f-4b58-804a-514c117a7e75",
   "metadata": {
    "jp-MarkdownHeadingCollapsed": true
   },
   "source": [
    "## Calculating batting data\n",
    "\n",
    "The following code will calculate the team xwOBA differential after traversing through the data for team xwOBA and team xwOBA against from Baseball Savant. The compiled data is then saved to a csv file for later use."
   ]
  },
  {
   "cell_type": "code",
   "execution_count": 8,
   "id": "3a0b036d-173d-4d59-b127-aa020b33ff3c",
   "metadata": {},
   "outputs": [],
   "source": [
    "### DON'T RUN AGAIN!!!\n",
    "\n",
    "team_xwoba_diff = {\n",
    "    'team': [],\n",
    "    'year': [],\n",
    "    'xwoba_diff': [],\n",
    "}\n",
    "\n",
    "\n",
    "team_xwoba_df = pd.read_csv('../data/team_xwoba.csv')\n",
    "team_xwoba_against_df = pd.read_csv('../data/team_xwoba_against.csv')\n",
    "\n",
    "\n",
    "for index1, row1 in team_xwoba_df.iterrows():\n",
    "    for index2, row2 in team_xwoba_against_df.iterrows():\n",
    "        if row1['player_name'] != row2['player_name'] or row1['year'] != row2['year']:\n",
    "            continue\n",
    "\n",
    "        team_xwoba_diff['team'].append(row1['player_name'])\n",
    "        team_xwoba_diff['year'].append(row1['year'])\n",
    "        team_xwoba_diff['xwoba_diff'].append(row1['xwoba'] - row2['xwoba'])"
   ]
  },
  {
   "cell_type": "code",
   "execution_count": 10,
   "id": "399953f4-5204-4b90-8e04-ada09aa58113",
   "metadata": {},
   "outputs": [],
   "source": [
    "team_xwoba_diff_df = pd.DataFrame(team_xwoba_diff)\n",
    "team_xwoba_diff_df.to_csv('../data/team_xwoba_diff.csv', index=False)"
   ]
  },
  {
   "cell_type": "markdown",
   "id": "1a98fe6f-09b5-4f46-a1fa-496eb013838f",
   "metadata": {
    "jp-MarkdownHeadingCollapsed": true
   },
   "source": [
    "## Compiling pitching data\n",
    "\n",
    "The following code will retrieve the data for team and player xFIP from FanGraphs, using pybaseball. The compiled data is then saved to a csv file for later use.\n",
    "\n",
    "https://github.com/jldbc/pybaseball"
   ]
  },
  {
   "cell_type": "code",
   "execution_count": 9,
   "id": "b7090b2b-7e68-40e4-89d3-d5ff7bde7960",
   "metadata": {},
   "outputs": [],
   "source": [
    "### DON'T RUN AGAIN!!!\n",
    "\n",
    "team_xfip_df = team_pitching(2015, 2023)\n",
    "team_xfip_df.to_csv('../data/team_xfip.csv', index=False)\n",
    "\n",
    "player_xfip_df = pitching_stats(2015, 2023, qual=20)\n",
    "player_xfip_df.to_csv('../data/player_xfip.csv', index=False)"
   ]
  },
  {
   "cell_type": "markdown",
   "id": "4a9f883f-5b1b-451f-aacb-a3a07ac0a234",
   "metadata": {
    "jp-MarkdownHeadingCollapsed": true
   },
   "source": [
    "## Compiling all of the data\n",
    "\n",
    "The following code will compile all of the data into one big csv file containing information about each game from 2017 to 2023."
   ]
  },
  {
   "cell_type": "code",
   "execution_count": 6,
   "id": "8da9483c-c94f-4487-8460-22eae849b801",
   "metadata": {},
   "outputs": [],
   "source": [
    "team_xwoba_diff_df = pd.read_csv('../data/team_xwoba_diff.csv')\n",
    "player_xwoba_df = pd.read_csv('../data/player_xwoba.csv')\n",
    "team_xfip_df = pd.read_csv('../data/team_xfip.csv')\n",
    "player_xfip_df = pd.read_csv('../data/player_xfip.csv')\n",
    "team_metrics_df = pd.read_csv('../data/team_metrics.csv')\n",
    "player_info_df = pd.read_csv('../data/player_info.csv')"
   ]
  },
  {
   "cell_type": "code",
   "execution_count": 7,
   "id": "d950533e-8869-4255-8840-9e4125b2f5be",
   "metadata": {},
   "outputs": [],
   "source": [
    "# NO WEIGHTS ADDED YET!!!\n",
    "\n",
    "def get_team_xwoba_diff(year, team):\n",
    "    data_year1 = team_xwoba_diff_df['xwoba_diff'].loc[team_xwoba_diff_df['team'] == team].loc[team_xwoba_diff_df['year'] == year - 2].iloc[0]\n",
    "    data_year2 = team_xwoba_diff_df['xwoba_diff'].loc[team_xwoba_diff_df['team'] == team].loc[team_xwoba_diff_df['year'] == year - 1].iloc[0]\n",
    "    data_year3 = team_xwoba_diff_df['xwoba_diff'].loc[team_xwoba_diff_df['team'] == team].loc[team_xwoba_diff_df['year'] == year].iloc[0]\n",
    "    \n",
    "    return (data_year1 + data_year2 + data_year3) / 3"
   ]
  },
  {
   "cell_type": "code",
   "execution_count": 8,
   "id": "fac590e1-46a2-4494-8e7a-3c19efa5f4d5",
   "metadata": {},
   "outputs": [],
   "source": [
    "# NO WEIGHTS ADDED YET!!!\n",
    "\n",
    "def get_lineup_xwoba(year, lineup):\n",
    "    total_xwoba = 0\n",
    "    \n",
    "    for hitter in lineup:\n",
    "        mlbam_id = player_info_df['mlbam_id'].loc[player_info_df['retrosheet_id'] == hitter]\n",
    "\n",
    "        if len(mlbam_id) == 0:\n",
    "            total_xwoba += 0.317 # league average in 2024; change later\n",
    "            continue\n",
    "        else:\n",
    "            mlbam_id = mlbam_id.iloc[0]\n",
    "        \n",
    "        data_year1 = player_xwoba_df['xwoba'].loc[player_xwoba_df['player_id'] == mlbam_id].loc[player_xwoba_df['year'] == year - 2]\n",
    "\n",
    "        if len(data_year1) == 0:\n",
    "            data_year1 = 0.317\n",
    "        else:\n",
    "            data_year1 = data_year1.iloc[0]\n",
    "\n",
    "        data_year2 = player_xwoba_df['xwoba'].loc[player_xwoba_df['player_id'] == mlbam_id].loc[player_xwoba_df['year'] == year - 1]\n",
    "\n",
    "        if len(data_year2) == 0:\n",
    "            data_year2 = 0.317\n",
    "        else:\n",
    "            data_year2 = data_year2.iloc[0]\n",
    "\n",
    "        data_year3 = player_xwoba_df['xwoba'].loc[player_xwoba_df['player_id'] == mlbam_id].loc[player_xwoba_df['year'] == year]\n",
    "\n",
    "        if len(data_year3) == 0:\n",
    "            data_year3 = 0.317\n",
    "        else:\n",
    "            data_year3 = data_year3.iloc[0]\n",
    "            \n",
    "        total_xwoba += (data_year1 + data_year2 + data_year3) / 3\n",
    "\n",
    "    return total_xwoba / 9"
   ]
  },
  {
   "cell_type": "code",
   "execution_count": 9,
   "id": "f14c41a0-0f3a-494d-961d-b5dabf60aa61",
   "metadata": {},
   "outputs": [],
   "source": [
    "# NO WEIGHTS ADDED YET!!!\n",
    "\n",
    "def get_team_xfip(year, team):\n",
    "    data_year1 = team_xfip_df['xFIP'].loc[team_xfip_df['Team'] == team].loc[team_xfip_df['Season'] == year - 2].iloc[0]\n",
    "    data_year2 = team_xfip_df['xFIP'].loc[team_xfip_df['Team'] == team].loc[team_xfip_df['Season'] == year - 1].iloc[0]\n",
    "    data_year3 = team_xfip_df['xFIP'].loc[team_xfip_df['Team'] == team].loc[team_xfip_df['Season'] == year].iloc[0]\n",
    "\n",
    "    return (data_year1 + data_year2 + data_year3) / 3"
   ]
  },
  {
   "cell_type": "code",
   "execution_count": 10,
   "id": "be399454-431c-48be-bf28-d18827076cb3",
   "metadata": {},
   "outputs": [],
   "source": [
    "# NO WEIGHTS ADDED YET!!!\n",
    "\n",
    "def get_starter_xfip(year, pitcher):\n",
    "    fangraphs_id = player_info_df['fangraphs_id'].loc[player_info_df['retrosheet_id'] == pitcher]\n",
    "\n",
    "    if len(fangraphs_id) == 0:\n",
    "        return 4.26 # league average in 2023; change later\n",
    "    else:\n",
    "        fangraphs_id = fangraphs_id.iloc[0]\n",
    "    \n",
    "    data_year1 = player_xfip_df['xFIP'].loc[player_xfip_df['IDfg'] == fangraphs_id].loc[player_xfip_df['Season'] == year - 2]\n",
    "\n",
    "    if len(data_year1) == 0:\n",
    "        data_year1 = 4.26\n",
    "    else:\n",
    "        data_year1 = data_year1.iloc[0]\n",
    "        \n",
    "    data_year2 = player_xfip_df['xFIP'].loc[player_xfip_df['IDfg'] == fangraphs_id].loc[player_xfip_df['Season'] == year - 1]\n",
    "\n",
    "    if len(data_year2) == 0:\n",
    "        data_year2 = 4.26 # league average in 2023; change later\n",
    "    else:\n",
    "        data_year2 = data_year2.iloc[0]\n",
    "    \n",
    "    data_year3 = player_xfip_df['xFIP'].loc[player_xfip_df['IDfg'] == fangraphs_id].loc[player_xfip_df['Season'] == year]\n",
    "\n",
    "    if len(data_year3) == 0:\n",
    "        data_year3 = 4.26 # league average in 2023; change later\n",
    "    else:\n",
    "        data_year3 = data_year3.iloc[0]\n",
    "    \n",
    "    return (data_year1 + data_year2 + data_year3) / 3"
   ]
  },
  {
   "cell_type": "code",
   "execution_count": 11,
   "id": "68b5300a-f2c6-4f9f-a353-b9ff5fb96f4f",
   "metadata": {},
   "outputs": [],
   "source": [
    "# NO WEIGHTS ADDED YET!!!\n",
    "\n",
    "def get_close_win_pct(year, team):\n",
    "    data_year1 = team_metrics_df['close_win_pct'].loc[team_metrics_df['team'] == team].loc[team_metrics_df['year'] == year - 2].iloc[0]\n",
    "    data_year2 = team_metrics_df['close_win_pct'].loc[team_metrics_df['team'] == team].loc[team_metrics_df['year'] == year - 1].iloc[0]\n",
    "    data_year3 = team_metrics_df['close_win_pct'].loc[team_metrics_df['team'] == team].loc[team_metrics_df['year'] == year].iloc[0]\n",
    "    \n",
    "    return (data_year1 + data_year2 + data_year3) / 3"
   ]
  },
  {
   "cell_type": "code",
   "execution_count": 12,
   "id": "1f94582b-feca-451a-85c4-f854e536668b",
   "metadata": {},
   "outputs": [],
   "source": [
    "# NO WEIGHTS ADDED YET!!!\n",
    "\n",
    "def get_run_diff(year, team):\n",
    "    data_year1 = team_metrics_df['run_diff'].loc[team_metrics_df['team'] == team].loc[team_metrics_df['year'] == year - 2].iloc[0]\n",
    "    data_year2 = team_metrics_df['run_diff'].loc[team_metrics_df['team'] == team].loc[team_metrics_df['year'] == year - 1].iloc[0]\n",
    "    data_year3 = team_metrics_df['run_diff'].loc[team_metrics_df['team'] == team].loc[team_metrics_df['year'] == year].iloc[0]\n",
    "    \n",
    "    return (data_year1 + data_year2 + data_year3) / 3"
   ]
  },
  {
   "cell_type": "code",
   "execution_count": 13,
   "id": "f814152c-c615-42d6-896c-ec3bf4a80ddc",
   "metadata": {},
   "outputs": [],
   "source": [
    "# enter individual game data into the dictionary\n",
    "\n",
    "def write_game_data(data, row, year):\n",
    "    data['away_team'].append(rs_to_bs[row['away_team']])\n",
    "    data['away_score'].append(row['away_score'])\n",
    "    data['away_team_xwoba_diff'].append(get_team_xwoba_diff(year, rs_to_bs[row['away_team']]))\n",
    "    data['away_lineup_xwoba'].append(get_lineup_xwoba(year, [row['away_1_id'], row['away_2_id'], row['away_3_id'],\n",
    "                                                        row['away_4_id'], row['away_5_id'], row['away_6_id'],\n",
    "                                                        row['away_7_id'], row['away_8_id'], row['away_9_id']]))\n",
    "    data['away_team_xfip'].append(get_team_xfip(year, rs_to_fg[row['away_team']]))\n",
    "    data['away_starter_xfip'].append(get_starter_xfip(year, row['away_starter_id']))\n",
    "    data['away_close_win_pct'].append(get_close_win_pct(year, rs_to_bs[row['away_team']]))\n",
    "    data['away_run_diff'].append(get_run_diff(year, rs_to_bs[row['away_team']]))\n",
    "    data['home_team'].append(rs_to_bs[row['home_team']])\n",
    "    data['home_score'].append(row['home_score'])\n",
    "    data['home_team_xwoba_diff'].append(get_team_xwoba_diff(year, rs_to_bs[row['home_team']]))\n",
    "    data['home_lineup_xwoba'].append(get_lineup_xwoba(year, [row['home_1_id'], row['home_2_id'], row['home_3_id'],\n",
    "                                                    row['home_4_id'], row['home_5_id'], row['home_6_id'],\n",
    "                                                    row['home_7_id'], row['home_8_id'], row['home_9_id']]))\n",
    "    data['home_team_xfip'].append(get_team_xfip(year, rs_to_fg[row['home_team']]))\n",
    "    data['home_starter_xfip'].append(get_starter_xfip(year, row['home_starter_id']))\n",
    "    data['home_close_win_pct'].append(get_close_win_pct(year, rs_to_bs[row['home_team']]))\n",
    "    data['home_run_diff'].append(get_run_diff(year, rs_to_bs[row['home_team']]))"
   ]
  },
  {
   "cell_type": "code",
   "execution_count": 14,
   "id": "e9813aa3-7f47-4527-b52b-5f06b6f74117",
   "metadata": {},
   "outputs": [],
   "source": [
    "# training data - game results from 2017-2022\n",
    "\n",
    "train_data = {\n",
    "    'away_team': [],\n",
    "    'away_score': [],\n",
    "    'away_team_xwoba_diff': [],\n",
    "    'away_lineup_xwoba': [],\n",
    "    'away_team_xfip': [],\n",
    "    'away_starter_xfip': [],\n",
    "    'away_close_win_pct': [],\n",
    "    'away_run_diff': [],\n",
    "    'home_team': [],\n",
    "    'home_score': [],\n",
    "    'home_team_xwoba_diff': [],\n",
    "    'home_lineup_xwoba': [],\n",
    "    'home_team_xfip': [],\n",
    "    'home_starter_xfip': [],\n",
    "    'home_close_win_pct': [],\n",
    "    'home_run_diff': []\n",
    "}"
   ]
  },
  {
   "cell_type": "code",
   "execution_count": 16,
   "id": "517811c5-0593-47dc-97aa-06f11f486e7f",
   "metadata": {},
   "outputs": [],
   "source": [
    "for year in range(2017, 2024):\n",
    "    gamelog_df = pd.read_csv(f'../data/gamelogs/gl{year}.txt')\n",
    "    \n",
    "    for index, row in gamelog_df.iterrows():\n",
    "        write_game_data(train_data, row, year)\n",
    "        \n",
    "\n",
    "game_data_df = pd.DataFrame(train_data)\n",
    "game_data_df.to_csv('../data/game_data_v1.csv', index=False)"
   ]
  }
 ],
 "metadata": {
  "kernelspec": {
   "display_name": "env",
   "language": "python",
   "name": "env"
  },
  "language_info": {
   "codemirror_mode": {
    "name": "ipython",
    "version": 3
   },
   "file_extension": ".py",
   "mimetype": "text/x-python",
   "name": "python",
   "nbconvert_exporter": "python",
   "pygments_lexer": "ipython3",
   "version": "3.12.4"
  }
 },
 "nbformat": 4,
 "nbformat_minor": 5
}
