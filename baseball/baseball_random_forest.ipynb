{
 "cells": [
  {
   "cell_type": "code",
   "execution_count": null,
   "id": "4812eb50-14cb-4f15-b673-d83ff0f8c5bb",
   "metadata": {},
   "outputs": [],
   "source": [
    "import sys\n",
    "!{sys.executable} -m pip install pandas scikit-learn matplotlib numpy"
   ]
  },
  {
   "cell_type": "code",
   "execution_count": 42,
   "id": "dbd5da1a-e357-491a-91e4-2eb6931f6eae",
   "metadata": {},
   "outputs": [],
   "source": [
    "import pandas as pd\n",
    "import numpy as np\n",
    "import matplotlib.pyplot as plt\n",
    "from sklearn.ensemble import RandomForestRegressor, RandomForestClassifier\n",
    "from sklearn.multioutput import MultiOutputRegressor\n",
    "from sklearn.model_selection import GridSearchCV, train_test_split\n",
    "from sklearn.preprocessing import StandardScaler, QuantileTransformer\n",
    "from sklearn.pipeline import Pipeline\n",
    "from sklearn.metrics import mean_squared_error"
   ]
  },
  {
   "cell_type": "code",
   "execution_count": 43,
   "id": "e5127252-eb71-4ec0-858e-bc79bf3df1b4",
   "metadata": {},
   "outputs": [
    {
     "data": {
      "text/html": [
       "<div>\n",
       "<style scoped>\n",
       "    .dataframe tbody tr th:only-of-type {\n",
       "        vertical-align: middle;\n",
       "    }\n",
       "\n",
       "    .dataframe tbody tr th {\n",
       "        vertical-align: top;\n",
       "    }\n",
       "\n",
       "    .dataframe thead th {\n",
       "        text-align: right;\n",
       "    }\n",
       "</style>\n",
       "<table border=\"1\" class=\"dataframe\">\n",
       "  <thead>\n",
       "    <tr style=\"text-align: right;\">\n",
       "      <th></th>\n",
       "      <th>away_team</th>\n",
       "      <th>away_score</th>\n",
       "      <th>away_team_xwoba_diff</th>\n",
       "      <th>away_lineup_xwoba</th>\n",
       "      <th>away_team_xfip</th>\n",
       "      <th>away_starter_xfip</th>\n",
       "      <th>away_close_win_pct</th>\n",
       "      <th>away_run_diff</th>\n",
       "      <th>home_team</th>\n",
       "      <th>home_score</th>\n",
       "      <th>home_team_xwoba_diff</th>\n",
       "      <th>home_lineup_xwoba</th>\n",
       "      <th>home_team_xfip</th>\n",
       "      <th>home_starter_xfip</th>\n",
       "      <th>home_close_win_pct</th>\n",
       "      <th>home_run_diff</th>\n",
       "    </tr>\n",
       "  </thead>\n",
       "  <tbody>\n",
       "    <tr>\n",
       "      <th>0</th>\n",
       "      <td>SF</td>\n",
       "      <td>5</td>\n",
       "      <td>-0.01395</td>\n",
       "      <td>0.324688</td>\n",
       "      <td>4.3175</td>\n",
       "      <td>3.664927</td>\n",
       "      <td>0.481528</td>\n",
       "      <td>-50.85</td>\n",
       "      <td>AZ</td>\n",
       "      <td>6</td>\n",
       "      <td>0.00290</td>\n",
       "      <td>0.311853</td>\n",
       "      <td>4.0145</td>\n",
       "      <td>3.477347</td>\n",
       "      <td>0.543823</td>\n",
       "      <td>58.35</td>\n",
       "    </tr>\n",
       "    <tr>\n",
       "      <th>1</th>\n",
       "      <td>CHC</td>\n",
       "      <td>3</td>\n",
       "      <td>0.01790</td>\n",
       "      <td>0.318530</td>\n",
       "      <td>3.9005</td>\n",
       "      <td>3.572162</td>\n",
       "      <td>0.577740</td>\n",
       "      <td>151.35</td>\n",
       "      <td>STL</td>\n",
       "      <td>4</td>\n",
       "      <td>0.02085</td>\n",
       "      <td>0.313119</td>\n",
       "      <td>3.9985</td>\n",
       "      <td>3.609118</td>\n",
       "      <td>0.486630</td>\n",
       "      <td>68.65</td>\n",
       "    </tr>\n",
       "    <tr>\n",
       "      <th>2</th>\n",
       "      <td>NYY</td>\n",
       "      <td>3</td>\n",
       "      <td>0.02180</td>\n",
       "      <td>0.328305</td>\n",
       "      <td>3.8120</td>\n",
       "      <td>3.460087</td>\n",
       "      <td>0.485525</td>\n",
       "      <td>123.20</td>\n",
       "      <td>TB</td>\n",
       "      <td>7</td>\n",
       "      <td>0.00115</td>\n",
       "      <td>0.312432</td>\n",
       "      <td>4.2200</td>\n",
       "      <td>3.293424</td>\n",
       "      <td>0.430893</td>\n",
       "      <td>-15.95</td>\n",
       "    </tr>\n",
       "  </tbody>\n",
       "</table>\n",
       "</div>"
      ],
      "text/plain": [
       "  away_team  away_score  away_team_xwoba_diff  away_lineup_xwoba  \\\n",
       "0        SF           5              -0.01395           0.324688   \n",
       "1       CHC           3               0.01790           0.318530   \n",
       "2       NYY           3               0.02180           0.328305   \n",
       "\n",
       "   away_team_xfip  away_starter_xfip  away_close_win_pct  away_run_diff  \\\n",
       "0          4.3175           3.664927            0.481528         -50.85   \n",
       "1          3.9005           3.572162            0.577740         151.35   \n",
       "2          3.8120           3.460087            0.485525         123.20   \n",
       "\n",
       "  home_team  home_score  home_team_xwoba_diff  home_lineup_xwoba  \\\n",
       "0        AZ           6               0.00290           0.311853   \n",
       "1       STL           4               0.02085           0.313119   \n",
       "2        TB           7               0.00115           0.312432   \n",
       "\n",
       "   home_team_xfip  home_starter_xfip  home_close_win_pct  home_run_diff  \n",
       "0          4.0145           3.477347            0.543823          58.35  \n",
       "1          3.9985           3.609118            0.486630          68.65  \n",
       "2          4.2200           3.293424            0.430893         -15.95  "
      ]
     },
     "execution_count": 43,
     "metadata": {},
     "output_type": "execute_result"
    }
   ],
   "source": [
    "x = pd.read_csv('../data/game_data_v5.csv')\n",
    "x.head(3)"
   ]
  },
  {
   "cell_type": "code",
   "execution_count": 44,
   "id": "26d422e3-2708-4c3a-b09b-b1e04d16f8fe",
   "metadata": {},
   "outputs": [],
   "source": [
    "# add output columns (scores) to separate dataset\n",
    "y = pd.DataFrame({'away_score': x['away_score'], 'home_score': x['home_score']})\n",
    "# y = pd.DataFrame({'home_win': x['home_score'] > x['away_score']})['home_win']\n",
    "\n",
    "# remove output columns and team names from input dataset\n",
    "x = x.drop(['away_score', 'home_score', 'away_team', 'home_team'], axis=1)"
   ]
  },
  {
   "cell_type": "code",
   "execution_count": 28,
   "id": "dae105e2-38d5-4c76-b870-bc48ce17aa97",
   "metadata": {},
   "outputs": [],
   "source": [
    "# split data into training and testing\n",
    "x_train, x_test, y_train, y_test = train_test_split(x, y, shuffle=True)"
   ]
  },
  {
   "cell_type": "code",
   "execution_count": null,
   "id": "2654efce-613e-44c2-a62d-0345e7f22d11",
   "metadata": {},
   "outputs": [],
   "source": [
    "model = MultiOutputRegressor(RandomForestRegressor(n_estimators=500, max_depth=7, max_features='sqrt', random_state=100))\n",
    "model.get_params()"
   ]
  },
  {
   "cell_type": "code",
   "execution_count": 45,
   "id": "12ef883f-72fc-49db-ab3c-3cde8731577d",
   "metadata": {},
   "outputs": [],
   "source": [
    "model_cv = GridSearchCV(estimator=MultiOutputRegressor(RandomForestRegressor()),\n",
    "                        param_grid={\n",
    "                            'estimator__n_estimators': [200, 250, 300, 350, 400, 450, 500, 550, 600],\n",
    "                            'estimator__max_depth': [3, 4, 5, 6, 7, 8, 9, 10],\n",
    "                        },\n",
    "                        # scoring={},\n",
    "                        # refit='',\n",
    "                        cv=5)"
   ]
  },
  {
   "cell_type": "code",
   "execution_count": 47,
   "id": "8d927082-4e3f-4172-a08b-e4dd50a3cff5",
   "metadata": {},
   "outputs": [
    {
     "ename": "AttributeError",
     "evalue": "'GridSearchCV' object has no attribute 'cv_results_'",
     "output_type": "error",
     "traceback": [
      "\u001b[0;31m---------------------------------------------------------------------------\u001b[0m",
      "\u001b[0;31mAttributeError\u001b[0m                            Traceback (most recent call last)",
      "Cell \u001b[0;32mIn[47], line 2\u001b[0m\n\u001b[1;32m      1\u001b[0m \u001b[38;5;66;03m# model_cv.fit(x, y)\u001b[39;00m\n\u001b[0;32m----> 2\u001b[0m \u001b[43mmodel_cv\u001b[49m\u001b[38;5;241;43m.\u001b[39;49m\u001b[43mcv_results_\u001b[49m\n",
      "\u001b[0;31mAttributeError\u001b[0m: 'GridSearchCV' object has no attribute 'cv_results_'"
     ]
    }
   ],
   "source": [
    "# model_cv.fit(x, y)\n",
    "# model_cv.cv_results_"
   ]
  },
  {
   "cell_type": "code",
   "execution_count": 31,
   "id": "75fd73d6-0f51-4e29-a7f5-7383ea132dd0",
   "metadata": {},
   "outputs": [
    {
     "data": {
      "text/plain": [
       "array([[5.87366244, 4.1044473 ],\n",
       "       [4.09750971, 5.19421163],\n",
       "       [3.94772177, 4.4186202 ]])"
      ]
     },
     "execution_count": 31,
     "metadata": {},
     "output_type": "execute_result"
    }
   ],
   "source": [
    "pred = model.predict(x_test)\n",
    "pred[0:3]"
   ]
  },
  {
   "cell_type": "code",
   "execution_count": 32,
   "id": "ded33c59-d46d-4422-b53a-e82f0c02972e",
   "metadata": {},
   "outputs": [
    {
     "data": {
      "text/html": [
       "<div>\n",
       "<style scoped>\n",
       "    .dataframe tbody tr th:only-of-type {\n",
       "        vertical-align: middle;\n",
       "    }\n",
       "\n",
       "    .dataframe tbody tr th {\n",
       "        vertical-align: top;\n",
       "    }\n",
       "\n",
       "    .dataframe thead th {\n",
       "        text-align: right;\n",
       "    }\n",
       "</style>\n",
       "<table border=\"1\" class=\"dataframe\">\n",
       "  <thead>\n",
       "    <tr style=\"text-align: right;\">\n",
       "      <th></th>\n",
       "      <th>away_score</th>\n",
       "      <th>home_score</th>\n",
       "    </tr>\n",
       "  </thead>\n",
       "  <tbody>\n",
       "    <tr>\n",
       "      <th>3273</th>\n",
       "      <td>4</td>\n",
       "      <td>1</td>\n",
       "    </tr>\n",
       "    <tr>\n",
       "      <th>6461</th>\n",
       "      <td>6</td>\n",
       "      <td>5</td>\n",
       "    </tr>\n",
       "    <tr>\n",
       "      <th>10848</th>\n",
       "      <td>7</td>\n",
       "      <td>8</td>\n",
       "    </tr>\n",
       "  </tbody>\n",
       "</table>\n",
       "</div>"
      ],
      "text/plain": [
       "       away_score  home_score\n",
       "3273            4           1\n",
       "6461            6           5\n",
       "10848           7           8"
      ]
     },
     "execution_count": 32,
     "metadata": {},
     "output_type": "execute_result"
    }
   ],
   "source": [
    "y_test.head(3)"
   ]
  },
  {
   "cell_type": "code",
   "execution_count": 33,
   "id": "0f4e2d1e-62ce-4ac3-874c-58c86490503d",
   "metadata": {},
   "outputs": [
    {
     "name": "stdout",
     "output_type": "stream",
     "text": [
      "Correct: 2286\n",
      "Incorrect: 1584\n",
      "W/L accuracy: 59.06976744186046%\n"
     ]
    }
   ],
   "source": [
    "num_correct = 0\n",
    "num_incorrect = 0\n",
    "\n",
    "for i in range(len(pred)):\n",
    "    away_score_pred = pred[i][0]\n",
    "    home_score_pred = pred[i][1]\n",
    "    away_score_actual = y_test['away_score'].iloc[i]\n",
    "    home_score_actual = y_test['home_score'].iloc[i]\n",
    "\n",
    "    pred_result = 1 if home_score_pred > away_score_pred else 0 # where 1 = home team wins\n",
    "    actual_result = 1 if home_score_actual > away_score_actual else 0\n",
    "\n",
    "    # pred_result = pred[i]\n",
    "    # actual_result = y_test.iloc[i]\n",
    "    \n",
    "    if pred_result == actual_result:\n",
    "        num_correct += 1\n",
    "    else:\n",
    "        num_incorrect += 1\n",
    "\n",
    "print(f'Correct: {num_correct}')\n",
    "print(f'Incorrect: {num_incorrect}')\n",
    "print(f'W/L accuracy: {(num_correct / (num_correct + num_incorrect))*100}%')"
   ]
  },
  {
   "cell_type": "code",
   "execution_count": 34,
   "id": "69049186-5880-4406-b665-bb59200a1aa3",
   "metadata": {},
   "outputs": [
    {
     "data": {
      "text/plain": [
       "np.float64(9.988183215573418)"
      ]
     },
     "execution_count": 34,
     "metadata": {},
     "output_type": "execute_result"
    }
   ],
   "source": [
    "mean_squared_error(y_test, pred)"
   ]
  },
  {
   "cell_type": "code",
   "execution_count": 35,
   "id": "a0d181e3-a699-416e-93d0-1f9a351ed952",
   "metadata": {},
   "outputs": [
    {
     "data": {
      "text/plain": [
       "0.04407825978986929"
      ]
     },
     "execution_count": 35,
     "metadata": {},
     "output_type": "execute_result"
    }
   ],
   "source": [
    "model.score(x_test, y_test)"
   ]
  },
  {
   "cell_type": "code",
   "execution_count": 36,
   "id": "07123cbe-ddd3-443b-a7c5-cdbeba1d658f",
   "metadata": {},
   "outputs": [
    {
     "data": {
      "text/html": [
       "<div>\n",
       "<style scoped>\n",
       "    .dataframe tbody tr th:only-of-type {\n",
       "        vertical-align: middle;\n",
       "    }\n",
       "\n",
       "    .dataframe tbody tr th {\n",
       "        vertical-align: top;\n",
       "    }\n",
       "\n",
       "    .dataframe thead th {\n",
       "        text-align: right;\n",
       "    }\n",
       "</style>\n",
       "<table border=\"1\" class=\"dataframe\">\n",
       "  <thead>\n",
       "    <tr style=\"text-align: right;\">\n",
       "      <th></th>\n",
       "      <th>away_score</th>\n",
       "      <th>home_score</th>\n",
       "    </tr>\n",
       "  </thead>\n",
       "  <tbody>\n",
       "    <tr>\n",
       "      <th>count</th>\n",
       "      <td>3870.000000</td>\n",
       "      <td>3870.000000</td>\n",
       "    </tr>\n",
       "    <tr>\n",
       "      <th>mean</th>\n",
       "      <td>4.527132</td>\n",
       "      <td>4.576486</td>\n",
       "    </tr>\n",
       "    <tr>\n",
       "      <th>std</th>\n",
       "      <td>3.289851</td>\n",
       "      <td>3.174630</td>\n",
       "    </tr>\n",
       "    <tr>\n",
       "      <th>min</th>\n",
       "      <td>0.000000</td>\n",
       "      <td>0.000000</td>\n",
       "    </tr>\n",
       "    <tr>\n",
       "      <th>25%</th>\n",
       "      <td>2.000000</td>\n",
       "      <td>2.000000</td>\n",
       "    </tr>\n",
       "    <tr>\n",
       "      <th>50%</th>\n",
       "      <td>4.000000</td>\n",
       "      <td>4.000000</td>\n",
       "    </tr>\n",
       "    <tr>\n",
       "      <th>75%</th>\n",
       "      <td>6.000000</td>\n",
       "      <td>6.000000</td>\n",
       "    </tr>\n",
       "    <tr>\n",
       "      <th>max</th>\n",
       "      <td>24.000000</td>\n",
       "      <td>29.000000</td>\n",
       "    </tr>\n",
       "  </tbody>\n",
       "</table>\n",
       "</div>"
      ],
      "text/plain": [
       "        away_score   home_score\n",
       "count  3870.000000  3870.000000\n",
       "mean      4.527132     4.576486\n",
       "std       3.289851     3.174630\n",
       "min       0.000000     0.000000\n",
       "25%       2.000000     2.000000\n",
       "50%       4.000000     4.000000\n",
       "75%       6.000000     6.000000\n",
       "max      24.000000    29.000000"
      ]
     },
     "execution_count": 36,
     "metadata": {},
     "output_type": "execute_result"
    }
   ],
   "source": [
    "y_test.describe()"
   ]
  },
  {
   "cell_type": "code",
   "execution_count": 37,
   "id": "4e694295-4ed5-4922-a34f-4925d07c9276",
   "metadata": {},
   "outputs": [
    {
     "data": {
      "text/html": [
       "<div>\n",
       "<style scoped>\n",
       "    .dataframe tbody tr th:only-of-type {\n",
       "        vertical-align: middle;\n",
       "    }\n",
       "\n",
       "    .dataframe tbody tr th {\n",
       "        vertical-align: top;\n",
       "    }\n",
       "\n",
       "    .dataframe thead th {\n",
       "        text-align: right;\n",
       "    }\n",
       "</style>\n",
       "<table border=\"1\" class=\"dataframe\">\n",
       "  <thead>\n",
       "    <tr style=\"text-align: right;\">\n",
       "      <th></th>\n",
       "      <th>0</th>\n",
       "      <th>1</th>\n",
       "    </tr>\n",
       "  </thead>\n",
       "  <tbody>\n",
       "    <tr>\n",
       "      <th>count</th>\n",
       "      <td>3870.000000</td>\n",
       "      <td>3870.000000</td>\n",
       "    </tr>\n",
       "    <tr>\n",
       "      <th>mean</th>\n",
       "      <td>4.521836</td>\n",
       "      <td>4.620715</td>\n",
       "    </tr>\n",
       "    <tr>\n",
       "      <th>std</th>\n",
       "      <td>0.725424</td>\n",
       "      <td>0.565388</td>\n",
       "    </tr>\n",
       "    <tr>\n",
       "      <th>min</th>\n",
       "      <td>2.755161</td>\n",
       "      <td>2.846652</td>\n",
       "    </tr>\n",
       "    <tr>\n",
       "      <th>25%</th>\n",
       "      <td>4.003669</td>\n",
       "      <td>4.194559</td>\n",
       "    </tr>\n",
       "    <tr>\n",
       "      <th>50%</th>\n",
       "      <td>4.431281</td>\n",
       "      <td>4.609577</td>\n",
       "    </tr>\n",
       "    <tr>\n",
       "      <th>75%</th>\n",
       "      <td>5.036144</td>\n",
       "      <td>5.045061</td>\n",
       "    </tr>\n",
       "    <tr>\n",
       "      <th>max</th>\n",
       "      <td>8.769025</td>\n",
       "      <td>6.644851</td>\n",
       "    </tr>\n",
       "  </tbody>\n",
       "</table>\n",
       "</div>"
      ],
      "text/plain": [
       "                 0            1\n",
       "count  3870.000000  3870.000000\n",
       "mean      4.521836     4.620715\n",
       "std       0.725424     0.565388\n",
       "min       2.755161     2.846652\n",
       "25%       4.003669     4.194559\n",
       "50%       4.431281     4.609577\n",
       "75%       5.036144     5.045061\n",
       "max       8.769025     6.644851"
      ]
     },
     "execution_count": 37,
     "metadata": {},
     "output_type": "execute_result"
    }
   ],
   "source": [
    "pred_df = pd.DataFrame(pred)\n",
    "pred_df.describe()"
   ]
  },
  {
   "cell_type": "code",
   "execution_count": 38,
   "id": "cfae4ec4-9708-460e-a847-5cd432c61e3a",
   "metadata": {},
   "outputs": [
    {
     "name": "stdout",
     "output_type": "stream",
     "text": [
      "Correlation coefficient (away team): r=0.20585870425659936\n",
      "Correlation coefficient (home team): r=0.2187251110829884\n"
     ]
    },
    {
     "data": {
      "image/png": "[encoded data removed]",
      "text/plain": [
       "<Figure size 640x480 with 1 Axes>"
      ]
     },
     "metadata": {},
     "output_type": "display_data"
    }
   ],
   "source": [
    "# drawing a scatterplot with regression line\n",
    "# https://python-graph-gallery.com/scatterplot-with-regression-fit-in-matplotlib/\n",
    "\n",
    "plt.scatter(y_test['away_score'], pred_df[0])\n",
    "plt.scatter(y_test['home_score'], pred_df[1])\n",
    "\n",
    "\n",
    "m_away, b_away = np.polyfit(y_test['away_score'], pred_df[0], deg=1)\n",
    "x_away = np.linspace(0, 20, num=1000)\n",
    "\n",
    "plt.plot(x_away, m_away * x_away + b_away, color='b', lw=5)\n",
    "\n",
    "r_away = np.corrcoef(y_test['away_score'], pred_df[0])\n",
    "print(f'Correlation coefficient (away team): r={r_away[0][1]}')\n",
    "\n",
    "\n",
    "m_home, b_home = np.polyfit(y_test['home_score'], pred_df[1], deg=1)\n",
    "x_home = np.linspace(0, 20, num=1000)\n",
    "\n",
    "plt.plot(x_home, m_home * x_home + b_home, color='r', lw=5)\n",
    "\n",
    "r_home = np.corrcoef(y_test['home_score'], pred_df[1])\n",
    "print(f'Correlation coefficient (home team): r={r_home[0][1]}')\n",
    "\n",
    "\n",
    "plt.xlabel('Actual runs')\n",
    "plt.ylabel('Predicted runs')\n",
    "plt.title('Actual vs. predicted runs scored')\n",
    "\n",
    "plt.show()"
   ]
  },
  {
   "cell_type": "code",
   "execution_count": 39,
   "id": "9b5290cf-e84a-4f1a-9ec2-e19ce83c6f0b",
   "metadata": {},
   "outputs": [
    {
     "data": {
      "image/png": "[encoded data removed]",
      "text/plain": [
       "<Figure size 640x480 with 1 Axes>"
      ]
     },
     "metadata": {},
     "output_type": "display_data"
    }
   ],
   "source": [
    "plt.hist(pred_df[0])\n",
    "plt.show()"
   ]
  },
  {
   "cell_type": "code",
   "execution_count": 40,
   "id": "2a5ca5b9-c9ed-4f82-8934-a2725b72649f",
   "metadata": {},
   "outputs": [
    {
     "data": {
      "image/png": "[encoded data removed]",
      "text/plain": [
       "<Figure size 640x480 with 1 Axes>"
      ]
     },
     "metadata": {},
     "output_type": "display_data"
    }
   ],
   "source": [
    "plt.hist(y_test['away_score'])\n",
    "plt.show()"
   ]
  },
  {
   "cell_type": "code",
   "execution_count": 64,
   "id": "c0475c14-3d17-4e38-93ba-91a2b3a272c8",
   "metadata": {},
   "outputs": [
    {
     "data": {
      "text/plain": [
       "0.03752490736396593"
      ]
     },
     "execution_count": 64,
     "metadata": {},
     "output_type": "execute_result"
    }
   ],
   "source": [
    "0.19371346717243468 ** 2"
   ]
  },
  {
   "cell_type": "code",
   "execution_count": 78,
   "id": "c91a036c-a470-4607-a2f6-bf4681e2cb5b",
   "metadata": {},
   "outputs": [],
   "source": [
    "# why is standard deviation so low? -> should it be that way?\n",
    "# try a logistic regression for comparison\n",
    "\n",
    "# experiment with monthly stats\n",
    "# grid search cv\n",
    "\n",
    "\n",
    "# experiment with past 2 season data - pretty much the same\n",
    "# build a histogram of runs predicted\n",
    "# figure out rookie average stats"
   ]
  }
 ],
 "metadata": {
  "kernelspec": {
   "display_name": "env",
   "language": "python",
   "name": "env"
  },
  "language_info": {
   "codemirror_mode": {
    "name": "ipython",
    "version": 3
   },
   "file_extension": ".py",
   "mimetype": "text/x-python",
   "name": "python",
   "nbconvert_exporter": "python",
   "pygments_lexer": "ipython3",
   "version": "3.12.4"
  }
 },
 "nbformat": 4,
 "nbformat_minor": 5
}
