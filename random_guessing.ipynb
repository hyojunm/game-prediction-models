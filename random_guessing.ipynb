{
 "cells": [
  {
   "cell_type": "code",
   "execution_count": 1,
   "id": "aaf75745-fd86-43d6-bb53-4e298544af38",
   "metadata": {},
   "outputs": [],
   "source": [
    "import random\n",
    "import pandas as pd\n",
    "import matplotlib.pyplot as plt\n",
    "\n",
    "from analysis import wl_accuracy, season_record\n",
    "from data_format import create_data"
   ]
  },
  {
   "cell_type": "code",
   "execution_count": 2,
   "id": "fd27a812-95aa-4a2e-8476-3ae6b9d674da",
   "metadata": {},
   "outputs": [],
   "source": [
    "version = 6\n",
    "df = pd.read_csv(f'./data/baseball/training/game_data_v{version}.csv')"
   ]
  },
  {
   "cell_type": "code",
   "execution_count": 3,
   "id": "affe536c-4dd0-41f7-9ca1-633fadf60fa9",
   "metadata": {},
   "outputs": [],
   "source": [
    "x_train_away, x_test_away, y_train_away, y_test_away = create_data(df, y_col='away_score', split_by='season')\n",
    "x_train_home, x_test_home, y_train_home, y_test_home = create_data(df, y_col='home_score', split_by='season')"
   ]
  },
  {
   "cell_type": "code",
   "execution_count": 4,
   "id": "a758c7f7-627b-419e-bb92-48098f707589",
   "metadata": {},
   "outputs": [],
   "source": [
    "def generate_random_results():\n",
    "    results = {'away_pred': [], 'home_pred': [], 'away_true': y_test_away, 'home_true': y_test_home}\n",
    "    \n",
    "    for i in range(len(y_test_away)):\n",
    "        results['away_pred'].append(random.randint(0, 1))\n",
    "        results['home_pred'].append(1 - results['away_pred'][i])\n",
    "    \n",
    "    return pd.DataFrame(results)"
   ]
  },
  {
   "cell_type": "code",
   "execution_count": 5,
   "id": "e1699818-a6b9-49a7-b12d-8949b7bdbf54",
   "metadata": {},
   "outputs": [
    {
     "name": "stdout",
     "output_type": "stream",
     "text": [
      "RANDOM GUESSING MODEL\n",
      "Accuracy: 49.25925925925926%\n",
      "------------------------------\n",
      "Season records:\n",
      "NYY: 100-62\tCOL: 95-67\tCHC: 88-74\tPIT: 88-74\tLAD: 88-74\t\n",
      "MIN: 87-75\tAZ: 85-77\tSTL: 85-77\tKC: 85-77\tNYM: 83-79\t\n",
      "BOS: 83-79\tLAA: 82-80\tOAK: 82-80\tCIN: 81-81\tTB: 81-81\t\n",
      "PHI: 81-81\tSF: 80-82\tDET: 79-83\tTEX: 79-83\tHOU: 78-84\t\n",
      "MIA: 77-85\tBAL: 77-85\tTOR: 76-86\tMIL: 75-87\tSD: 75-87\t\n",
      "ATL: 75-87\tSEA: 74-88\tCWS: 73-89\tWSH: 71-91\tCLE: 67-95\t\n"
     ]
    }
   ],
   "source": [
    "results = generate_random_results()\n",
    "\n",
    "print('RANDOM GUESSING MODEL')\n",
    "print(f'Accuracy: {wl_accuracy(results)}%')\n",
    "print('-' * 30)\n",
    "season_record(df, results)"
   ]
  },
  {
   "cell_type": "code",
   "execution_count": 6,
   "id": "c3fcd303-32c3-4937-a8ca-e403e945f554",
   "metadata": {},
   "outputs": [
    {
     "data": {
      "image/png": "[encoded data removed]",
      "text/plain": [
       "<Figure size 640x480 with 1 Axes>"
      ]
     },
     "metadata": {},
     "output_type": "display_data"
    },
    {
     "name": "stdout",
     "output_type": "stream",
     "text": [
      "                0\n",
      "count  500.000000\n",
      "mean    49.966420\n",
      "std      1.047279\n",
      "min     46.584362\n",
      "25%     49.300412\n",
      "50%     49.958848\n",
      "75%     50.617284\n",
      "max     53.580247\n"
     ]
    }
   ],
   "source": [
    "acc = []\n",
    "\n",
    "for i in range(500): # try 1000 - does it resemble normal distribution?\n",
    "    results = generate_random_results()\n",
    "    acc.append(wl_accuracy(results))\n",
    "\n",
    "plt.xlabel('Accuracy (%)')\n",
    "plt.ylabel('Frequency')\n",
    "\n",
    "print(pd.DataFrame(acc).describe())\n",
    "\n",
    "plt.hist(acc)\n",
    "plt.show()"
   ]
  }
 ],
 "metadata": {
  "kernelspec": {
   "display_name": "env",
   "language": "python",
   "name": "env"
  },
  "language_info": {
   "codemirror_mode": {
    "name": "ipython",
    "version": 3
   },
   "file_extension": ".py",
   "mimetype": "text/x-python",
   "name": "python",
   "nbconvert_exporter": "python",
   "pygments_lexer": "ipython3",
   "version": "3.12.4"
  }
 },
 "nbformat": 4,
 "nbformat_minor": 5
}
