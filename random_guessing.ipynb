{
 "cells": [
  {
   "cell_type": "code",
   "execution_count": 1,
   "id": "aaf75745-fd86-43d6-bb53-4e298544af38",
   "metadata": {},
   "outputs": [],
   "source": [
    "import random\n",
    "import pandas as pd\n",
    "import numpy as np\n",
    "import matplotlib.pyplot as plt\n",
    "\n",
    "from sklearn.ensemble import RandomForestRegressor, RandomForestClassifier\n",
    "from sklearn.multioutput import MultiOutputRegressor\n",
    "from sklearn.model_selection import GridSearchCV, train_test_split\n",
    "from sklearn.preprocessing import StandardScaler, QuantileTransformer, Normalizer\n",
    "from sklearn.pipeline import Pipeline\n",
    "from sklearn.metrics import mean_squared_error, make_scorer\n",
    "from sklearn.linear_model import LinearRegression, LogisticRegression, PoissonRegressor\n",
    "from sklearn.tree import DecisionTreeRegressor\n",
    "\n",
    "import graphviz\n",
    "from sklearn.tree import export_graphviz\n",
    "from IPython.display import Image\n",
    "\n",
    "import statsmodels.api as sm\n",
    "from statsmodels.stats.outliers_influence import variance_inflation_factor\n",
    "\n",
    "from analysis import get_feature_importances, visualize_decision_trees, get_vif, wl_accuracy, season_record, runs_per_game"
   ]
  },
  {
   "cell_type": "code",
   "execution_count": 2,
   "id": "fd27a812-95aa-4a2e-8476-3ae6b9d674da",
   "metadata": {},
   "outputs": [],
   "source": [
    "version = 6\n",
    "df = pd.read_csv(f'./data/baseball/training/game_data_v{version}.csv')"
   ]
  },
  {
   "cell_type": "code",
   "execution_count": 3,
   "id": "81e5448b-f928-4494-80c2-a9851ab6167b",
   "metadata": {},
   "outputs": [],
   "source": [
    "# create the appropriate training and testing data based on home/away, dropping columns as needed\n",
    "def create_data(drop_cols=['away_score', 'home_score', 'away_team', 'home_team'], y_col='away_score', split_by='random'):\n",
    "    y = df[y_col]\n",
    "    x = df.drop(drop_cols, axis=1)\n",
    "\n",
    "    if split_by == 'season':\n",
    "        x_train, x_test = x.iloc[0:13047], x.iloc[13047:]\n",
    "        y_train, y_test = y.iloc[0:13047], y.iloc[13047:]\n",
    "    else:\n",
    "        x_train, x_test, y_train, y_test = train_test_split(x, y, shuffle=True)\n",
    "    \n",
    "    return x_train, x_test, y_train, y_test"
   ]
  },
  {
   "cell_type": "code",
   "execution_count": 4,
   "id": "affe536c-4dd0-41f7-9ca1-633fadf60fa9",
   "metadata": {},
   "outputs": [],
   "source": [
    "x_train_away, x_test_away, y_train_away, y_test_away = create_data(y_col='away_score', split_by='season')\n",
    "x_train_home, x_test_home, y_train_home, y_test_home = create_data(y_col='home_score', split_by='season')"
   ]
  },
  {
   "cell_type": "code",
   "execution_count": 5,
   "id": "a758c7f7-627b-419e-bb92-48098f707589",
   "metadata": {},
   "outputs": [],
   "source": [
    "def generate_random_results():\n",
    "    results = {'away_pred': [], 'home_pred': [], 'away_true': y_test_away, 'home_true': y_test_home}\n",
    "    \n",
    "    for i in range(len(y_test_away)):\n",
    "        results['away_pred'].append(random.randint(0, 1))\n",
    "        results['home_pred'].append(1 - results['away_pred'][i])\n",
    "    \n",
    "    return pd.DataFrame(results)"
   ]
  },
  {
   "cell_type": "code",
   "execution_count": 9,
   "id": "e1699818-a6b9-49a7-b12d-8949b7bdbf54",
   "metadata": {},
   "outputs": [
    {
     "name": "stdout",
     "output_type": "stream",
     "text": [
      "RANDOM GUESSING MODEL\n",
      "Accuracy: 49.25925925925926%\n",
      "------------------------------\n",
      "Season records:\n",
      "LAA: 94-68\tCHC: 92-70\tNYM: 90-72\tSF: 90-72\tSEA: 89-73\t\n",
      "LAD: 88-74\tCWS: 85-77\tCIN: 84-78\tTOR: 84-78\tWSH: 84-78\t\n",
      "BOS: 84-78\tPHI: 84-78\tTEX: 84-78\tSD: 83-79\tDET: 83-79\t\n",
      "TB: 82-80\tMIL: 79-83\tCOL: 79-83\tKC: 79-83\tOAK: 79-83\t\n",
      "PIT: 78-84\tCLE: 78-84\tMIN: 77-85\tSTL: 76-86\tATL: 75-87\t\n",
      "NYY: 74-88\tBAL: 71-91\tMIA: 70-92\tAZ: 68-94\tHOU: 67-95\t\n"
     ]
    }
   ],
   "source": [
    "results = generate_random_results()\n",
    "\n",
    "print('RANDOM GUESSING MODEL')\n",
    "print(f'Accuracy: {wl_accuracy(results)}%')\n",
    "print('-' * 30)\n",
    "season_record(df, results)"
   ]
  },
  {
   "cell_type": "code",
   "execution_count": 7,
   "id": "c3fcd303-32c3-4937-a8ca-e403e945f554",
   "metadata": {},
   "outputs": [
    {
     "data": {
      "image/png": "[encoded data removed]",
      "text/plain": [
       "<Figure size 640x480 with 1 Axes>"
      ]
     },
     "metadata": {},
     "output_type": "display_data"
    },
    {
     "name": "stdout",
     "output_type": "stream",
     "text": [
      "                0\n",
      "count  500.000000\n",
      "mean    49.999177\n",
      "std      1.017600\n",
      "min     47.407407\n",
      "25%     49.259259\n",
      "50%     49.979424\n",
      "75%     50.699588\n",
      "max     53.415638\n"
     ]
    }
   ],
   "source": [
    "acc = []\n",
    "\n",
    "for i in range(500):\n",
    "    results = generate_random_results()\n",
    "    acc.append(wl_accuracy(results))\n",
    "\n",
    "plt.hist(acc)\n",
    "\n",
    "plt.xlabel('Accuracy (%)')\n",
    "plt.ylabel('Frequency')\n",
    "\n",
    "plt.show()\n",
    "\n",
    "print(pd.DataFrame(acc).describe())"
   ]
  }
 ],
 "metadata": {
  "kernelspec": {
   "display_name": "env",
   "language": "python",
   "name": "env"
  },
  "language_info": {
   "codemirror_mode": {
    "name": "ipython",
    "version": 3
   },
   "file_extension": ".py",
   "mimetype": "text/x-python",
   "name": "python",
   "nbconvert_exporter": "python",
   "pygments_lexer": "ipython3",
   "version": "3.12.4"
  }
 },
 "nbformat": 4,
 "nbformat_minor": 5
}
