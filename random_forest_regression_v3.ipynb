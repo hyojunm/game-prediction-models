{
 "cells": [
  {
   "cell_type": "code",
   "execution_count": 2,
   "id": "c98c263c-32be-4eda-b749-3ccdc1186e4c",
   "metadata": {},
   "outputs": [],
   "source": [
    "import pandas as pd\n",
    "\n",
    "from sklearn.ensemble import RandomForestRegressor\n",
    "from analysis import get_feature_importances, wl_accuracy, season_record, runs_per_game\n",
    "from data_format import create_data"
   ]
  },
  {
   "cell_type": "code",
   "execution_count": 3,
   "id": "d1636d6b-1762-46c2-aa7c-d24a3d1e1512",
   "metadata": {},
   "outputs": [],
   "source": [
    "version = 6\n",
    "df = pd.read_csv(f'./data/baseball/training/game_data_v{version}.csv')"
   ]
  },
  {
   "cell_type": "code",
   "execution_count": 4,
   "id": "aca16a44-9aa9-41c6-bff7-9bfb4a1744e2",
   "metadata": {},
   "outputs": [],
   "source": [
    "x_train_away, x_test_away, y_train_away, y_test_away = create_data(df, y_col='away_score', split_by='season')\n",
    "x_train_home, x_test_home, y_train_home, y_test_home = create_data(df, y_col='home_score', split_by='season')"
   ]
  },
  {
   "cell_type": "markdown",
   "id": "770e188b-346b-4a08-9d38-b489fbd5e963",
   "metadata": {},
   "source": [
    "There is another problem with this random forest model, though. The output below shows how much each column is weighted when making predictions for how many runs the home team will score. We can see that, for example, `home_starter_xfip` is weighted at about 12% - but does the home team's starting *pitcher* really have that much effect on the home team's *batting* results? I tried to fine-tune the model by removing unnecessary or irrelevant features."
   ]
  },
  {
   "cell_type": "code",
   "execution_count": 5,
   "id": "6d43131a-444e-48e2-ac0d-c2ca33ee432b",
   "metadata": {},
   "outputs": [
    {
     "name": "stdout",
     "output_type": "stream",
     "text": [
      "INITIAL FEATURE IMPORTANCES:\n",
      "                 feature  weight\n",
      "0   away_team_xwoba_diff    5.7%\n",
      "1      away_lineup_xwoba  12.35%\n",
      "2         away_team_xfip   6.57%\n",
      "3      away_starter_xfip   12.6%\n",
      "4     away_close_win_pct   5.91%\n",
      "5          away_run_diff   5.89%\n",
      "6   home_team_xwoba_diff   6.37%\n",
      "7      home_lineup_xwoba  13.56%\n",
      "8         home_team_xfip   5.87%\n",
      "9      home_starter_xfip  12.14%\n",
      "10    home_close_win_pct   6.02%\n",
      "11         home_run_diff   6.99%\n"
     ]
    }
   ],
   "source": [
    "model_away = RandomForestRegressor(n_estimators=3, max_features='sqrt')\n",
    "model_home = RandomForestRegressor(n_estimators=3, max_features='sqrt')\n",
    "\n",
    "model_away.fit(x_train_away, y_train_away)\n",
    "model_home.fit(x_train_home, y_train_home)\n",
    "\n",
    "print('INITIAL FEATURE IMPORTANCES:')\n",
    "print(get_feature_importances(x_test_home.columns, model_home))"
   ]
  },
  {
   "cell_type": "code",
   "execution_count": 6,
   "id": "23d9e6a0-ea36-4a40-8f2e-ff79c3173435",
   "metadata": {},
   "outputs": [],
   "source": [
    "x_train_away, x_test_away, y_train_away, y_test_away = create_data(df, drop_cols=['away_score', 'home_score',\n",
    "                                                                              'away_team', 'home_team',\n",
    "                                                                              'away_team_xfip', 'away_starter_xfip',\n",
    "                                                                              'home_lineup_xwoba', 'home_run_diff'],\n",
    "                                                                   y_col='away_score',\n",
    "                                                                   split_by='season')\n",
    "x_train_home, x_test_home, y_train_home, y_test_home = create_data(df, drop_cols=['away_score', 'home_score',\n",
    "                                                                              'away_team', 'home_team',\n",
    "                                                                              'home_team_xfip', 'home_starter_xfip',\n",
    "                                                                              'away_lineup_xwoba', 'away_run_diff'],\n",
    "                                                                   y_col='home_score',\n",
    "                                                                   split_by='season')"
   ]
  },
  {
   "cell_type": "code",
   "execution_count": 8,
   "id": "9e187480-431c-4a25-b566-84d270d0d77c",
   "metadata": {},
   "outputs": [
    {
     "name": "stdout",
     "output_type": "stream",
     "text": [
      "RANDOM FOREST REGRESSION MODEL (v3 - selecting features)\n",
      "Accuracy: 53.53909465020577%\n"
     ]
    }
   ],
   "source": [
    "model_away = RandomForestRegressor(n_estimators=3, max_features='sqrt')\n",
    "model_home = RandomForestRegressor(n_estimators=3, max_features='sqrt')\n",
    "\n",
    "model_away.fit(x_train_away, y_train_away)\n",
    "model_home.fit(x_train_home, y_train_home)\n",
    "\n",
    "pred_away = model_away.predict(x_test_away)\n",
    "pred_home = model_home.predict(x_test_home)\n",
    "\n",
    "results = pd.DataFrame({'away_pred': pred_away, 'home_pred': pred_home, 'away_true': y_test_away, 'home_true': y_test_home})\n",
    "results.describe()\n",
    "\n",
    "print('RANDOM FOREST REGRESSION MODEL (v3 - selecting features)')\n",
    "print(f'Accuracy: {wl_accuracy(results)}%')"
   ]
  },
  {
   "cell_type": "code",
   "execution_count": 9,
   "id": "9e0c204b-23cd-419a-b95b-6093da081dfe",
   "metadata": {},
   "outputs": [
    {
     "name": "stdout",
     "output_type": "stream",
     "text": [
      "FINAL FEATURE IMPORTANCES:\n",
      "                feature  weight\n",
      "0  away_team_xwoba_diff   7.38%\n",
      "1        away_team_xfip   8.75%\n",
      "2     away_starter_xfip  22.16%\n",
      "3    away_close_win_pct   7.81%\n",
      "4  home_team_xwoba_diff    9.0%\n",
      "5     home_lineup_xwoba   27.2%\n",
      "6    home_close_win_pct   8.91%\n",
      "7         home_run_diff   8.79%\n"
     ]
    }
   ],
   "source": [
    "print('FINAL FEATURE IMPORTANCES:')\n",
    "print(get_feature_importances(x_test_home.columns, model_home))"
   ]
  },
  {
   "cell_type": "markdown",
   "id": "4ce0df17-28a2-437d-be9e-36a591e795e2",
   "metadata": {},
   "source": [
    "Now, `away_starter_xfip` and `home_lineup_xwoba` are weighted the most, which is more reasonable; the home team's lineup strength and the away team's starting pitcher should matter most when predicting the home team's runs scored."
   ]
  }
 ],
 "metadata": {
  "kernelspec": {
   "display_name": "env",
   "language": "python",
   "name": "env"
  },
  "language_info": {
   "codemirror_mode": {
    "name": "ipython",
    "version": 3
   },
   "file_extension": ".py",
   "mimetype": "text/x-python",
   "name": "python",
   "nbconvert_exporter": "python",
   "pygments_lexer": "ipython3",
   "version": "3.12.4"
  }
 },
 "nbformat": 4,
 "nbformat_minor": 5
}
