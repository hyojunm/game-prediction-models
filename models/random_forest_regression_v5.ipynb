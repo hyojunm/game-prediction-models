{
 "cells": [
  {
   "cell_type": "code",
   "execution_count": 1,
   "id": "9be80169-6fff-4c3a-bfa4-be6fc6d37377",
   "metadata": {},
   "outputs": [],
   "source": [
    "import pandas as pd\n",
    "\n",
    "from sklearn.ensemble import RandomForestRegressor\n",
    "from sklearn.multioutput import MultiOutputRegressor\n",
    "\n",
    "from analysis import wl_accuracy, season_record, runs_per_game\n",
    "from data_format import create_data"
   ]
  },
  {
   "cell_type": "code",
   "execution_count": 2,
   "id": "21d47d28-b0b1-4ebd-884c-138a552dc15b",
   "metadata": {},
   "outputs": [],
   "source": [
    "version = 6\n",
    "df = pd.read_csv(f'../data/baseball/training/game_data_v{version}.csv')"
   ]
  },
  {
   "cell_type": "code",
   "execution_count": 3,
   "id": "3e82a7bc-611e-4aa0-81bf-c0030eacbfea",
   "metadata": {},
   "outputs": [],
   "source": [
    "x_train_away, x_test_away, y_train_away, y_test_away = create_data(df, drop_cols=['away_score', 'home_score',\n",
    "                                                                              'away_team', 'home_team',\n",
    "                                                                              'away_team_xfip', 'away_starter_xfip',\n",
    "                                                                              'home_lineup_xwoba', 'home_run_diff',\n",
    "                                                                              'away_team_xwoba_diff', 'away_run_diff'],\n",
    "                                                                   y_col=['away_score', 'home_score'],\n",
    "                                                                   split_by='season')\n",
    "x_train_home, x_test_home, y_train_home, y_test_home = create_data(df, drop_cols=['away_score', 'home_score',\n",
    "                                                                              'away_team', 'home_team',\n",
    "                                                                              'home_team_xfip', 'home_starter_xfip',\n",
    "                                                                              'away_lineup_xwoba', 'away_run_diff',\n",
    "                                                                              'home_team_xwoba_diff', 'home_run_diff'],\n",
    "                                                                   y_col=['home_score', 'away_score'],\n",
    "                                                                   split_by='season')"
   ]
  },
  {
   "cell_type": "code",
   "execution_count": 5,
   "id": "5b70f086-32cc-4f77-b150-c21344dbf70d",
   "metadata": {},
   "outputs": [
    {
     "name": "stdout",
     "output_type": "stream",
     "text": [
      "RANDOM FOREST REGRESSION MODEL (v5 - incorporating runs allowed)\n",
      "------------------------------\n",
      "Accuracy: 53.333333333333336%\n",
      "------------------------------\n",
      "Season records:\n",
      "ATL: 125-37\tHOU: 124-38\tLAD: 119-43\tPHI: 113-49\tTOR: 107-55\t\n",
      "MIA: 97-65\tMIL: 95-67\tSF: 93-69\tNYY: 91-71\tBAL: 87-75\t\n",
      "SEA: 87-75\tLAA: 84-78\tMIN: 81-81\tSD: 79-83\tCIN: 77-85\t\n",
      "NYM: 76-86\tKC: 76-86\tDET: 75-87\tCHC: 74-88\tTEX: 74-88\t\n",
      "TB: 73-89\tSTL: 67-95\tPIT: 65-97\tCLE: 65-97\tWSH: 61-101\t\n",
      "BOS: 60-102\tAZ: 59-103\tCWS: 58-104\tCOL: 45-117\tOAK: 43-119\t\n",
      "------------------------------\n",
      "Runs scored per game:\n",
      "ATL: 5.77 (935)\tLAD: 5.51 (892)\tHOU: 5.49 (889)\tPHI: 5.3 (858)\tMIA: 5.28 (856)\t\n",
      "SD: 5.2 (843)\tTOR: 5.09 (825)\tNYY: 5.04 (817)\tMIL: 4.9 (794)\tCLE: 4.77 (773)\t\n",
      "SEA: 4.75 (770)\tLAA: 4.75 (769)\tKC: 4.74 (768)\tBAL: 4.73 (766)\tSF: 4.66 (756)\t\n",
      "TB: 4.63 (750)\tSTL: 4.6 (746)\tCHC: 4.59 (744)\tCIN: 4.58 (741)\tDET: 4.56 (738)\t\n",
      "NYM: 4.54 (735)\tMIN: 4.46 (722)\tPIT: 4.44 (720)\tAZ: 4.44 (720)\tTEX: 4.41 (715)\t\n",
      "WSH: 4.33 (701)\tCOL: 4.32 (700)\tCWS: 4.14 (671)\tBOS: 4.12 (667)\tOAK: 4.1 (664)\t\n",
      "------------------------------\n"
     ]
    }
   ],
   "source": [
    "model_away = MultiOutputRegressor(RandomForestRegressor(n_estimators=3, max_features='sqrt'))\n",
    "model_home = MultiOutputRegressor(RandomForestRegressor(n_estimators=3, max_features='sqrt'))\n",
    "\n",
    "model_away.fit(x_train_away, y_train_away)\n",
    "model_home.fit(x_train_home, y_train_home)\n",
    "\n",
    "pred_away = model_away.predict(x_test_away)\n",
    "pred_home = model_home.predict(x_test_home)\n",
    "\n",
    "pred_away_score = []\n",
    "pred_home_score = []\n",
    "\n",
    "for i in range(len(pred_away)):\n",
    "    pred_away_score.append((pred_away[i][0] + pred_home[i][1]) / 2)\n",
    "    pred_home_score.append((pred_home[i][0] + pred_away[i][1]) / 2)\n",
    "\n",
    "results = pd.DataFrame({'away_pred': pred_away_score, 'home_pred': pred_home_score,\n",
    "                        'away_true': y_test_away['away_score'], 'home_true': y_test_home['home_score']})\n",
    "results.describe()\n",
    "\n",
    "print('RANDOM FOREST REGRESSION MODEL (v5 - incorporating runs allowed)')\n",
    "print('-' * 30)\n",
    "print(f'Accuracy: {wl_accuracy(results)}%')\n",
    "print('-' * 30)\n",
    "season_record(df, results)\n",
    "print('-' * 30)\n",
    "runs_per_game(df, results)\n",
    "print('-' * 30)\n",
    "# compare runs scored vs. runs allowed"
   ]
  }
 ],
 "metadata": {
  "kernelspec": {
   "display_name": "env",
   "language": "python",
   "name": "env"
  },
  "language_info": {
   "codemirror_mode": {
    "name": "ipython",
    "version": 3
   },
   "file_extension": ".py",
   "mimetype": "text/x-python",
   "name": "python",
   "nbconvert_exporter": "python",
   "pygments_lexer": "ipython3",
   "version": "3.12.4"
  }
 },
 "nbformat": 4,
 "nbformat_minor": 5
}
