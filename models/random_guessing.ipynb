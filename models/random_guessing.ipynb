{
 "cells": [
  {
   "cell_type": "code",
   "execution_count": 1,
   "id": "aaf75745-fd86-43d6-bb53-4e298544af38",
   "metadata": {},
   "outputs": [],
   "source": [
    "import random\n",
    "import pandas as pd\n",
    "import matplotlib.pyplot as plt\n",
    "\n",
    "from analysis import wl_accuracy, season_record, test_n\n",
    "from data_format import create_data"
   ]
  },
  {
   "cell_type": "code",
   "execution_count": 2,
   "id": "fd27a812-95aa-4a2e-8476-3ae6b9d674da",
   "metadata": {},
   "outputs": [],
   "source": [
    "version = 6\n",
    "df = pd.read_csv(f'../data/baseball/training/game_data_v{version}.csv')"
   ]
  },
  {
   "cell_type": "code",
   "execution_count": 3,
   "id": "affe536c-4dd0-41f7-9ca1-633fadf60fa9",
   "metadata": {},
   "outputs": [],
   "source": [
    "x_train_away, x_test_away, y_train_away, y_test_away = create_data(df, y_col='away_score', split_by='season')\n",
    "x_train_home, x_test_home, y_train_home, y_test_home = create_data(df, y_col='home_score', split_by='season')"
   ]
  },
  {
   "cell_type": "code",
   "execution_count": 4,
   "id": "a758c7f7-627b-419e-bb92-48098f707589",
   "metadata": {},
   "outputs": [],
   "source": [
    "def generate_random_results():\n",
    "    results = {'away_pred': [], 'home_pred': [], 'away_true': y_test_away, 'home_true': y_test_home}\n",
    "    \n",
    "    for i in range(len(y_test_away)):\n",
    "        results['away_pred'].append(random.randint(0, 1))\n",
    "        results['home_pred'].append(1 - results['away_pred'][i])\n",
    "    \n",
    "    return pd.DataFrame(results)"
   ]
  },
  {
   "cell_type": "code",
   "execution_count": 5,
   "id": "e1699818-a6b9-49a7-b12d-8949b7bdbf54",
   "metadata": {},
   "outputs": [
    {
     "name": "stdout",
     "output_type": "stream",
     "text": [
      "RANDOM GUESSING MODEL\n",
      "------------------------------\n",
      "Accuracy: 49.794238683127574%\n",
      "------------------------------\n",
      "Season records:\n",
      "NYY: 91-71\tDET: 90-72\tSTL: 88-74\tBOS: 88-74\tPHI: 88-74\t\n",
      "AZ: 86-76\tCOL: 86-76\tWSH: 86-76\tBAL: 86-76\tTEX: 86-76\t\n",
      "MIL: 85-77\tLAD: 84-78\tHOU: 83-79\tSF: 83-79\tCLE: 83-79\t\n",
      "MIA: 82-80\tCIN: 81-81\tSD: 81-81\tATL: 78-84\tTB: 78-84\t\n",
      "PIT: 77-85\tTOR: 77-85\tCWS: 76-86\tMIN: 75-87\tOAK: 74-88\t\n",
      "KC: 73-89\tLAA: 73-89\tNYM: 72-90\tSEA: 72-90\tCHC: 68-94\t\n"
     ]
    }
   ],
   "source": [
    "results = generate_random_results()\n",
    "\n",
    "print('RANDOM GUESSING MODEL')\n",
    "print('-' * 30)\n",
    "print(f'Accuracy: {wl_accuracy(results)}%')\n",
    "print('-' * 30)\n",
    "season_record(df, results)"
   ]
  },
  {
   "cell_type": "code",
   "execution_count": 7,
   "id": "c3fcd303-32c3-4937-a8ca-e403e945f554",
   "metadata": {},
   "outputs": [
    {
     "name": "stdout",
     "output_type": "stream",
     "text": [
      "                  0\n",
      "count  10000.000000\n",
      "mean      50.002008\n",
      "std        1.018968\n",
      "min       46.255144\n",
      "25%       49.300412\n",
      "50%       50.000000\n",
      "75%       50.699588\n",
      "max       53.580247\n"
     ]
    },
    {
     "data": {
      "image/png": "[encoded data removed]",
      "text/plain": [
       "<Figure size 640x480 with 1 Axes>"
      ]
     },
     "metadata": {},
     "output_type": "display_data"
    }
   ],
   "source": [
    "acc = []\n",
    "\n",
    "for i in range(10000):\n",
    "    results = generate_random_results()\n",
    "    acc.append(wl_accuracy(results))\n",
    "\n",
    "plt.xlabel('Accuracy (%)')\n",
    "plt.ylabel('Frequency')\n",
    "\n",
    "print(pd.DataFrame(acc).describe())\n",
    "\n",
    "plt.hist(acc, color='b')\n",
    "plt.show()"
   ]
  }
 ],
 "metadata": {
  "kernelspec": {
   "display_name": "env",
   "language": "python",
   "name": "env"
  },
  "language_info": {
   "codemirror_mode": {
    "name": "ipython",
    "version": 3
   },
   "file_extension": ".py",
   "mimetype": "text/x-python",
   "name": "python",
   "nbconvert_exporter": "python",
   "pygments_lexer": "ipython3",
   "version": "3.12.4"
  }
 },
 "nbformat": 4,
 "nbformat_minor": 5
}
