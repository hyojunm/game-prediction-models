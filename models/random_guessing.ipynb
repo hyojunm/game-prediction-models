{
 "cells": [
  {
   "cell_type": "code",
   "execution_count": 3,
   "id": "aaf75745-fd86-43d6-bb53-4e298544af38",
   "metadata": {},
   "outputs": [],
   "source": [
    "import random\n",
    "import pandas as pd\n",
    "import matplotlib.pyplot as plt\n",
    "\n",
    "from analysis import wl_accuracy, season_record, test_n\n",
    "from data_format import create_data"
   ]
  },
  {
   "cell_type": "code",
   "execution_count": 4,
   "id": "fd27a812-95aa-4a2e-8476-3ae6b9d674da",
   "metadata": {},
   "outputs": [],
   "source": [
    "version = 6\n",
    "df = pd.read_csv(f'../data/baseball/training/game_data_v{version}.csv')"
   ]
  },
  {
   "cell_type": "code",
   "execution_count": 5,
   "id": "affe536c-4dd0-41f7-9ca1-633fadf60fa9",
   "metadata": {},
   "outputs": [],
   "source": [
    "x_train_away, x_test_away, y_train_away, y_test_away = create_data(df, y_col='away_score', split_by='season')\n",
    "x_train_home, x_test_home, y_train_home, y_test_home = create_data(df, y_col='home_score', split_by='season')"
   ]
  },
  {
   "cell_type": "code",
   "execution_count": 6,
   "id": "a758c7f7-627b-419e-bb92-48098f707589",
   "metadata": {},
   "outputs": [],
   "source": [
    "def generate_random_results():\n",
    "    results = {'away_pred': [], 'home_pred': [], 'away_true': y_test_away, 'home_true': y_test_home}\n",
    "    \n",
    "    for i in range(len(y_test_away)):\n",
    "        results['away_pred'].append(random.randint(0, 1))\n",
    "        results['home_pred'].append(1 - results['away_pred'][i])\n",
    "    \n",
    "    return pd.DataFrame(results)"
   ]
  },
  {
   "cell_type": "code",
   "execution_count": 7,
   "id": "e1699818-a6b9-49a7-b12d-8949b7bdbf54",
   "metadata": {},
   "outputs": [
    {
     "name": "stdout",
     "output_type": "stream",
     "text": [
      "RANDOM GUESSING MODEL\n",
      "------------------------------\n",
      "Accuracy: 49.58847736625515%\n",
      "------------------------------\n",
      "Season records:\n",
      "LAD: 91-71\tMIA: 91-71\tSTL: 90-72\tNYY: 90-72\tCIN: 88-74\t\n",
      "SF: 88-74\tSEA: 87-75\tTB: 87-75\tTEX: 87-75\tNYM: 85-77\t\n",
      "WSH: 85-77\tCLE: 85-77\tATL: 84-78\tPIT: 82-80\tCWS: 82-80\t\n",
      "HOU: 81-81\tKC: 81-81\tOAK: 81-81\tMIN: 79-83\tTOR: 77-85\t\n",
      "BAL: 76-86\tBOS: 76-86\tMIL: 75-87\tCHC: 75-87\tDET: 75-87\t\n",
      "PHI: 73-89\tLAA: 72-90\tAZ: 71-91\tCOL: 70-92\tSD: 66-96\t\n"
     ]
    }
   ],
   "source": [
    "results = generate_random_results()\n",
    "\n",
    "print('RANDOM GUESSING MODEL')\n",
    "print('-' * 30)\n",
    "print(f'Accuracy: {wl_accuracy(results)}%')\n",
    "print('-' * 30)\n",
    "season_record(df, results)"
   ]
  },
  {
   "cell_type": "code",
   "execution_count": 8,
   "id": "c3fcd303-32c3-4937-a8ca-e403e945f554",
   "metadata": {},
   "outputs": [
    {
     "name": "stdout",
     "output_type": "stream",
     "text": [
      "                 0\n",
      "count  1000.000000\n",
      "mean     50.070988\n",
      "std       1.040303\n",
      "min      46.748971\n",
      "25%      49.341564\n",
      "50%      50.041152\n",
      "75%      50.781893\n",
      "max      53.292181\n"
     ]
    },
    {
     "data": {
      "image/png": "[encoded data removed]",
      "text/plain": [
       "<Figure size 640x480 with 1 Axes>"
      ]
     },
     "metadata": {},
     "output_type": "display_data"
    }
   ],
   "source": [
    "acc = []\n",
    "\n",
    "for i in range(1000):\n",
    "    results = generate_random_results()\n",
    "    acc.append(wl_accuracy(results))\n",
    "\n",
    "plt.xlabel('Accuracy (%)')\n",
    "plt.ylabel('Frequency')\n",
    "\n",
    "print(pd.DataFrame(acc).describe())\n",
    "\n",
    "plt.hist(acc, color='b')\n",
    "plt.show()"
   ]
  }
 ],
 "metadata": {
  "kernelspec": {
   "display_name": "env",
   "language": "python",
   "name": "env"
  },
  "language_info": {
   "codemirror_mode": {
    "name": "ipython",
    "version": 3
   },
   "file_extension": ".py",
   "mimetype": "text/x-python",
   "name": "python",
   "nbconvert_exporter": "python",
   "pygments_lexer": "ipython3",
   "version": "3.12.4"
  }
 },
 "nbformat": 4,
 "nbformat_minor": 5
}
