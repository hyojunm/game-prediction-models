{
 "cells": [
  {
   "cell_type": "code",
   "execution_count": 1,
   "id": "35d69568-21ac-4828-8d16-c58ad0922a19",
   "metadata": {},
   "outputs": [],
   "source": [
    "import pandas as pd\n",
    "\n",
    "from sklearn.linear_model import LinearRegression\n",
    "from sklearn.preprocessing import StandardScaler\n",
    "from sklearn.pipeline import Pipeline\n",
    "\n",
    "from analysis import wl_accuracy, season_record, runs_per_game\n",
    "from data_format import create_data"
   ]
  },
  {
   "cell_type": "code",
   "execution_count": 2,
   "id": "1fc11f6d-3dbd-401d-9e5e-f9682a7e9c22",
   "metadata": {},
   "outputs": [],
   "source": [
    "version = 6\n",
    "df = pd.read_csv(f'../data/baseball/training/game_data_v{version}.csv')"
   ]
  },
  {
   "cell_type": "code",
   "execution_count": 3,
   "id": "1d95e94e-c3b7-4c6b-8019-7581aa3bec8c",
   "metadata": {},
   "outputs": [],
   "source": [
    "season = 2023"
   ]
  },
  {
   "cell_type": "code",
   "execution_count": 4,
   "id": "01c1c9d2-6ee8-42a4-a6f4-bc5a31fbc30f",
   "metadata": {},
   "outputs": [],
   "source": [
    "# x_train_away, x_test_away, y_train_away, y_test_away = create_data(df, drop_cols=['away_score', 'home_score',\n",
    "#                                                                               'away_team', 'home_team',\n",
    "#                                                                               'away_team_xfip', 'away_starter_xfip',\n",
    "#                                                                               'home_lineup_xwoba', 'home_run_diff',\n",
    "#                                                                               'away_team_xwoba_diff', 'away_run_diff'],\n",
    "#                                                                    y_col='away_score',\n",
    "#                                                                    split_by='season',\n",
    "#                                                                    season=season)\n",
    "# x_train_home, x_test_home, y_train_home, y_test_home = create_data(df, drop_cols=['away_score', 'home_score',\n",
    "#                                                                               'away_team', 'home_team',\n",
    "#                                                                               'home_team_xfip', 'home_starter_xfip',\n",
    "#                                                                               'away_lineup_xwoba', 'away_run_diff',\n",
    "#                                                                               'home_team_xwoba_diff', 'home_run_diff'],\n",
    "#                                                                    y_col='home_score',\n",
    "#                                                                    split_by='season',\n",
    "#                                                                    season=season)\n",
    "x_train_away, x_test_away, y_train_away, y_test_away = create_data(df, y_col='away_score', split_by='season', season=season)\n",
    "x_train_home, x_test_home, y_train_home, y_test_home = create_data(df, y_col='home_score', split_by='season', season=season)"
   ]
  },
  {
   "cell_type": "code",
   "execution_count": 5,
   "id": "def699b6-cab6-40fe-99f4-c239fa6b05d9",
   "metadata": {},
   "outputs": [
    {
     "name": "stdout",
     "output_type": "stream",
     "text": [
      "LINEAR REGRESSION MODEL - testing on 2023 season\n",
      "------------------------------\n",
      "Accuracy: 58.806584362139915%\n",
      "------------------------------\n",
      "Season records:\n",
      "LAD: 156-6\tTB: 150-12\tATL: 149-13\tHOU: 148-14\tTOR: 122-40\t\n",
      "SD: 121-41\tMIN: 119-43\tPHI: 115-47\tTEX: 114-48\tSEA: 109-53\t\n",
      "MIL: 105-57\tCHC: 105-57\tNYM: 97-65\tBAL: 89-73\tNYY: 88-74\t\n",
      "SF: 85-77\tBOS: 73-89\tCLE: 73-89\tSTL: 70-92\tCIN: 54-108\t\n",
      "AZ: 54-108\tDET: 53-109\tMIA: 49-113\tLAA: 45-117\tCWS: 30-132\t\n",
      "PIT: 21-141\tKC: 18-144\tWSH: 10-152\tCOL: 7-155\tOAK: 1-161\t\n",
      "------------------------------\n",
      "Runs scored per game:\n",
      "ATL: 5.48 (888)\tLAD: 5.45 (882)\tHOU: 5.18 (840)\tSD: 4.99 (808)\tTEX: 4.95 (802)\t\n",
      "TB: 4.86 (787)\tTOR: 4.82 (781)\tCHC: 4.79 (776)\tMIN: 4.77 (773)\tSTL: 4.75 (769)\t\n",
      "PHI: 4.73 (767)\tSEA: 4.73 (766)\tBAL: 4.68 (758)\tNYM: 4.67 (756)\tMIL: 4.64 (751)\t\n",
      "NYY: 4.54 (736)\tCLE: 4.54 (735)\tBOS: 4.49 (727)\tAZ: 4.47 (723)\tCIN: 4.43 (718)\t\n",
      "LAA: 4.39 (711)\tSF: 4.34 (703)\tDET: 4.28 (694)\tMIA: 4.2 (680)\tCWS: 4.13 (668)\t\n",
      "KC: 4.12 (667)\tPIT: 4.07 (659)\tWSH: 4.02 (652)\tCOL: 3.95 (640)\tOAK: 3.69 (597)\t\n"
     ]
    }
   ],
   "source": [
    "model_away = Pipeline([('scaler', StandardScaler()),\n",
    "                       ('model', LinearRegression())])\n",
    "model_home = Pipeline([('scaler', StandardScaler()),\n",
    "                       ('model', LinearRegression())])\n",
    "\n",
    "model_away.fit(x_train_away, y_train_away)\n",
    "model_home.fit(x_train_home, y_train_home)\n",
    "\n",
    "pred_away = model_away.predict(x_test_away)\n",
    "pred_home = model_home.predict(x_test_home)\n",
    "\n",
    "results = pd.DataFrame({'away_pred': pred_away, 'home_pred': pred_home, 'away_true': y_test_away, 'home_true': y_test_home})\n",
    "results.describe()\n",
    "\n",
    "print(f'LINEAR REGRESSION MODEL - testing on {season} season')\n",
    "print('-' * 30)\n",
    "print(f'Accuracy: {wl_accuracy(results)}%')\n",
    "print('-' * 30)\n",
    "season_record(df, results, season=season)\n",
    "print('-' * 30)\n",
    "runs_per_game(df, results, season=season)"
   ]
  },
  {
   "cell_type": "code",
   "execution_count": 6,
   "id": "661af67f-c57d-48df-9aa0-18fb073fd504",
   "metadata": {},
   "outputs": [
    {
     "name": "stdout",
     "output_type": "stream",
     "text": [
      "R^2 (away) = 0.06096846843759929\n",
      "R^2 (home) = 0.03952141139840959\n"
     ]
    }
   ],
   "source": [
    "print(f'R^2 (away) = {model_away.score(x_test_away, y_test_away)}')\n",
    "print(f'R^2 (home) = {model_home.score(x_test_home, y_test_home)}')"
   ]
  },
  {
   "cell_type": "code",
   "execution_count": 6,
   "id": "fba7307a-6dd3-41da-a539-740e17a917fe",
   "metadata": {},
   "outputs": [
    {
     "data": {
      "text/plain": [
       "(array([4.39900607]), array([4.94491191]))"
      ]
     },
     "execution_count": 6,
     "metadata": {},
     "output_type": "execute_result"
    }
   ],
   "source": [
    "df = pd.read_csv('../data/baseball/game_data_test.csv')\n",
    "x_away = df.drop(['away_score', 'home_score', 'away_team', 'home_team'], axis=1)\n",
    "x_home = df.drop(['away_score', 'home_score', 'away_team', 'home_team'], axis=1)\n",
    "# x_away, x_home\n",
    "model_away.predict(x_away), model_home.predict(x_home)"
   ]
  }
 ],
 "metadata": {
  "kernelspec": {
   "display_name": "env",
   "language": "python",
   "name": "env"
  },
  "language_info": {
   "codemirror_mode": {
    "name": "ipython",
    "version": 3
   },
   "file_extension": ".py",
   "mimetype": "text/x-python",
   "name": "python",
   "nbconvert_exporter": "python",
   "pygments_lexer": "ipython3",
   "version": "3.12.4"
  }
 },
 "nbformat": 4,
 "nbformat_minor": 5
}
