{
 "cells": [
  {
   "cell_type": "code",
   "execution_count": 1,
   "id": "35d69568-21ac-4828-8d16-c58ad0922a19",
   "metadata": {},
   "outputs": [],
   "source": [
    "import pandas as pd\n",
    "\n",
    "from sklearn.linear_model import LinearRegression\n",
    "from sklearn.preprocessing import StandardScaler\n",
    "from sklearn.pipeline import Pipeline\n",
    "\n",
    "from analysis import wl_accuracy, season_record, runs_per_game\n",
    "from data_format import create_data"
   ]
  },
  {
   "cell_type": "code",
   "execution_count": 2,
   "id": "1fc11f6d-3dbd-401d-9e5e-f9682a7e9c22",
   "metadata": {},
   "outputs": [],
   "source": [
    "version = 6\n",
    "df = pd.read_csv(f'../data/baseball/training/game_data_v{version}.csv')"
   ]
  },
  {
   "cell_type": "code",
   "execution_count": 4,
   "id": "1d95e94e-c3b7-4c6b-8019-7581aa3bec8c",
   "metadata": {},
   "outputs": [],
   "source": [
    "season = 2023"
   ]
  },
  {
   "cell_type": "code",
   "execution_count": 5,
   "id": "01c1c9d2-6ee8-42a4-a6f4-bc5a31fbc30f",
   "metadata": {},
   "outputs": [],
   "source": [
    "x_train_away, x_test_away, y_train_away, y_test_away = create_data(df, drop_cols=['away_score', 'home_score',\n",
    "                                                                              'away_team', 'home_team',\n",
    "                                                                              'away_team_xfip', 'away_starter_xfip',\n",
    "                                                                              'home_lineup_xwoba', 'home_run_diff',\n",
    "                                                                              'away_team_xwoba_diff', 'away_run_diff'],\n",
    "                                                                   y_col='away_score',\n",
    "                                                                   split_by='season',\n",
    "                                                                   season=season)\n",
    "x_train_home, x_test_home, y_train_home, y_test_home = create_data(df, drop_cols=['away_score', 'home_score',\n",
    "                                                                              'away_team', 'home_team',\n",
    "                                                                              'home_team_xfip', 'home_starter_xfip',\n",
    "                                                                              'away_lineup_xwoba', 'away_run_diff',\n",
    "                                                                              'home_team_xwoba_diff', 'home_run_diff'],\n",
    "                                                                   y_col='home_score',\n",
    "                                                                   split_by='season',\n",
    "                                                                   season=season)\n",
    "# x_train_away, x_test_away, y_train_away, y_test_away = create_data(df, y_col='away_score', split_by='season', season=season)\n",
    "# x_train_home, x_test_home, y_train_home, y_test_home = create_data(df, y_col='home_score', split_by='season', season=season)"
   ]
  },
  {
   "cell_type": "code",
   "execution_count": 6,
   "id": "def699b6-cab6-40fe-99f4-c239fa6b05d9",
   "metadata": {},
   "outputs": [
    {
     "name": "stdout",
     "output_type": "stream",
     "text": [
      "LINEAR REGRESSION MODEL - testing on 2023 season\n",
      "------------------------------\n",
      "Accuracy: 58.2716049382716%\n",
      "------------------------------\n",
      "Season records:\n",
      "ATL: 151-11\tLAD: 140-22\tTOR: 132-30\tPHI: 131-31\tMIN: 123-39\t\n",
      "HOU: 121-41\tSEA: 117-45\tSF: 112-50\tSD: 111-51\tNYY: 109-53\t\n",
      "MIL: 108-54\tTB: 100-62\tNYM: 96-66\tTEX: 90-72\tMIA: 89-73\t\n",
      "CHC: 87-75\tBOS: 83-79\tSTL: 77-85\tBAL: 77-85\tLAA: 64-98\t\n",
      "DET: 58-104\tCIN: 52-110\tCLE: 50-112\tKC: 41-121\tAZ: 32-130\t\n",
      "PIT: 29-133\tCWS: 27-135\tWSH: 11-151\tCOL: 7-155\tOAK: 5-157\t\n",
      "------------------------------\n",
      "Runs scored per game:\n",
      "ATL: 5.33 (864)\tLAD: 5.01 (812)\tHOU: 4.87 (789)\tPHI: 4.8 (777)\tSTL: 4.78 (775)\t\n",
      "SD: 4.78 (775)\tTOR: 4.78 (774)\tMIN: 4.72 (764)\tSEA: 4.71 (763)\tCHC: 4.64 (752)\t\n",
      "TEX: 4.62 (749)\tNYM: 4.62 (748)\tBAL: 4.59 (743)\tNYY: 4.58 (743)\tMIL: 4.56 (739)\t\n",
      "LAA: 4.56 (739)\tMIA: 4.55 (736)\tSF: 4.53 (733)\tBOS: 4.5 (729)\tCIN: 4.48 (726)\t\n",
      "KC: 4.45 (722)\tDET: 4.43 (718)\tTB: 4.41 (715)\tCLE: 4.36 (706)\tPIT: 4.31 (698)\t\n",
      "AZ: 4.29 (696)\tCWS: 4.25 (689)\tCOL: 4.15 (672)\tWSH: 4.14 (671)\tOAK: 4.0 (648)\t\n"
     ]
    }
   ],
   "source": [
    "model_away = Pipeline([('scaler', StandardScaler()),\n",
    "                       ('model', LinearRegression())])\n",
    "model_home = Pipeline([('scaler', StandardScaler()),\n",
    "                       ('model', LinearRegression())])\n",
    "\n",
    "model_away.fit(x_train_away, y_train_away)\n",
    "model_home.fit(x_train_home, y_train_home)\n",
    "\n",
    "pred_away = model_away.predict(x_test_away)\n",
    "pred_home = model_home.predict(x_test_home)\n",
    "\n",
    "results = pd.DataFrame({'away_pred': pred_away, 'home_pred': pred_home, 'away_true': y_test_away, 'home_true': y_test_home})\n",
    "results.describe()\n",
    "\n",
    "print(f'LINEAR REGRESSION MODEL - testing on {season} season')\n",
    "print('-' * 30)\n",
    "print(f'Accuracy: {wl_accuracy(results)}%')\n",
    "print('-' * 30)\n",
    "season_record(df, results, season=season)\n",
    "print('-' * 30)\n",
    "runs_per_game(df, results, season=season)"
   ]
  },
  {
   "cell_type": "code",
   "execution_count": 7,
   "id": "661af67f-c57d-48df-9aa0-18fb073fd504",
   "metadata": {},
   "outputs": [
    {
     "name": "stdout",
     "output_type": "stream",
     "text": [
      "R^2 (away) = 0.05080470455299846\n",
      "R^2 (home) = 0.03717991399842202\n"
     ]
    }
   ],
   "source": [
    "print(f'R^2 (away) = {model_away.score(x_test_away, y_test_away)}')\n",
    "print(f'R^2 (home) = {model_home.score(x_test_home, y_test_home)}')"
   ]
  }
 ],
 "metadata": {
  "kernelspec": {
   "display_name": "env",
   "language": "python",
   "name": "env"
  },
  "language_info": {
   "codemirror_mode": {
    "name": "ipython",
    "version": 3
   },
   "file_extension": ".py",
   "mimetype": "text/x-python",
   "name": "python",
   "nbconvert_exporter": "python",
   "pygments_lexer": "ipython3",
   "version": "3.12.4"
  }
 },
 "nbformat": 4,
 "nbformat_minor": 5
}
