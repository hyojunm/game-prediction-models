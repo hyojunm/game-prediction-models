{
 "cells": [
  {
   "cell_type": "code",
   "execution_count": 1,
   "id": "ddc3385e-6fdc-4da9-b8a3-a39b348f49f9",
   "metadata": {},
   "outputs": [],
   "source": [
    "import pandas as pd\n",
    "\n",
    "from sklearn.linear_model import PoissonRegressor\n",
    "from sklearn.preprocessing import QuantileTransformer\n",
    "from sklearn.pipeline import Pipeline\n",
    "\n",
    "from analysis import wl_accuracy, season_record, runs_per_game\n",
    "from data_format import create_data"
   ]
  },
  {
   "cell_type": "code",
   "execution_count": 2,
   "id": "630c0bf8-acc0-4238-89ad-c99d150ae890",
   "metadata": {},
   "outputs": [],
   "source": [
    "version = 6\n",
    "df = pd.read_csv(f'../data/baseball/training/game_data_v{version}.csv')"
   ]
  },
  {
   "cell_type": "code",
   "execution_count": 3,
   "id": "f3ee5e5e-fd2a-47e7-a59d-c69c4624c2f4",
   "metadata": {},
   "outputs": [],
   "source": [
    "season = 2023"
   ]
  },
  {
   "cell_type": "code",
   "execution_count": 4,
   "id": "ae111234-c03f-48b6-b5f4-a4ad768664b8",
   "metadata": {},
   "outputs": [],
   "source": [
    "# x_train_away, x_test_away, y_train_away, y_test_away = create_data(df, drop_cols=['away_score', 'home_score',\n",
    "#                                                                               'away_team', 'home_team',\n",
    "#                                                                               'away_team_xfip', 'away_starter_xfip',\n",
    "#                                                                               'home_lineup_xwoba', 'home_run_diff',\n",
    "#                                                                               'away_team_xwoba_diff', 'away_run_diff'],\n",
    "#                                                                    y_col='away_score',\n",
    "#                                                                    split_by='season',\n",
    "#                                                                    season=season)\n",
    "# x_train_home, x_test_home, y_train_home, y_test_home = create_data(df, drop_cols=['away_score', 'home_score',\n",
    "#                                                                               'away_team', 'home_team',\n",
    "#                                                                               'home_team_xfip', 'home_starter_xfip',\n",
    "#                                                                               'away_lineup_xwoba', 'away_run_diff',\n",
    "#                                                                               'home_team_xwoba_diff', 'home_run_diff'],\n",
    "#                                                                    y_col='home_score',\n",
    "#                                                                    split_by='season',\n",
    "#                                                                    season=season)\n",
    "x_train_away, x_test_away, y_train_away, y_test_away = create_data(df, y_col='away_score', split_by='season')\n",
    "x_train_home, x_test_home, y_train_home, y_test_home = create_data(df, y_col='home_score', split_by='season')"
   ]
  },
  {
   "cell_type": "code",
   "execution_count": 5,
   "id": "a1ea166a-2393-433b-931f-346651f5b2ae",
   "metadata": {},
   "outputs": [
    {
     "name": "stdout",
     "output_type": "stream",
     "text": [
      "POISSON REGRESSION MODEL - testing on 2023 season\n",
      "------------------------------\n",
      "Accuracy: 57.69547325102881%\n",
      "------------------------------\n",
      "Season records:\n",
      "ATL: 157-5\tLAD: 150-12\tTOR: 140-22\tHOU: 140-22\tSEA: 132-30\t\n",
      "PHI: 132-30\tTB: 128-34\tMIN: 126-36\tMIL: 121-41\tNYY: 116-46\t\n",
      "SF: 112-50\tSD: 111-51\tNYM: 93-69\tTEX: 85-77\tCHC: 83-79\t\n",
      "MIA: 75-87\tBAL: 74-88\tBOS: 68-94\tCLE: 61-101\tSTL: 59-103\t\n",
      "DET: 52-110\tLAA: 45-117\tCIN: 44-118\tAZ: 30-132\tCWS: 26-136\t\n",
      "KC: 26-136\tPIT: 21-141\tWSH: 11-151\tCOL: 10-152\tOAK: 2-160\t\n",
      "------------------------------\n",
      "Runs scored per game:\n",
      "ATL: 4.87 (789)\tLAD: 4.85 (786)\tHOU: 4.79 (775)\tPHI: 4.73 (767)\tTOR: 4.73 (766)\t\n",
      "SEA: 4.71 (762)\tMIN: 4.69 (760)\tSD: 4.68 (757)\tMIL: 4.66 (755)\tTB: 4.63 (750)\t\n",
      "NYY: 4.62 (748)\tSF: 4.61 (747)\tTEX: 4.6 (745)\tNYM: 4.6 (745)\tCHC: 4.57 (740)\t\n",
      "BAL: 4.56 (739)\tSTL: 4.55 (737)\tMIA: 4.52 (732)\tBOS: 4.5 (729)\tCLE: 4.47 (724)\t\n",
      "LAA: 4.46 (722)\tCIN: 4.45 (721)\tDET: 4.41 (715)\tKC: 4.35 (705)\tAZ: 4.35 (704)\t\n",
      "CWS: 4.34 (703)\tPIT: 4.31 (699)\tWSH: 4.24 (687)\tCOL: 4.22 (684)\tOAK: 4.17 (676)\t\n"
     ]
    }
   ],
   "source": [
    "model_away = Pipeline([('scaler', QuantileTransformer(n_quantiles=10)),\n",
    "                       # ('normalizer', Normalizer()),\n",
    "                       ('model', PoissonRegressor(alpha=9))])\n",
    "model_home = Pipeline([('scaler', QuantileTransformer(n_quantiles=10)),\n",
    "                       # ('normalizer', Normalizer()),\n",
    "                       ('model', PoissonRegressor(alpha=9))])\n",
    "\n",
    "model_away.fit(x_train_away, y_train_away)\n",
    "model_home.fit(x_train_home, y_train_home)\n",
    "\n",
    "pred_away = model_away.predict(x_test_away)\n",
    "pred_home = model_home.predict(x_test_home)\n",
    "\n",
    "results = pd.DataFrame({'away_pred': pred_away, 'home_pred': pred_home, 'away_true': y_test_away, 'home_true': y_test_home})\n",
    "results.describe()\n",
    "\n",
    "print(f'POISSON REGRESSION MODEL - testing on {season} season')\n",
    "print('-' * 30)\n",
    "print(f'Accuracy: {wl_accuracy(results)}%')\n",
    "print('-' * 30)\n",
    "season_record(df, results, season=season)\n",
    "print('-' * 30)\n",
    "runs_per_game(df, results, season=season)"
   ]
  },
  {
   "cell_type": "code",
   "execution_count": 7,
   "id": "75bf9a2e-5681-46eb-b621-baad2414847d",
   "metadata": {},
   "outputs": [
    {
     "name": "stdout",
     "output_type": "stream",
     "text": [
      "D^2 (away) = 0.004085885362741459\n",
      "D^2 (home) = 0.00388352817694837\n"
     ]
    }
   ],
   "source": [
    "print(f'D^2 (away) = {model_away.score(x_test_away, y_test_away)}')\n",
    "print(f'D^2 (home) = {model_home.score(x_test_home, y_test_home)}')"
   ]
  },
  {
   "cell_type": "code",
   "execution_count": 6,
   "id": "f4b1ff23-6f5a-4b57-bffc-f7e7f4e7259b",
   "metadata": {},
   "outputs": [
    {
     "data": {
      "text/plain": [
       "(array([4.53658125]), array([4.48248258]))"
      ]
     },
     "execution_count": 6,
     "metadata": {},
     "output_type": "execute_result"
    }
   ],
   "source": [
    "df = pd.read_csv('../data/baseball/game_data_test.csv')\n",
    "x_away = df.drop(['away_score', 'home_score', 'away_team', 'home_team'], axis=1)\n",
    "x_home = df.drop(['away_score', 'home_score', 'away_team', 'home_team'], axis=1)\n",
    "# x_away, x_home\n",
    "model_away.predict(x_away), model_home.predict(x_home)"
   ]
  }
 ],
 "metadata": {
  "kernelspec": {
   "display_name": "env",
   "language": "python",
   "name": "env"
  },
  "language_info": {
   "codemirror_mode": {
    "name": "ipython",
    "version": 3
   },
   "file_extension": ".py",
   "mimetype": "text/x-python",
   "name": "python",
   "nbconvert_exporter": "python",
   "pygments_lexer": "ipython3",
   "version": "3.12.4"
  }
 },
 "nbformat": 4,
 "nbformat_minor": 5
}
