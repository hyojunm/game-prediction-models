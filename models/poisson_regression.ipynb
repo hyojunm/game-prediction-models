{
 "cells": [
  {
   "cell_type": "code",
   "execution_count": 1,
   "id": "ddc3385e-6fdc-4da9-b8a3-a39b348f49f9",
   "metadata": {},
   "outputs": [],
   "source": [
    "import pandas as pd\n",
    "\n",
    "from sklearn.linear_model import PoissonRegressor\n",
    "from sklearn.preprocessing import QuantileTransformer\n",
    "from sklearn.pipeline import Pipeline\n",
    "\n",
    "from analysis import wl_accuracy, season_record, runs_per_game\n",
    "from data_format import create_data"
   ]
  },
  {
   "cell_type": "code",
   "execution_count": 2,
   "id": "630c0bf8-acc0-4238-89ad-c99d150ae890",
   "metadata": {},
   "outputs": [],
   "source": [
    "version = 6\n",
    "df = pd.read_csv(f'../data/baseball/training/game_data_v{version}.csv')"
   ]
  },
  {
   "cell_type": "code",
   "execution_count": 3,
   "id": "f3ee5e5e-fd2a-47e7-a59d-c69c4624c2f4",
   "metadata": {},
   "outputs": [],
   "source": [
    "season = 2023"
   ]
  },
  {
   "cell_type": "code",
   "execution_count": 4,
   "id": "ae111234-c03f-48b6-b5f4-a4ad768664b8",
   "metadata": {},
   "outputs": [],
   "source": [
    "x_train_away, x_test_away, y_train_away, y_test_away = create_data(df, drop_cols=['away_score', 'home_score',\n",
    "                                                                              'away_team', 'home_team',\n",
    "                                                                              'away_team_xfip', 'away_starter_xfip',\n",
    "                                                                              'home_lineup_xwoba', 'home_run_diff',\n",
    "                                                                              'away_team_xwoba_diff', 'away_run_diff'],\n",
    "                                                                   y_col='away_score',\n",
    "                                                                   split_by='season',\n",
    "                                                                   season=season)\n",
    "x_train_home, x_test_home, y_train_home, y_test_home = create_data(df, drop_cols=['away_score', 'home_score',\n",
    "                                                                              'away_team', 'home_team',\n",
    "                                                                              'home_team_xfip', 'home_starter_xfip',\n",
    "                                                                              'away_lineup_xwoba', 'away_run_diff',\n",
    "                                                                              'home_team_xwoba_diff', 'home_run_diff'],\n",
    "                                                                   y_col='home_score',\n",
    "                                                                   split_by='season',\n",
    "                                                                   season=season)\n",
    "# x_train_away, x_test_away, y_train_away, y_test_away = create_data(df, y_col='away_score', split_by='season')\n",
    "# x_train_home, x_test_home, y_train_home, y_test_home = create_data(df, y_col='home_score', split_by='season')"
   ]
  },
  {
   "cell_type": "code",
   "execution_count": 6,
   "id": "a1ea166a-2393-433b-931f-346651f5b2ae",
   "metadata": {},
   "outputs": [
    {
     "name": "stdout",
     "output_type": "stream",
     "text": [
      "POISSON REGRESSION MODEL - testing on 2023 season\n",
      "------------------------------\n",
      "Accuracy: 53.991769547325106%\n",
      "------------------------------\n",
      "Season records:\n",
      "ATL: 101-61\tPHI: 99-63\tLAD: 97-65\tTOR: 94-68\tSF: 94-68\t\n",
      "MIL: 90-72\tHOU: 90-72\tMIA: 89-73\tSEA: 89-73\tNYM: 87-75\t\n",
      "BAL: 84-78\tMIN: 84-78\tNYY: 84-78\tTB: 84-78\tLAA: 83-79\t\n",
      "SD: 82-80\tCHC: 81-81\tSTL: 81-81\tBOS: 81-81\tTEX: 81-81\t\n",
      "CIN: 79-83\tCLE: 78-84\tDET: 78-84\tCWS: 77-85\tKC: 74-88\t\n",
      "PIT: 70-92\tAZ: 69-93\tWSH: 59-103\tCOL: 49-113\tOAK: 42-120\t\n",
      "------------------------------\n",
      "Runs scored per game:\n",
      "ATL: 4.58 (742)\tLAD: 4.58 (741)\tHOU: 4.57 (741)\tTOR: 4.57 (740)\tSEA: 4.57 (740)\t\n",
      "PHI: 4.57 (740)\tMIL: 4.56 (739)\tBAL: 4.56 (739)\tSF: 4.56 (738)\tMIA: 4.56 (738)\t\n",
      "STL: 4.56 (738)\tMIN: 4.56 (738)\tSD: 4.55 (738)\tNYM: 4.55 (738)\tCHC: 4.55 (738)\t\n",
      "LAA: 4.55 (738)\tCIN: 4.55 (737)\tDET: 4.55 (737)\tNYY: 4.55 (737)\tTEX: 4.55 (737)\t\n",
      "KC: 4.55 (737)\tCLE: 4.54 (736)\tPIT: 4.54 (736)\tBOS: 4.54 (736)\tTB: 4.54 (735)\t\n",
      "CWS: 4.53 (734)\tWSH: 4.53 (734)\tAZ: 4.53 (734)\tCOL: 4.53 (734)\tOAK: 4.52 (732)\t\n"
     ]
    }
   ],
   "source": [
    "model_away = Pipeline([('scaler', QuantileTransformer(n_quantiles=10)),\n",
    "                       # ('normalizer', Normalizer()),\n",
    "                       ('model', PoissonRegressor(alpha=9))])\n",
    "model_home = Pipeline([('scaler', QuantileTransformer(n_quantiles=10)),\n",
    "                       # ('normalizer', Normalizer()),\n",
    "                       ('model', PoissonRegressor(alpha=9))])\n",
    "\n",
    "model_away.fit(x_train_away, y_train_away)\n",
    "model_home.fit(x_train_home, y_train_home)\n",
    "\n",
    "pred_away = model_away.predict(x_test_away)\n",
    "pred_home = model_home.predict(x_test_home)\n",
    "\n",
    "results = pd.DataFrame({'away_pred': pred_away, 'home_pred': pred_home, 'away_true': y_test_away, 'home_true': y_test_home})\n",
    "results.describe()\n",
    "\n",
    "print(f'POISSON REGRESSION MODEL - testing on {season} season')\n",
    "print('-' * 30)\n",
    "print(f'Accuracy: {wl_accuracy(results)}%')\n",
    "print('-' * 30)\n",
    "season_record(df, results, season=season)\n",
    "print('-' * 30)\n",
    "runs_per_game(df, results, season=season)"
   ]
  },
  {
   "cell_type": "code",
   "execution_count": 7,
   "id": "75bf9a2e-5681-46eb-b621-baad2414847d",
   "metadata": {},
   "outputs": [
    {
     "name": "stdout",
     "output_type": "stream",
     "text": [
      "D^2 (away) = 0.004085885362741459\n",
      "D^2 (home) = 0.00388352817694837\n"
     ]
    }
   ],
   "source": [
    "print(f'D^2 (away) = {model_away.score(x_test_away, y_test_away)}')\n",
    "print(f'D^2 (home) = {model_home.score(x_test_home, y_test_home)}')"
   ]
  }
 ],
 "metadata": {
  "kernelspec": {
   "display_name": "env",
   "language": "python",
   "name": "env"
  },
  "language_info": {
   "codemirror_mode": {
    "name": "ipython",
    "version": 3
   },
   "file_extension": ".py",
   "mimetype": "text/x-python",
   "name": "python",
   "nbconvert_exporter": "python",
   "pygments_lexer": "ipython3",
   "version": "3.12.4"
  }
 },
 "nbformat": 4,
 "nbformat_minor": 5
}
