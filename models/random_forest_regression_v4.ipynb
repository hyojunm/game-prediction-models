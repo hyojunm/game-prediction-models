{
 "cells": [
  {
   "cell_type": "code",
   "execution_count": 1,
   "id": "8b6913e8-a78d-432e-9192-f6b6a3867878",
   "metadata": {},
   "outputs": [],
   "source": [
    "import pandas as pd\n",
    "\n",
    "from sklearn.ensemble import RandomForestRegressor\n",
    "from analysis import get_feature_importances, get_vif, wl_accuracy, season_record, runs_per_game\n",
    "from data_format import create_data\n",
    "\n",
    "import statsmodels.api as sm\n",
    "from statsmodels.stats.outliers_influence import variance_inflation_factor"
   ]
  },
  {
   "cell_type": "code",
   "execution_count": 2,
   "id": "ddcb182f-d396-4178-bf61-32cc55adab13",
   "metadata": {},
   "outputs": [],
   "source": [
    "version = 6\n",
    "df = pd.read_csv(f'../data/baseball/training/game_data_v{version}.csv')"
   ]
  },
  {
   "cell_type": "code",
   "execution_count": 3,
   "id": "4f0e7cd7-2835-4c80-a439-a2319eba998f",
   "metadata": {},
   "outputs": [],
   "source": [
    "x_train_away, x_test_away, y_train_away, y_test_away = create_data(df, drop_cols=['away_score', 'home_score',\n",
    "                                                                              'away_team', 'home_team',\n",
    "                                                                              'away_team_xfip', 'away_starter_xfip',\n",
    "                                                                              'home_lineup_xwoba', 'home_run_diff'],\n",
    "                                                                   y_col='away_score',\n",
    "                                                                   split_by='season')\n",
    "x_train_home, x_test_home, y_train_home, y_test_home = create_data(df, drop_cols=['away_score', 'home_score',\n",
    "                                                                              'away_team', 'home_team',\n",
    "                                                                              'home_team_xfip', 'home_starter_xfip',\n",
    "                                                                              'away_lineup_xwoba', 'away_run_diff'],\n",
    "                                                                   y_col='home_score',\n",
    "                                                                   split_by='season')"
   ]
  },
  {
   "cell_type": "markdown",
   "id": "8a415025-b0ed-4eba-b0f1-046a34587e8c",
   "metadata": {},
   "source": [
    "At this point, my mentor has raised the question of a possible multicollinearity, where two or more features are correlated with each other. Indeed, some features had very high variance inflation factors. In particular, `home_team_xwoba_diff` had the highest VIF, which makes sense because *team* batting stats would generally be similar to the game's *lineup* batting stats."
   ]
  },
  {
   "cell_type": "code",
   "execution_count": 4,
   "id": "05b39e89-90a5-47ee-84ec-6ac360b28543",
   "metadata": {},
   "outputs": [
    {
     "name": "stdout",
     "output_type": "stream",
     "text": [
      "                            OLS Regression Results                            \n",
      "==============================================================================\n",
      "Dep. Variable:             home_score   R-squared:                       0.042\n",
      "Model:                            OLS   Adj. R-squared:                  0.042\n",
      "Method:                 Least Squares   F-statistic:                     71.97\n",
      "Date:                Wed, 31 Jul 2024   Prob (F-statistic):          1.61e-116\n",
      "Time:                        13:57:58   Log-Likelihood:                -33365.\n",
      "No. Observations:               13047   AIC:                         6.675e+04\n",
      "Df Residuals:                   13038   BIC:                         6.681e+04\n",
      "Df Model:                           8                                         \n",
      "Covariance Type:            nonrobust                                         \n",
      "========================================================================================\n",
      "                           coef    std err          t      P>|t|      [0.025      0.975]\n",
      "----------------------------------------------------------------------------------------\n",
      "const                   -4.5704      0.961     -4.755      0.000      -6.455      -2.686\n",
      "away_team_xwoba_diff    -5.2847      2.240     -2.359      0.018      -9.676      -0.894\n",
      "away_team_xfip           0.1956      0.151      1.294      0.196      -0.101       0.492\n",
      "away_starter_xfip        0.5558      0.051     10.965      0.000       0.456       0.655\n",
      "away_close_win_pct      -1.0379      0.498     -2.084      0.037      -2.014      -0.062\n",
      "home_team_xwoba_diff   -17.1765      3.122     -5.502      0.000     -23.296     -11.057\n",
      "home_lineup_xwoba       22.3714      2.398      9.327      0.000      17.670      27.073\n",
      "home_close_win_pct      -1.1328      0.514     -2.203      0.028      -2.141      -0.125\n",
      "home_run_diff            0.0041      0.001      7.087      0.000       0.003       0.005\n",
      "==============================================================================\n",
      "Omnibus:                     2105.801   Durbin-Watson:                   2.022\n",
      "Prob(Omnibus):                  0.000   Jarque-Bera (JB):             3944.195\n",
      "Skew:                           1.014   Prob(JB):                         0.00\n",
      "Kurtosis:                       4.773   Cond. No.                     1.37e+04\n",
      "==============================================================================\n",
      "\n",
      "Notes:\n",
      "[1] Standard Errors assume that the covariance matrix of the errors is correctly specified.\n",
      "[2] The condition number is large, 1.37e+04. This might indicate that there are\n",
      "strong multicollinearity or other numerical problems.\n"
     ]
    }
   ],
   "source": [
    "ols_model = sm.OLS(y_train_home, sm.add_constant(x_train_home)).fit()\n",
    "print(ols_model.summary())"
   ]
  },
  {
   "cell_type": "code",
   "execution_count": 5,
   "id": "afeb9d23-aebc-43a6-ab78-4e28c467098a",
   "metadata": {},
   "outputs": [
    {
     "name": "stdout",
     "output_type": "stream",
     "text": [
      "INITIAL VIF VALUES:\n",
      "                feature  variance_inflation_factor\n",
      "0                 const                1236.384644\n",
      "1  away_team_xwoba_diff                   3.094334\n",
      "2        away_team_xfip                   3.203630\n",
      "3     away_starter_xfip                   1.449220\n",
      "4    away_close_win_pct                   1.353591\n",
      "5  home_team_xwoba_diff                   6.005394\n",
      "6     home_lineup_xwoba                   1.784004\n",
      "7    home_close_win_pct                   1.445171\n",
      "8         home_run_diff                   5.582397\n"
     ]
    }
   ],
   "source": [
    "print('INITIAL VIF VALUES:')\n",
    "print(get_vif(x_train_home))"
   ]
  },
  {
   "cell_type": "markdown",
   "id": "d363245d-c5d6-40f5-8ff0-b1aa15dcdce9",
   "metadata": {},
   "source": [
    "After looking at the table above, I decided to remove the `home_team_xwoba_diff` and `home_run_diff` features, both of which had a VIF over 5, from the home team dataset. Similarly, I removed the `away_team_xwoba_diff` and `away_run_diff` features from the away team dataset."
   ]
  },
  {
   "cell_type": "code",
   "execution_count": 6,
   "id": "a30a0438-f555-45ba-b324-16214b9a6799",
   "metadata": {},
   "outputs": [],
   "source": [
    "x_train_away, x_test_away, y_train_away, y_test_away = create_data(df, drop_cols=['away_score', 'home_score',\n",
    "                                                                              'away_team', 'home_team',\n",
    "                                                                              'away_team_xfip', 'away_starter_xfip',\n",
    "                                                                              'home_lineup_xwoba', 'home_run_diff',\n",
    "                                                                              'away_team_xwoba_diff', 'away_run_diff'],\n",
    "                                                                   y_col='away_score',\n",
    "                                                                   split_by='season')\n",
    "x_train_home, x_test_home, y_train_home, y_test_home = create_data(df, drop_cols=['away_score', 'home_score',\n",
    "                                                                              'away_team', 'home_team',\n",
    "                                                                              'home_team_xfip', 'home_starter_xfip',\n",
    "                                                                              'away_lineup_xwoba', 'away_run_diff',\n",
    "                                                                              'home_team_xwoba_diff', 'home_run_diff'],\n",
    "                                                                   y_col='home_score',\n",
    "                                                                   split_by='season')"
   ]
  },
  {
   "cell_type": "code",
   "execution_count": 7,
   "id": "f15f0984-36ea-4a06-a4ad-19003f0645d5",
   "metadata": {},
   "outputs": [
    {
     "name": "stdout",
     "output_type": "stream",
     "text": [
      "RANDOM FOREST REGRESSION MODEL (v4 - reducing multicollinearity)\n",
      "Accuracy: 52.345679012345684%\n"
     ]
    }
   ],
   "source": [
    "model_away = RandomForestRegressor(n_estimators=3, max_features='sqrt')\n",
    "model_home = RandomForestRegressor(n_estimators=3, max_features='sqrt')\n",
    "\n",
    "model_away.fit(x_train_away, y_train_away)\n",
    "model_home.fit(x_train_home, y_train_home)\n",
    "\n",
    "pred_away = model_away.predict(x_test_away)\n",
    "pred_home = model_home.predict(x_test_home)\n",
    "\n",
    "results = pd.DataFrame({'away_pred': pred_away, 'home_pred': pred_home, 'away_true': y_test_away, 'home_true': y_test_home})\n",
    "results.describe()\n",
    "\n",
    "print('RANDOM FOREST REGRESSION MODEL (v4 - reducing multicollinearity)')\n",
    "print(f'Accuracy: {wl_accuracy(results)}%')"
   ]
  },
  {
   "cell_type": "code",
   "execution_count": 8,
   "id": "9483d5dc-4ea5-4848-90dc-0bb0af480717",
   "metadata": {},
   "outputs": [
    {
     "name": "stdout",
     "output_type": "stream",
     "text": [
      "FINAL FEATURE IMPORTANCES:\n",
      "                feature  weight\n",
      "0  away_team_xwoba_diff    8.95\n",
      "1        away_team_xfip    9.76\n",
      "2     away_starter_xfip   22.05\n",
      "3    away_close_win_pct    8.48\n",
      "4     home_lineup_xwoba   30.80\n",
      "5    home_close_win_pct   19.97\n"
     ]
    }
   ],
   "source": [
    "print('FINAL FEATURE IMPORTANCES:')\n",
    "print(get_feature_importances(x_test_home.columns, model_home))"
   ]
  }
 ],
 "metadata": {
  "kernelspec": {
   "display_name": "env",
   "language": "python",
   "name": "env"
  },
  "language_info": {
   "codemirror_mode": {
    "name": "ipython",
    "version": 3
   },
   "file_extension": ".py",
   "mimetype": "text/x-python",
   "name": "python",
   "nbconvert_exporter": "python",
   "pygments_lexer": "ipython3",
   "version": "3.12.4"
  }
 },
 "nbformat": 4,
 "nbformat_minor": 5
}
