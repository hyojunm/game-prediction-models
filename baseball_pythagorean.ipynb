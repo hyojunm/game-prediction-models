{
 "cells": [
  {
   "cell_type": "code",
   "execution_count": null,
   "id": "f8ce3ebe-37dd-4504-975d-53e339738ea9",
   "metadata": {},
   "outputs": [],
   "source": [
    "import sys\n",
    "!{sys.executable} -m pip install numpy"
   ]
  },
  {
   "cell_type": "code",
   "execution_count": 1,
   "id": "d58134de-881b-47ea-8c8d-9a465607f467",
   "metadata": {},
   "outputs": [],
   "source": [
    "from numpy import random"
   ]
  },
  {
   "cell_type": "markdown",
   "id": "92e61cc9-2ed5-4751-ba92-3ab13f24c847",
   "metadata": {},
   "source": [
    "# Predicting season records\n",
    "\n",
    "These are very simple models for predicting a team's full season record based on runs scored (RS) and runs allowed (RA).\n",
    "\n",
    "Data (collected below) for RS and RA are from the 2022 MLB season, provided by Baseball-Reference."
   ]
  },
  {
   "cell_type": "code",
   "execution_count": 2,
   "id": "326a50d9-4590-48ae-bb1f-5a879ab7eaea",
   "metadata": {},
   "outputs": [],
   "source": [
    "# los angeles dodgers\n",
    "lad_avg_rs = 5.23\n",
    "lad_avg_ra = 3.17\n",
    "\n",
    "# san diego padres\n",
    "sdp_avg_rs = 4.35\n",
    "sdp_avg_ra = 4.07\n",
    "\n",
    "# league average\n",
    "lg_avg_rs = 4.28\n",
    "lg_avg_ra = 4.28"
   ]
  },
  {
   "cell_type": "markdown",
   "id": "6ce392a7-db1f-45e2-b3ca-981fe26d5255",
   "metadata": {
    "jp-MarkdownHeadingCollapsed": true
   },
   "source": [
    "## Pythagorean win expectancy\n",
    "\n",
    "This method retrospectively estimates a team's season record based on runs scored and runs allowed using the simple formula: `win% = rs^2 / (rs^2 + ra^2)`\n",
    "\n",
    "https://fisher.wharton.upenn.edu/wp-content/uploads/2020/09/Thesis_Andrew-Cui.pdf"
   ]
  },
  {
   "cell_type": "code",
   "execution_count": 3,
   "id": "285894eb-2b49-44c8-bea5-9728ae2d5d8c",
   "metadata": {},
   "outputs": [],
   "source": [
    "def pythagorean_win_expectancy(avg_rs, avg_ra):\n",
    "    win_pct = (avg_rs ** 2) / (avg_rs ** 2 + avg_ra ** 2)\n",
    "    wins = int(win_pct * 162 + 0.5) # rounded to nearest whole number\n",
    "    losses = 162 - wins # 162 games per season\n",
    "\n",
    "    return (win_pct, wins, losses)"
   ]
  },
  {
   "cell_type": "code",
   "execution_count": 4,
   "id": "2031e6bd-e41e-4c81-8740-bbc7e4fa3972",
   "metadata": {},
   "outputs": [
    {
     "name": "stdout",
     "output_type": "stream",
     "text": [
      "Pythagorean win expectancy\n",
      "--------------------\n",
      "LAD: 118-44 (0.731)\n",
      "SDP: 86-76 (0.533)\n"
     ]
    }
   ],
   "source": [
    "print('Pythagorean win expectancy')\n",
    "print('-' * 20)\n",
    "\n",
    "lad_win_pct, lad_wins, lad_losses = pythagorean_win_expectancy(lad_avg_rs, lad_avg_ra)\n",
    "print(f'LAD: {lad_wins}-{lad_losses} ({round(lad_win_pct, 3)})')\n",
    "\n",
    "sdp_win_pct, sdp_wins, sdp_losses = pythagorean_win_expectancy(sdp_avg_rs, sdp_avg_ra)\n",
    "print(f'SDP: {sdp_wins}-{sdp_losses} ({round(sdp_win_pct, 3)})')"
   ]
  },
  {
   "cell_type": "markdown",
   "id": "98c0d463-7d05-461d-b8d8-c3d0d629d724",
   "metadata": {
    "jp-MarkdownHeadingCollapsed": true
   },
   "source": [
    "## Poisson distribution\n",
    "\n",
    "This method utilizes the Poisson distribution to \"simulate\" every game of the season, assuming every game is against a league average team. For each game, the model will predict a value (from the Poisson distribution) for runs scored and allowed for both teams, take the average, and determine the winner.\n",
    "\n",
    "https://nejsds.nestat.org/journal/NEJSDS/article/1/read"
   ]
  },
  {
   "cell_type": "code",
   "execution_count": 8,
   "id": "ee56c01e-f498-4974-9c4e-0eca7ee00a81",
   "metadata": {},
   "outputs": [],
   "source": [
    "def poisson_distribution(avg_rs, avg_ra, opp_avg_rs, opp_avg_ra):\n",
    "    opp_aggr_rs = random.poisson(lam=opp_avg_rs, size=162)\n",
    "    opp_aggr_ra = random.poisson(lam=opp_avg_ra, size=162)\n",
    "    \n",
    "    aggr_rs = random.poisson(lam=avg_rs, size=162)\n",
    "    aggr_ra = random.poisson(lam=avg_ra, size=162)\n",
    "    \n",
    "    wins = 0\n",
    "    losses = 0\n",
    "    \n",
    "    for i in range(0, 162):\n",
    "        runs_scored = (aggr_rs[i] + opp_aggr_ra[i]) / 2\n",
    "        runs_allowed = (aggr_ra[i] + opp_aggr_rs[i]) / 2\n",
    "    \n",
    "        if runs_scored >= runs_allowed: # what to do with tied scores?\n",
    "            wins += 1\n",
    "        else:\n",
    "            losses += 1\n",
    "    \n",
    "    win_pct = wins / 162\n",
    "\n",
    "    return (win_pct, wins, losses)"
   ]
  },
  {
   "cell_type": "code",
   "execution_count": 13,
   "id": "72eef51d-abd5-4709-9774-b102ea41435f",
   "metadata": {},
   "outputs": [
    {
     "name": "stdout",
     "output_type": "stream",
     "text": [
      "Poisson distribution\n",
      "--------------------\n",
      "LAD: 116-46 (0.716)\n",
      "SDP: 91-71 (0.562)\n"
     ]
    }
   ],
   "source": [
    "print('Poisson distribution')\n",
    "print('-' * 20)\n",
    "\n",
    "lad_win_pct, lad_wins, lad_losses = poisson_distribution(lad_avg_rs, lad_avg_ra, lg_avg_rs, lg_avg_ra)\n",
    "print(f'LAD: {lad_wins}-{lad_losses} ({round(lad_win_pct, 3)})')\n",
    "\n",
    "sdp_win_pct, sdp_wins, sdp_losses = poisson_distribution(sdp_avg_rs, sdp_avg_ra, lg_avg_rs, lg_avg_ra)\n",
    "print(f'SDP: {sdp_wins}-{sdp_losses} ({round(sdp_win_pct, 3)})')"
   ]
  }
 ],
 "metadata": {
  "kernelspec": {
   "display_name": "env",
   "language": "python",
   "name": "env"
  },
  "language_info": {
   "codemirror_mode": {
    "name": "ipython",
    "version": 3
   },
   "file_extension": ".py",
   "mimetype": "text/x-python",
   "name": "python",
   "nbconvert_exporter": "python",
   "pygments_lexer": "ipython3",
   "version": "3.12.4"
  }
 },
 "nbformat": 4,
 "nbformat_minor": 5
}
