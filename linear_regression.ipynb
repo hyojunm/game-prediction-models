{
 "cells": [
  {
   "cell_type": "code",
   "execution_count": 3,
   "id": "35d69568-21ac-4828-8d16-c58ad0922a19",
   "metadata": {},
   "outputs": [],
   "source": [
    "import pandas as pd\n",
    "\n",
    "from sklearn.linear_model import LinearRegression\n",
    "from sklearn.preprocessing import StandardScaler\n",
    "from sklearn.pipeline import Pipeline\n",
    "\n",
    "from analysis import wl_accuracy, season_record, runs_per_game\n",
    "from data_format import create_data"
   ]
  },
  {
   "cell_type": "code",
   "execution_count": 4,
   "id": "1fc11f6d-3dbd-401d-9e5e-f9682a7e9c22",
   "metadata": {},
   "outputs": [],
   "source": [
    "version = 6\n",
    "df = pd.read_csv(f'./data/baseball/training/game_data_v{version}.csv')"
   ]
  },
  {
   "cell_type": "code",
   "execution_count": 26,
   "id": "1d95e94e-c3b7-4c6b-8019-7581aa3bec8c",
   "metadata": {},
   "outputs": [],
   "source": [
    "season = 2019"
   ]
  },
  {
   "cell_type": "code",
   "execution_count": 27,
   "id": "01c1c9d2-6ee8-42a4-a6f4-bc5a31fbc30f",
   "metadata": {},
   "outputs": [],
   "source": [
    "x_train_away, x_test_away, y_train_away, y_test_away = create_data(df, drop_cols=['away_score', 'home_score',\n",
    "                                                                              'away_team', 'home_team',\n",
    "                                                                              'away_team_xfip', 'away_starter_xfip',\n",
    "                                                                              'home_lineup_xwoba', 'home_run_diff',\n",
    "                                                                              'away_team_xwoba_diff', 'away_run_diff'],\n",
    "                                                                   y_col='away_score',\n",
    "                                                                   split_by='season',\n",
    "                                                                   season=season)\n",
    "x_train_home, x_test_home, y_train_home, y_test_home = create_data(df, drop_cols=['away_score', 'home_score',\n",
    "                                                                              'away_team', 'home_team',\n",
    "                                                                              'home_team_xfip', 'home_starter_xfip',\n",
    "                                                                              'away_lineup_xwoba', 'away_run_diff',\n",
    "                                                                              'home_team_xwoba_diff', 'home_run_diff'],\n",
    "                                                                   y_col='home_score',\n",
    "                                                                   split_by='season',\n",
    "                                                                   season=season)"
   ]
  },
  {
   "cell_type": "code",
   "execution_count": 28,
   "id": "def699b6-cab6-40fe-99f4-c239fa6b05d9",
   "metadata": {},
   "outputs": [
    {
     "name": "stdout",
     "output_type": "stream",
     "text": [
      "LINEAR REGRESSION MODEL - testing on 2019 season\n",
      "Accuracy: 61.09510086455331%\n",
      "------------------------------\n",
      "Season records:\n",
      "LAD: 160-2\tHOU: 151-11\tNYY: 139-23\tTB: 128-34\tATL: 125-37\t\n",
      "BOS: 125-37\tCLE: 120-42\tWSH: 119-43\tMIN: 115-47\tMIL: 110-52\t\n",
      "NYM: 107-55\tOAK: 105-57\tCHC: 101-61\tSTL: 96-66\tLAA: 77-85\t\n",
      "AZ: 73-89\tPHI: 72-90\tCIN: 64-98\tPIT: 57-105\tSD: 55-107\t\n",
      "TOR: 53-109\tSF: 52-110\tCOL: 44-118\tSEA: 39-123\tTEX: 39-123\t\n",
      "DET: 38-124\tCWS: 35-127\tKC: 15-147\tBAL: 8-154\tMIA: 7-155\t\n",
      "------------------------------\n",
      "Runs scored per game:\n",
      "NYY: 5.24 (848)\tMIN: 5.21 (843)\tHOU: 5.2 (843)\tBOS: 5.2 (842)\tOAK: 5.14 (832)\t\n",
      "TB: 5.01 (812)\tLAD: 4.99 (809)\tCLE: 4.98 (807)\tATL: 4.94 (801)\tLAA: 4.85 (785)\t\n",
      "WSH: 4.85 (785)\tMIL: 4.78 (775)\tNYM: 4.65 (754)\tSTL: 4.63 (750)\tTOR: 4.6 (746)\t\n",
      "PHI: 4.59 (744)\tCHC: 4.58 (742)\tTEX: 4.57 (741)\tPIT: 4.53 (735)\tSEA: 4.48 (725)\t\n",
      "AZ: 4.44 (720)\tSF: 4.43 (717)\tCWS: 4.35 (705)\tCOL: 4.34 (703)\tKC: 4.33 (702)\t\n",
      "CIN: 4.33 (702)\tDET: 4.33 (702)\tSD: 4.3 (697)\tBAL: 4.2 (680)\tMIA: 4.1 (664)\t\n"
     ]
    }
   ],
   "source": [
    "model_away = Pipeline([('scaler', StandardScaler()),\n",
    "                       ('model', LinearRegression())])\n",
    "model_home = Pipeline([('scaler', StandardScaler()),\n",
    "                       ('model', LinearRegression())])\n",
    "\n",
    "model_away.fit(x_train_away, y_train_away)\n",
    "model_home.fit(x_train_home, y_train_home)\n",
    "\n",
    "pred_away = model_away.predict(x_test_away)\n",
    "pred_home = model_home.predict(x_test_home)\n",
    "\n",
    "results = pd.DataFrame({'away_pred': pred_away, 'home_pred': pred_home, 'away_true': y_test_away, 'home_true': y_test_home})\n",
    "results.describe()\n",
    "\n",
    "print(f'LINEAR REGRESSION MODEL - testing on {season} season')\n",
    "print(f'Accuracy: {wl_accuracy(results)}%')\n",
    "print('-' * 30)\n",
    "season_record(df, results, season=season)\n",
    "print('-' * 30)\n",
    "runs_per_game(df, results, season=season)"
   ]
  }
 ],
 "metadata": {
  "kernelspec": {
   "display_name": "env",
   "language": "python",
   "name": "env"
  },
  "language_info": {
   "codemirror_mode": {
    "name": "ipython",
    "version": 3
   },
   "file_extension": ".py",
   "mimetype": "text/x-python",
   "name": "python",
   "nbconvert_exporter": "python",
   "pygments_lexer": "ipython3",
   "version": "3.12.4"
  }
 },
 "nbformat": 4,
 "nbformat_minor": 5
}
