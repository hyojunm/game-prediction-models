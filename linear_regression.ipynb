{
 "cells": [
  {
   "cell_type": "code",
   "execution_count": 1,
   "id": "35d69568-21ac-4828-8d16-c58ad0922a19",
   "metadata": {},
   "outputs": [],
   "source": [
    "import random\n",
    "import pandas as pd\n",
    "import numpy as np\n",
    "import matplotlib.pyplot as plt\n",
    "\n",
    "from sklearn.ensemble import RandomForestRegressor, RandomForestClassifier\n",
    "from sklearn.multioutput import MultiOutputRegressor\n",
    "from sklearn.model_selection import GridSearchCV, train_test_split\n",
    "from sklearn.preprocessing import StandardScaler, QuantileTransformer, Normalizer\n",
    "from sklearn.pipeline import Pipeline\n",
    "from sklearn.metrics import mean_squared_error, make_scorer\n",
    "from sklearn.linear_model import LinearRegression, LogisticRegression, PoissonRegressor\n",
    "from sklearn.tree import DecisionTreeRegressor\n",
    "\n",
    "import graphviz\n",
    "from sklearn.tree import export_graphviz\n",
    "from IPython.display import Image\n",
    "\n",
    "import statsmodels.api as sm\n",
    "from statsmodels.stats.outliers_influence import variance_inflation_factor\n",
    "\n",
    "from analysis import get_feature_importances, visualize_decision_trees, get_vif, wl_accuracy, season_record, runs_per_game"
   ]
  },
  {
   "cell_type": "code",
   "execution_count": 2,
   "id": "1fc11f6d-3dbd-401d-9e5e-f9682a7e9c22",
   "metadata": {},
   "outputs": [],
   "source": [
    "version = 6\n",
    "df = pd.read_csv(f'./data/baseball/training/game_data_v{version}.csv')"
   ]
  },
  {
   "cell_type": "code",
   "execution_count": 3,
   "id": "747d475e-cd09-4cb2-83c6-839edab0cf2d",
   "metadata": {},
   "outputs": [],
   "source": [
    "# create the appropriate training and testing data based on home/away, dropping columns as needed\n",
    "def create_data(drop_cols=['away_score', 'home_score', 'away_team', 'home_team'], y_col='away_score', split_by='random'):\n",
    "    y = df[y_col]\n",
    "    x = df.drop(drop_cols, axis=1)\n",
    "\n",
    "    if split_by == 'season':\n",
    "        x_train, x_test = x.iloc[0:13047], x.iloc[13047:]\n",
    "        y_train, y_test = y.iloc[0:13047], y.iloc[13047:]\n",
    "    else:\n",
    "        x_train, x_test, y_train, y_test = train_test_split(x, y, shuffle=True)\n",
    "    \n",
    "    return x_train, x_test, y_train, y_test"
   ]
  },
  {
   "cell_type": "code",
   "execution_count": 5,
   "id": "01c1c9d2-6ee8-42a4-a6f4-bc5a31fbc30f",
   "metadata": {},
   "outputs": [],
   "source": [
    "x_train_away, x_test_away, y_train_away, y_test_away = create_data(drop_cols=['away_score', 'home_score',\n",
    "                                                                              'away_team', 'home_team',\n",
    "                                                                              'away_team_xfip', 'away_starter_xfip',\n",
    "                                                                              'home_lineup_xwoba', 'home_run_diff',\n",
    "                                                                              'away_team_xwoba_diff', 'away_run_diff'],\n",
    "                                                                   y_col='away_score',\n",
    "                                                                   split_by='season')\n",
    "x_train_home, x_test_home, y_train_home, y_test_home = create_data(drop_cols=['away_score', 'home_score',\n",
    "                                                                              'away_team', 'home_team',\n",
    "                                                                              'home_team_xfip', 'home_starter_xfip',\n",
    "                                                                              'away_lineup_xwoba', 'away_run_diff',\n",
    "                                                                              'home_team_xwoba_diff', 'home_run_diff'],\n",
    "                                                                   y_col='home_score',\n",
    "                                                                   split_by='season')"
   ]
  },
  {
   "cell_type": "code",
   "execution_count": 7,
   "id": "def699b6-cab6-40fe-99f4-c239fa6b05d9",
   "metadata": {},
   "outputs": [
    {
     "name": "stdout",
     "output_type": "stream",
     "text": [
      "LINEAR REGRESSION MODEL\n",
      "Accuracy: 60.041152263374485%\n",
      "------------------------------\n",
      "Season records:\n",
      "HOU: 143-19\tATL: 142-20\tLAD: 141-21\tPHI: 124-38\tTB: 122-40\t\n",
      "TOR: 121-41\tSD: 120-42\tMIN: 118-44\tTEX: 115-47\tSEA: 111-51\t\n",
      "MIL: 108-54\tCHC: 103-59\tNYM: 101-61\tBAL: 85-77\tCLE: 81-81\t\n",
      "SF: 76-86\tBOS: 70-92\tNYY: 70-92\tLAA: 68-94\tAZ: 66-96\t\n",
      "MIA: 63-99\tSTL: 60-102\tCIN: 54-108\tDET: 49-113\tCWS: 38-124\t\n",
      "PIT: 31-131\tKC: 21-141\tWSH: 14-148\tCOL: 10-152\tOAK: 5-157\t\n",
      "------------------------------\n",
      "Runs scored per game:\n",
      "ATL: 5.52 (894)\tLAD: 5.26 (852)\tHOU: 4.88 (791)\tTEX: 4.88 (790)\tPHI: 4.86 (787)\t\n",
      "TB: 4.79 (777)\tSD: 4.74 (768)\tTOR: 4.7 (762)\tCIN: 4.69 (759)\tMIN: 4.68 (758)\t\n",
      "CHC: 4.58 (742)\tBOS: 4.56 (738)\tNYM: 4.54 (736)\tSEA: 4.52 (732)\tBAL: 4.49 (727)\t\n",
      "STL: 4.48 (726)\tAZ: 4.43 (718)\tLAA: 4.4 (713)\tMIL: 4.35 (705)\tNYY: 4.17 (676)\t\n",
      "SF: 4.14 (671)\tCLE: 4.14 (670)\tMIA: 4.11 (666)\tCOL: 4.1 (664)\tCWS: 4.02 (651)\t\n",
      "PIT: 4.01 (650)\tWSH: 3.99 (647)\tKC: 3.95 (640)\tDET: 3.91 (633)\tOAK: 3.55 (575)\t\n"
     ]
    }
   ],
   "source": [
    "model_away = Pipeline([('scaler', StandardScaler()),\n",
    "                       ('model', LinearRegression())])\n",
    "model_home = Pipeline([('scaler', StandardScaler()),\n",
    "                       ('model', LinearRegression())])\n",
    "\n",
    "model_away.fit(x_train_away, y_train_away)\n",
    "model_home.fit(x_train_home, y_train_home)\n",
    "\n",
    "pred_away = model_away.predict(x_test_away)\n",
    "pred_home = model_home.predict(x_test_home)\n",
    "\n",
    "results = pd.DataFrame({'away_pred': pred_away, 'home_pred': pred_home, 'away_true': y_test_away, 'home_true': y_test_home})\n",
    "results.describe()\n",
    "\n",
    "print('LINEAR REGRESSION MODEL')\n",
    "print(f'Accuracy: {wl_accuracy(results)}%')\n",
    "print('-' * 30)\n",
    "season_record(df, results)\n",
    "print('-' * 30)\n",
    "runs_per_game(df, results)"
   ]
  }
 ],
 "metadata": {
  "kernelspec": {
   "display_name": "env",
   "language": "python",
   "name": "env"
  },
  "language_info": {
   "codemirror_mode": {
    "name": "ipython",
    "version": 3
   },
   "file_extension": ".py",
   "mimetype": "text/x-python",
   "name": "python",
   "nbconvert_exporter": "python",
   "pygments_lexer": "ipython3",
   "version": "3.12.4"
  }
 },
 "nbformat": 4,
 "nbformat_minor": 5
}
