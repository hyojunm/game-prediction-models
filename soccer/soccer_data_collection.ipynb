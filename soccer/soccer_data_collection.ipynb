{
 "cells": [
  {
   "cell_type": "code",
   "execution_count": null,
   "id": "22184715-76ea-4d0c-a7f5-2df745f6eed7",
   "metadata": {},
   "outputs": [],
   "source": [
    "import sys\n",
    "!{sys.executable} -m pip install --upgrade pip\n",
    "!{sys.executable} -m pip install pandas matplotlib"
   ]
  },
  {
   "cell_type": "code",
   "execution_count": 152,
   "id": "c5465aca-2614-4793-a981-3ff2274b45bd",
   "metadata": {},
   "outputs": [],
   "source": [
    "import sqlite3, random\n",
    "import xml.dom.minidom as xd\n",
    "import pandas as pd\n",
    "import matplotlib.pyplot as plt"
   ]
  },
  {
   "cell_type": "code",
   "execution_count": 69,
   "id": "79644404-a5a2-44a8-ae51-71e0468379a6",
   "metadata": {},
   "outputs": [],
   "source": [
    "conn = sqlite3.connect('../data/soccer/database.sqlite')"
   ]
  },
  {
   "cell_type": "code",
   "execution_count": 81,
   "id": "7fe94f9c-7cde-4b86-906c-b8fc15af4e16",
   "metadata": {},
   "outputs": [],
   "source": [
    "df = pd.read_sql_query('''SELECT Match.date, Match.league_id,\n",
    "                                    AwayTeam.team_long_name AS away_team_name, Match.away_team_goal,\n",
    "                                    HomeTeam.team_long_name AS home_team_name, Match.home_team_goal,\n",
    "                                    Match.home_player_X1, Match.home_player_Y1,\n",
    "                                    Match.home_player_X2, Match.home_player_Y2,\n",
    "                                    Match.home_player_X3, Match.home_player_Y3,\n",
    "                                    Match.home_player_X4, Match.home_player_Y4,\n",
    "                                    Match.home_player_X5, Match.home_player_Y5,\n",
    "                                    Match.home_player_X6, Match.home_player_Y6,\n",
    "                                    Match.home_player_X7, Match.home_player_Y7,\n",
    "                                    Match.home_player_X8, Match.home_player_Y8,\n",
    "                                    Match.home_player_X9, Match.home_player_Y9,\n",
    "                                    Match.home_player_X10, Match.home_player_Y10,\n",
    "                                    Match.home_player_X11, Match.home_player_Y11,\n",
    "                                    Match.away_player_X1, Match.away_player_Y1,\n",
    "                                    Match.away_player_X2, Match.away_player_Y2,\n",
    "                                    Match.away_player_X3, Match.away_player_Y3,\n",
    "                                    Match.away_player_X4, Match.away_player_Y4,\n",
    "                                    Match.away_player_X5, Match.away_player_Y5,\n",
    "                                    Match.away_player_X6, Match.away_player_Y6,\n",
    "                                    Match.away_player_X7, Match.away_player_Y7,\n",
    "                                    Match.away_player_X8, Match.away_player_Y8,\n",
    "                                    Match.away_player_X9, Match.away_player_Y9,\n",
    "                                    Match.away_player_X10, Match.away_player_Y10,\n",
    "                                    Match.away_player_X11, Match.away_player_Y11\n",
    "                        FROM Match\n",
    "                        JOIN Team AwayTeam ON AwayTeam.team_api_id = Match.away_team_api_id\n",
    "                        JOIN Team HomeTeam ON HomeTeam.team_api_id = Match.home_team_api_id\n",
    "                        JOIN League ON League.country_id = Match.league_id AND League.name = \"England Premier League\"''', conn)"
   ]
  },
  {
   "cell_type": "code",
   "execution_count": 157,
   "id": "97b4d5ce-6c45-41a5-a63d-2124a2584fa7",
   "metadata": {},
   "outputs": [
    {
     "name": "stdout",
     "output_type": "stream",
     "text": [
      "<?xml version=\"1.0\" ?>\n",
      "<goal>\n",
      "\t<value>\n",
      "\t\t<comment>n</comment>\n",
      "\t\t<stats>\n",
      "\t\t\t<goals>1</goals>\n",
      "\t\t\t<shoton>1</shoton>\n",
      "\t\t</stats>\n",
      "\t\t<event_incident_typefk>407</event_incident_typefk>\n",
      "\t\t<elapsed>22</elapsed>\n",
      "\t\t<player2>23916</player2>\n",
      "\t\t<subtype>distance</subtype>\n",
      "\t\t<player1>30342</player1>\n",
      "\t\t<sortorder>0</sortorder>\n",
      "\t\t<team>8655</team>\n",
      "\t\t<id>376354</id>\n",
      "\t\t<n>252</n>\n",
      "\t\t<type>goal</type>\n",
      "\t\t<goal_type>n</goal_type>\n",
      "\t</value>\n",
      "\t<value>\n",
      "\t\t<comment>n</comment>\n",
      "\t\t<stats>\n",
      "\t\t\t<goals>1</goals>\n",
      "\t\t\t<shoton>1</shoton>\n",
      "\t\t</stats>\n",
      "\t\t<elapsed_plus>2</elapsed_plus>\n",
      "\t\t<event_incident_typefk>130</event_incident_typefk>\n",
      "\t\t<elapsed>45</elapsed>\n",
      "\t\t<subtype>direct_freekick</subtype>\n",
      "\t\t<player1>24011</player1>\n",
      "\t\t<sortorder>0</sortorder>\n",
      "\t\t<team>8668</team>\n",
      "\t\t<id>376795</id>\n",
      "\t\t<n>277</n>\n",
      "\t\t<type>goal</type>\n",
      "\t\t<goal_type>n</goal_type>\n",
      "\t</value>\n",
      "\t<value>\n",
      "\t\t<comment>n</comment>\n",
      "\t\t<stats>\n",
      "\t\t\t<goals>1</goals>\n",
      "\t\t\t<shoton>1</shoton>\n",
      "\t\t</stats>\n",
      "\t\t<event_incident_typefk>406</event_incident_typefk>\n",
      "\t\t<elapsed>65</elapsed>\n",
      "\t\t<player2>24011</player2>\n",
      "\t\t<subtype>header</subtype>\n",
      "\t\t<player1>24160</player1>\n",
      "\t\t<sortorder>0</sortorder>\n",
      "\t\t<team>8668</team>\n",
      "\t\t<id>377232</id>\n",
      "\t\t<n>305</n>\n",
      "\t\t<type>goal</type>\n",
      "\t\t<goal_type>n</goal_type>\n",
      "\t</value>\n",
      "\t<value>\n",
      "\t\t<comment>n</comment>\n",
      "\t\t<stats>\n",
      "\t\t\t<goals>1</goals>\n",
      "\t\t\t<shoton>1</shoton>\n",
      "\t\t</stats>\n",
      "\t\t<event_incident_typefk>393</event_incident_typefk>\n",
      "\t\t<elapsed>67</elapsed>\n",
      "\t\t<player2>24136</player2>\n",
      "\t\t<subtype>shot</subtype>\n",
      "\t\t<player1>30646</player1>\n",
      "\t\t<sortorder>0</sortorder>\n",
      "\t\t<team>8655</team>\n",
      "\t\t<id>377255</id>\n",
      "\t\t<n>297</n>\n",
      "\t\t<type>goal</type>\n",
      "\t\t<goal_type>n</goal_type>\n",
      "\t</value>\n",
      "\t<value>\n",
      "\t\t<comment>n</comment>\n",
      "\t\t<stats>\n",
      "\t\t\t<goals>1</goals>\n",
      "\t\t\t<shoton>1</shoton>\n",
      "\t\t</stats>\n",
      "\t\t<elapsed_plus>5</elapsed_plus>\n",
      "\t\t<event_incident_typefk>393</event_incident_typefk>\n",
      "\t\t<elapsed>90</elapsed>\n",
      "\t\t<player2>23921</player2>\n",
      "\t\t<subtype>shot</subtype>\n",
      "\t\t<player1>37764</player1>\n",
      "\t\t<sortorder>1</sortorder>\n",
      "\t\t<team>8655</team>\n",
      "\t\t<id>377671</id>\n",
      "\t\t<n>320</n>\n",
      "\t\t<type>goal</type>\n",
      "\t\t<goal_type>n</goal_type>\n",
      "\t</value>\n",
      "</goal>\n",
      "\n"
     ]
    }
   ],
   "source": [
    "pd.set_option('display.max_columns', None)\n",
    "df2 = pd.read_sql_query('select * from Match join League on League.country_id = Match.league_id and League.name = \"England Premier League\"', conn)\n",
    "goal_info = df2['goal'].iloc[5]\n",
    "print(xd.parseString(goal_info).toprettyxml())"
   ]
  },
  {
   "cell_type": "code",
   "execution_count": 181,
   "id": "5aca5ab8-d709-473e-b2ad-d0d9783302b4",
   "metadata": {},
   "outputs": [
    {
     "name": "stdout",
     "output_type": "stream",
     "text": [
      "(away) Fulham 0 : 1 Everton (home)\n"
     ]
    },
    {
     "data": {
      "image/png": "[encoded data removed]",
      "text/plain": [
       "<Figure size 500x800 with 1 Axes>"
      ]
     },
     "metadata": {},
     "output_type": "display_data"
    }
   ],
   "source": [
    "game_id = random.randint(0, 3039)\n",
    "show_result(df, game_id)\n",
    "show_formations(df, game_id)"
   ]
  },
  {
   "cell_type": "code",
   "execution_count": 121,
   "id": "b86b405b-8e7d-44ed-918f-8cdc10196d92",
   "metadata": {},
   "outputs": [],
   "source": [
    "def show_result(df, game_id):\n",
    "    game = df.iloc[game_id]\n",
    "    print(f'(away) {game['away_team_name']} {game['away_team_goal']} : {game['home_team_goal']} {game['home_team_name']} (home)')"
   ]
  },
  {
   "cell_type": "code",
   "execution_count": 112,
   "id": "9a9534b1-b977-4827-b0ba-d2c279997e15",
   "metadata": {},
   "outputs": [],
   "source": [
    "def show_formations(df, game_id):\n",
    "    plt.figure(figsize=(5, 8))\n",
    "    \n",
    "    x = []\n",
    "    y = []\n",
    "    \n",
    "    for i in range(2, 12):\n",
    "        x.append(df[f'away_player_X{i}'].iloc[game_id])\n",
    "        y.append(30 - df[f'away_player_Y{i}'].iloc[game_id])\n",
    "    \n",
    "    plt.plot(x, y, 'o', color='r')\n",
    "        \n",
    "    x = []\n",
    "    y = []\n",
    "    \n",
    "    for i in range(2, 12):\n",
    "        x.append(df[f'home_player_X{i}'].iloc[game_id])\n",
    "        y.append(df[f'home_player_Y{i}'].iloc[game_id])\n",
    "    \n",
    "    plt.plot(x, y, 'o', color='b')\n",
    "    plt.plot([0,10],[15,15],color='g')\n",
    "\n",
    "    plt.legend([df['away_team_name'].iloc[game_id], df['home_team_name'].iloc[game_id]])\n",
    "    plt.axis('off')\n",
    "    plt.show()"
   ]
  }
 ],
 "metadata": {
  "kernelspec": {
   "display_name": "env",
   "language": "python",
   "name": "env"
  },
  "language_info": {
   "codemirror_mode": {
    "name": "ipython",
    "version": 3
   },
   "file_extension": ".py",
   "mimetype": "text/x-python",
   "name": "python",
   "nbconvert_exporter": "python",
   "pygments_lexer": "ipython3",
   "version": "3.12.4"
  }
 },
 "nbformat": 4,
 "nbformat_minor": 5
}
